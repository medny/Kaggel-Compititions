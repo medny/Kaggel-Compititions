{
 "cells": [
  {
   "cell_type": "markdown",
   "id": "47533dbc",
   "metadata": {
    "execution": {
     "iopub.execute_input": "2021-09-22T22:55:49.930955Z",
     "iopub.status.busy": "2021-09-22T22:55:49.925151Z",
     "iopub.status.idle": "2021-09-22T22:55:51.103164Z",
     "shell.execute_reply": "2021-09-22T22:55:51.104269Z",
     "shell.execute_reply.started": "2021-09-22T22:35:29.821407Z"
    },
    "papermill": {
     "duration": 0.051567,
     "end_time": "2021-09-30T02:03:45.817373",
     "exception": false,
     "start_time": "2021-09-30T02:03:45.765806",
     "status": "completed"
    },
    "tags": []
   },
   "source": [
    "# > **Dry Beans Classification**"
   ]
  },
  {
   "cell_type": "markdown",
   "id": "84aae809",
   "metadata": {
    "papermill": {
     "duration": 0.042975,
     "end_time": "2021-09-30T02:03:45.908955",
     "exception": false,
     "start_time": "2021-09-30T02:03:45.865980",
     "status": "completed"
    },
    "tags": []
   },
   "source": [
    "**Data fields**\n",
    "* ID - an ID for this instance\n",
    "* Area - (A), The area of a bean zone and the number of pixels within its boundaries.\n",
    "* Perimeter - (P), Bean circumference is defined as the length of its border.\n",
    "* MajorAxisLength - (L), The distance between the ends of the longest line that can be drawn from a bean.\n",
    "* MinorAxisLength - (l), The longest line that can be drawn from the bean while standing perpendicular to the main axis.\n",
    "* AspectRatio - (K), Defines the relationship between L and l.\n",
    "* Eccentricity - (Ec), Eccentricity of the ellipse having the same moments as the region.\n",
    "* ConvexArea - (C), Number of pixels in the smallest convex polygon that can contain the area of a bean seed.\n",
    "* EquivDiameter - (Ed), The diameter of a circle having the same area as a bean seed area.\n",
    "* Extent - (Ex), The ratio of the pixels in the bounding box to the bean area.\n",
    "* Solidity - (S), Also known as convexity. The ratio of the pixels in the convex shell to those found in beans.\n",
    "* Roundness - (R), Calculated with the following formula: (4piA)/(P^2)\n",
    "* Compactness - (CO), Measures the roundness of an object: Ed/L\n",
    "* ShapeFactor1 - (SF1)\n",
    "* ShapeFactor2 - (SF2)\n",
    "* ShapeFactor3 - (SF3)\n",
    "* ShapeFactor4 - (SF4)\n",
    "* y - the class of the bean. It can be any of BARBUNYA, SIRA, HOROZ, DERMASON, CALI, BOMBAY, and SEKER."
   ]
  },
  {
   "cell_type": "markdown",
   "id": "e3e1e614",
   "metadata": {
    "papermill": {
     "duration": 0.043507,
     "end_time": "2021-09-30T02:03:45.996587",
     "exception": false,
     "start_time": "2021-09-30T02:03:45.953080",
     "status": "completed"
    },
    "tags": []
   },
   "source": [
    "# > **IMPORT LIBERIRES AND READ THE DATA**"
   ]
  },
  {
   "cell_type": "code",
   "execution_count": 1,
   "id": "3ea31800",
   "metadata": {
    "execution": {
     "iopub.execute_input": "2021-09-30T02:03:46.088137Z",
     "iopub.status.busy": "2021-09-30T02:03:46.086973Z",
     "iopub.status.idle": "2021-09-30T02:03:47.433160Z",
     "shell.execute_reply": "2021-09-30T02:03:47.433998Z",
     "shell.execute_reply.started": "2021-09-30T01:47:06.078279Z"
    },
    "papermill": {
     "duration": 1.394503,
     "end_time": "2021-09-30T02:03:47.434419",
     "exception": false,
     "start_time": "2021-09-30T02:03:46.039916",
     "status": "completed"
    },
    "tags": []
   },
   "outputs": [
    {
     "name": "stdout",
     "output_type": "stream",
     "text": [
      "The Shape of the train_dataSet is (10834, 18).\n",
      "\n",
      "The Shape of the test_dataSet is (2709, 17).\n",
      "\n"
     ]
    },
    {
     "data": {
      "text/html": [
       "<div>\n",
       "<style scoped>\n",
       "    .dataframe tbody tr th:only-of-type {\n",
       "        vertical-align: middle;\n",
       "    }\n",
       "\n",
       "    .dataframe tbody tr th {\n",
       "        vertical-align: top;\n",
       "    }\n",
       "\n",
       "    .dataframe thead th {\n",
       "        text-align: right;\n",
       "    }\n",
       "</style>\n",
       "<table border=\"1\" class=\"dataframe\">\n",
       "  <thead>\n",
       "    <tr style=\"text-align: right;\">\n",
       "      <th></th>\n",
       "      <th>ID</th>\n",
       "      <th>Area</th>\n",
       "      <th>Perimeter</th>\n",
       "      <th>MajorAxisLength</th>\n",
       "      <th>MinorAxisLength</th>\n",
       "      <th>AspectRation</th>\n",
       "      <th>Eccentricity</th>\n",
       "      <th>ConvexArea</th>\n",
       "      <th>EquivDiameter</th>\n",
       "      <th>Extent</th>\n",
       "      <th>Solidity</th>\n",
       "      <th>roundness</th>\n",
       "      <th>Compactness</th>\n",
       "      <th>ShapeFactor1</th>\n",
       "      <th>ShapeFactor2</th>\n",
       "      <th>ShapeFactor3</th>\n",
       "      <th>ShapeFactor4</th>\n",
       "      <th>y</th>\n",
       "    </tr>\n",
       "  </thead>\n",
       "  <tbody>\n",
       "    <tr>\n",
       "      <th>0</th>\n",
       "      <td>0</td>\n",
       "      <td>58238</td>\n",
       "      <td>971.303</td>\n",
       "      <td>397.202654</td>\n",
       "      <td>186.945510</td>\n",
       "      <td>2.124697</td>\n",
       "      <td>0.882317</td>\n",
       "      <td>58977</td>\n",
       "      <td>272.306674</td>\n",
       "      <td>0.604756</td>\n",
       "      <td>0.987470</td>\n",
       "      <td>0.775723</td>\n",
       "      <td>0.685561</td>\n",
       "      <td>0.006820</td>\n",
       "      <td>0.000929</td>\n",
       "      <td>0.469994</td>\n",
       "      <td>0.998595</td>\n",
       "      <td>HOROZ</td>\n",
       "    </tr>\n",
       "    <tr>\n",
       "      <th>1</th>\n",
       "      <td>1</td>\n",
       "      <td>44515</td>\n",
       "      <td>757.601</td>\n",
       "      <td>265.590470</td>\n",
       "      <td>213.967453</td>\n",
       "      <td>1.241266</td>\n",
       "      <td>0.592420</td>\n",
       "      <td>44780</td>\n",
       "      <td>238.071960</td>\n",
       "      <td>0.771745</td>\n",
       "      <td>0.994082</td>\n",
       "      <td>0.974620</td>\n",
       "      <td>0.896387</td>\n",
       "      <td>0.005966</td>\n",
       "      <td>0.002376</td>\n",
       "      <td>0.803510</td>\n",
       "      <td>0.997370</td>\n",
       "      <td>SEKER</td>\n",
       "    </tr>\n",
       "    <tr>\n",
       "      <th>2</th>\n",
       "      <td>2</td>\n",
       "      <td>31662</td>\n",
       "      <td>653.783</td>\n",
       "      <td>239.902428</td>\n",
       "      <td>168.421505</td>\n",
       "      <td>1.424417</td>\n",
       "      <td>0.712136</td>\n",
       "      <td>32034</td>\n",
       "      <td>200.781748</td>\n",
       "      <td>0.801407</td>\n",
       "      <td>0.988387</td>\n",
       "      <td>0.930853</td>\n",
       "      <td>0.836931</td>\n",
       "      <td>0.007577</td>\n",
       "      <td>0.002293</td>\n",
       "      <td>0.700453</td>\n",
       "      <td>0.997737</td>\n",
       "      <td>DERMASON</td>\n",
       "    </tr>\n",
       "    <tr>\n",
       "      <th>3</th>\n",
       "      <td>3</td>\n",
       "      <td>38778</td>\n",
       "      <td>734.020</td>\n",
       "      <td>268.446281</td>\n",
       "      <td>184.061923</td>\n",
       "      <td>1.458456</td>\n",
       "      <td>0.727925</td>\n",
       "      <td>39208</td>\n",
       "      <td>222.201897</td>\n",
       "      <td>0.766137</td>\n",
       "      <td>0.989033</td>\n",
       "      <td>0.904439</td>\n",
       "      <td>0.827733</td>\n",
       "      <td>0.006923</td>\n",
       "      <td>0.002005</td>\n",
       "      <td>0.685142</td>\n",
       "      <td>0.999250</td>\n",
       "      <td>DERMASON</td>\n",
       "    </tr>\n",
       "    <tr>\n",
       "      <th>4</th>\n",
       "      <td>4</td>\n",
       "      <td>42530</td>\n",
       "      <td>775.403</td>\n",
       "      <td>281.212824</td>\n",
       "      <td>193.236878</td>\n",
       "      <td>1.455275</td>\n",
       "      <td>0.726511</td>\n",
       "      <td>43028</td>\n",
       "      <td>232.703412</td>\n",
       "      <td>0.729816</td>\n",
       "      <td>0.988426</td>\n",
       "      <td>0.888895</td>\n",
       "      <td>0.827499</td>\n",
       "      <td>0.006612</td>\n",
       "      <td>0.001912</td>\n",
       "      <td>0.684755</td>\n",
       "      <td>0.996507</td>\n",
       "      <td>SIRA</td>\n",
       "    </tr>\n",
       "  </tbody>\n",
       "</table>\n",
       "</div>"
      ],
      "text/plain": [
       "   ID   Area  Perimeter  MajorAxisLength  MinorAxisLength  AspectRation  \\\n",
       "0   0  58238    971.303       397.202654       186.945510      2.124697   \n",
       "1   1  44515    757.601       265.590470       213.967453      1.241266   \n",
       "2   2  31662    653.783       239.902428       168.421505      1.424417   \n",
       "3   3  38778    734.020       268.446281       184.061923      1.458456   \n",
       "4   4  42530    775.403       281.212824       193.236878      1.455275   \n",
       "\n",
       "   Eccentricity  ConvexArea  EquivDiameter    Extent  Solidity  roundness  \\\n",
       "0      0.882317       58977     272.306674  0.604756  0.987470   0.775723   \n",
       "1      0.592420       44780     238.071960  0.771745  0.994082   0.974620   \n",
       "2      0.712136       32034     200.781748  0.801407  0.988387   0.930853   \n",
       "3      0.727925       39208     222.201897  0.766137  0.989033   0.904439   \n",
       "4      0.726511       43028     232.703412  0.729816  0.988426   0.888895   \n",
       "\n",
       "   Compactness  ShapeFactor1  ShapeFactor2  ShapeFactor3  ShapeFactor4  \\\n",
       "0     0.685561      0.006820      0.000929      0.469994      0.998595   \n",
       "1     0.896387      0.005966      0.002376      0.803510      0.997370   \n",
       "2     0.836931      0.007577      0.002293      0.700453      0.997737   \n",
       "3     0.827733      0.006923      0.002005      0.685142      0.999250   \n",
       "4     0.827499      0.006612      0.001912      0.684755      0.996507   \n",
       "\n",
       "          y  \n",
       "0     HOROZ  \n",
       "1     SEKER  \n",
       "2  DERMASON  \n",
       "3  DERMASON  \n",
       "4      SIRA  "
      ]
     },
     "execution_count": 1,
     "metadata": {},
     "output_type": "execute_result"
    }
   ],
   "source": [
    "# This Python 3 environment comes with many helpful analytics libraries installed\n",
    "# It is defined by the kaggle/python Docker image: https://github.com/kaggle/docker-python\n",
    "# For example, here's several helpful packages to load\n",
    "\n",
    "import numpy as np # linear algebra\n",
    "import pandas as pd # data processing, CSV file I/O (e.g. pd.read_csv)\n",
    "import numpy as np \n",
    "import pandas as pd\n",
    "import seaborn as sns\n",
    "import matplotlib.pyplot as plt\n",
    "import os\n",
    "from sklearn.preprocessing import LabelEncoder\n",
    "from sklearn.model_selection import train_test_split\n",
    "from sklearn.model_selection import cross_val_score\n",
    "from sklearn.metrics import accuracy_score\n",
    "from sklearn.metrics import mean_squared_log_error \n",
    "from sklearn.metrics import mean_squared_error\n",
    "\n",
    "# Input data files are available in the read-only \"../input/\" directory\n",
    "# For example, running this (by clicking run or pressing Shift+Enter) will list all files under the input directory\n",
    "\n",
    "\n",
    "df = pd.read_csv('../input/dry-beans-classification-iti-ai-pro-intake01/train.csv')\n",
    "test_df = pd.read_csv('../input/dry-beans-classification-iti-ai-pro-intake01/test.csv')\n",
    "print(\"The Shape of the train_dataSet is {}.\\n\".format(df.shape))\n",
    "print(\"The Shape of the test_dataSet is {}.\\n\".format(test_df.shape))\n",
    "df.head()\n",
    "\n",
    "# You can write up to 20GB to the current directory (/kaggle/working/) that gets preserved as output when you create a version using \"Save & Run All\" \n",
    "# You can also write temporary files to /kaggle/temp/, but they won't be saved outside of the current session"
   ]
  },
  {
   "cell_type": "markdown",
   "id": "f9cb28f4",
   "metadata": {
    "execution": {
     "iopub.execute_input": "2021-09-22T22:55:51.211499Z",
     "iopub.status.busy": "2021-09-22T22:55:51.210046Z",
     "iopub.status.idle": "2021-09-22T22:55:51.237159Z",
     "shell.execute_reply": "2021-09-22T22:55:51.236311Z",
     "shell.execute_reply.started": "2021-09-22T22:35:30.434075Z"
    },
    "papermill": {
     "duration": 0.057747,
     "end_time": "2021-09-30T02:03:47.559819",
     "exception": false,
     "start_time": "2021-09-30T02:03:47.502072",
     "status": "completed"
    },
    "tags": []
   },
   "source": [
    "# > **EDA**"
   ]
  },
  {
   "cell_type": "code",
   "execution_count": 2,
   "id": "87768ce8",
   "metadata": {
    "execution": {
     "iopub.execute_input": "2021-09-30T02:03:47.660879Z",
     "iopub.status.busy": "2021-09-30T02:03:47.660194Z",
     "iopub.status.idle": "2021-09-30T02:03:47.720845Z",
     "shell.execute_reply": "2021-09-30T02:03:47.721358Z",
     "shell.execute_reply.started": "2021-09-30T01:47:07.473948Z"
    },
    "papermill": {
     "duration": 0.115949,
     "end_time": "2021-09-30T02:03:47.721526",
     "exception": false,
     "start_time": "2021-09-30T02:03:47.605577",
     "status": "completed"
    },
    "tags": []
   },
   "outputs": [
    {
     "data": {
      "text/html": [
       "<div>\n",
       "<style scoped>\n",
       "    .dataframe tbody tr th:only-of-type {\n",
       "        vertical-align: middle;\n",
       "    }\n",
       "\n",
       "    .dataframe tbody tr th {\n",
       "        vertical-align: top;\n",
       "    }\n",
       "\n",
       "    .dataframe thead th {\n",
       "        text-align: right;\n",
       "    }\n",
       "</style>\n",
       "<table border=\"1\" class=\"dataframe\">\n",
       "  <thead>\n",
       "    <tr style=\"text-align: right;\">\n",
       "      <th></th>\n",
       "      <th>count</th>\n",
       "      <th>mean</th>\n",
       "      <th>std</th>\n",
       "      <th>min</th>\n",
       "      <th>25%</th>\n",
       "      <th>50%</th>\n",
       "      <th>75%</th>\n",
       "      <th>max</th>\n",
       "    </tr>\n",
       "  </thead>\n",
       "  <tbody>\n",
       "    <tr>\n",
       "      <th>ID</th>\n",
       "      <td>10834.0</td>\n",
       "      <td>5416.500000</td>\n",
       "      <td>3127.650742</td>\n",
       "      <td>0.000000</td>\n",
       "      <td>2708.250000</td>\n",
       "      <td>5416.500000</td>\n",
       "      <td>8124.750000</td>\n",
       "      <td>10833.000000</td>\n",
       "    </tr>\n",
       "    <tr>\n",
       "      <th>Area</th>\n",
       "      <td>10834.0</td>\n",
       "      <td>53095.675189</td>\n",
       "      <td>29542.542580</td>\n",
       "      <td>20420.000000</td>\n",
       "      <td>36343.500000</td>\n",
       "      <td>44645.000000</td>\n",
       "      <td>61295.000000</td>\n",
       "      <td>254616.000000</td>\n",
       "    </tr>\n",
       "    <tr>\n",
       "      <th>Perimeter</th>\n",
       "      <td>10834.0</td>\n",
       "      <td>855.274892</td>\n",
       "      <td>214.991122</td>\n",
       "      <td>524.932000</td>\n",
       "      <td>703.601250</td>\n",
       "      <td>793.739500</td>\n",
       "      <td>975.517500</td>\n",
       "      <td>1985.370000</td>\n",
       "    </tr>\n",
       "    <tr>\n",
       "      <th>MajorAxisLength</th>\n",
       "      <td>10834.0</td>\n",
       "      <td>320.036169</td>\n",
       "      <td>85.961630</td>\n",
       "      <td>183.601165</td>\n",
       "      <td>253.501071</td>\n",
       "      <td>296.377365</td>\n",
       "      <td>376.068399</td>\n",
       "      <td>738.860153</td>\n",
       "    </tr>\n",
       "    <tr>\n",
       "      <th>MinorAxisLength</th>\n",
       "      <td>10834.0</td>\n",
       "      <td>202.410342</td>\n",
       "      <td>45.113965</td>\n",
       "      <td>129.576207</td>\n",
       "      <td>175.927024</td>\n",
       "      <td>192.525040</td>\n",
       "      <td>217.315195</td>\n",
       "      <td>450.926187</td>\n",
       "    </tr>\n",
       "    <tr>\n",
       "      <th>AspectRation</th>\n",
       "      <td>10834.0</td>\n",
       "      <td>1.581294</td>\n",
       "      <td>0.244314</td>\n",
       "      <td>1.024868</td>\n",
       "      <td>1.432985</td>\n",
       "      <td>1.550761</td>\n",
       "      <td>1.703029</td>\n",
       "      <td>2.388873</td>\n",
       "    </tr>\n",
       "    <tr>\n",
       "      <th>Eccentricity</th>\n",
       "      <td>10834.0</td>\n",
       "      <td>0.750588</td>\n",
       "      <td>0.091481</td>\n",
       "      <td>0.218951</td>\n",
       "      <td>0.716250</td>\n",
       "      <td>0.764314</td>\n",
       "      <td>0.809450</td>\n",
       "      <td>0.908167</td>\n",
       "    </tr>\n",
       "    <tr>\n",
       "      <th>ConvexArea</th>\n",
       "      <td>10834.0</td>\n",
       "      <td>53816.205926</td>\n",
       "      <td>29999.710739</td>\n",
       "      <td>20684.000000</td>\n",
       "      <td>36731.250000</td>\n",
       "      <td>45148.000000</td>\n",
       "      <td>62251.500000</td>\n",
       "      <td>263261.000000</td>\n",
       "    </tr>\n",
       "    <tr>\n",
       "      <th>EquivDiameter</th>\n",
       "      <td>10834.0</td>\n",
       "      <td>253.123583</td>\n",
       "      <td>59.433080</td>\n",
       "      <td>161.243764</td>\n",
       "      <td>215.113880</td>\n",
       "      <td>238.419335</td>\n",
       "      <td>279.362162</td>\n",
       "      <td>569.374358</td>\n",
       "    </tr>\n",
       "    <tr>\n",
       "      <th>Extent</th>\n",
       "      <td>10834.0</td>\n",
       "      <td>0.749937</td>\n",
       "      <td>0.048949</td>\n",
       "      <td>0.555315</td>\n",
       "      <td>0.718778</td>\n",
       "      <td>0.760141</td>\n",
       "      <td>0.786871</td>\n",
       "      <td>0.866195</td>\n",
       "    </tr>\n",
       "    <tr>\n",
       "      <th>Solidity</th>\n",
       "      <td>10834.0</td>\n",
       "      <td>0.987152</td>\n",
       "      <td>0.004626</td>\n",
       "      <td>0.919246</td>\n",
       "      <td>0.985627</td>\n",
       "      <td>0.988290</td>\n",
       "      <td>0.990014</td>\n",
       "      <td>0.994677</td>\n",
       "    </tr>\n",
       "    <tr>\n",
       "      <th>roundness</th>\n",
       "      <td>10834.0</td>\n",
       "      <td>0.873647</td>\n",
       "      <td>0.059344</td>\n",
       "      <td>0.489618</td>\n",
       "      <td>0.833479</td>\n",
       "      <td>0.883472</td>\n",
       "      <td>0.916883</td>\n",
       "      <td>0.990685</td>\n",
       "    </tr>\n",
       "    <tr>\n",
       "      <th>Compactness</th>\n",
       "      <td>10834.0</td>\n",
       "      <td>0.800244</td>\n",
       "      <td>0.061228</td>\n",
       "      <td>0.645368</td>\n",
       "      <td>0.763378</td>\n",
       "      <td>0.801428</td>\n",
       "      <td>0.834068</td>\n",
       "      <td>0.987303</td>\n",
       "    </tr>\n",
       "    <tr>\n",
       "      <th>ShapeFactor1</th>\n",
       "      <td>10834.0</td>\n",
       "      <td>0.006559</td>\n",
       "      <td>0.001127</td>\n",
       "      <td>0.002856</td>\n",
       "      <td>0.005888</td>\n",
       "      <td>0.006643</td>\n",
       "      <td>0.007268</td>\n",
       "      <td>0.009897</td>\n",
       "    </tr>\n",
       "    <tr>\n",
       "      <th>ShapeFactor2</th>\n",
       "      <td>10834.0</td>\n",
       "      <td>0.001718</td>\n",
       "      <td>0.000593</td>\n",
       "      <td>0.000564</td>\n",
       "      <td>0.001161</td>\n",
       "      <td>0.001700</td>\n",
       "      <td>0.002169</td>\n",
       "      <td>0.003665</td>\n",
       "    </tr>\n",
       "    <tr>\n",
       "      <th>ShapeFactor3</th>\n",
       "      <td>10834.0</td>\n",
       "      <td>0.644139</td>\n",
       "      <td>0.098268</td>\n",
       "      <td>0.416499</td>\n",
       "      <td>0.582747</td>\n",
       "      <td>0.642287</td>\n",
       "      <td>0.695670</td>\n",
       "      <td>0.974767</td>\n",
       "    </tr>\n",
       "    <tr>\n",
       "      <th>ShapeFactor4</th>\n",
       "      <td>10834.0</td>\n",
       "      <td>0.995083</td>\n",
       "      <td>0.004306</td>\n",
       "      <td>0.947687</td>\n",
       "      <td>0.993690</td>\n",
       "      <td>0.996397</td>\n",
       "      <td>0.997895</td>\n",
       "      <td>0.999733</td>\n",
       "    </tr>\n",
       "  </tbody>\n",
       "</table>\n",
       "</div>"
      ],
      "text/plain": [
       "                   count          mean           std           min  \\\n",
       "ID               10834.0   5416.500000   3127.650742      0.000000   \n",
       "Area             10834.0  53095.675189  29542.542580  20420.000000   \n",
       "Perimeter        10834.0    855.274892    214.991122    524.932000   \n",
       "MajorAxisLength  10834.0    320.036169     85.961630    183.601165   \n",
       "MinorAxisLength  10834.0    202.410342     45.113965    129.576207   \n",
       "AspectRation     10834.0      1.581294      0.244314      1.024868   \n",
       "Eccentricity     10834.0      0.750588      0.091481      0.218951   \n",
       "ConvexArea       10834.0  53816.205926  29999.710739  20684.000000   \n",
       "EquivDiameter    10834.0    253.123583     59.433080    161.243764   \n",
       "Extent           10834.0      0.749937      0.048949      0.555315   \n",
       "Solidity         10834.0      0.987152      0.004626      0.919246   \n",
       "roundness        10834.0      0.873647      0.059344      0.489618   \n",
       "Compactness      10834.0      0.800244      0.061228      0.645368   \n",
       "ShapeFactor1     10834.0      0.006559      0.001127      0.002856   \n",
       "ShapeFactor2     10834.0      0.001718      0.000593      0.000564   \n",
       "ShapeFactor3     10834.0      0.644139      0.098268      0.416499   \n",
       "ShapeFactor4     10834.0      0.995083      0.004306      0.947687   \n",
       "\n",
       "                          25%           50%           75%            max  \n",
       "ID                2708.250000   5416.500000   8124.750000   10833.000000  \n",
       "Area             36343.500000  44645.000000  61295.000000  254616.000000  \n",
       "Perimeter          703.601250    793.739500    975.517500    1985.370000  \n",
       "MajorAxisLength    253.501071    296.377365    376.068399     738.860153  \n",
       "MinorAxisLength    175.927024    192.525040    217.315195     450.926187  \n",
       "AspectRation         1.432985      1.550761      1.703029       2.388873  \n",
       "Eccentricity         0.716250      0.764314      0.809450       0.908167  \n",
       "ConvexArea       36731.250000  45148.000000  62251.500000  263261.000000  \n",
       "EquivDiameter      215.113880    238.419335    279.362162     569.374358  \n",
       "Extent               0.718778      0.760141      0.786871       0.866195  \n",
       "Solidity             0.985627      0.988290      0.990014       0.994677  \n",
       "roundness            0.833479      0.883472      0.916883       0.990685  \n",
       "Compactness          0.763378      0.801428      0.834068       0.987303  \n",
       "ShapeFactor1         0.005888      0.006643      0.007268       0.009897  \n",
       "ShapeFactor2         0.001161      0.001700      0.002169       0.003665  \n",
       "ShapeFactor3         0.582747      0.642287      0.695670       0.974767  \n",
       "ShapeFactor4         0.993690      0.996397      0.997895       0.999733  "
      ]
     },
     "execution_count": 2,
     "metadata": {},
     "output_type": "execute_result"
    }
   ],
   "source": [
    "df.describe().T"
   ]
  },
  {
   "cell_type": "code",
   "execution_count": 3,
   "id": "1460822d",
   "metadata": {
    "execution": {
     "iopub.execute_input": "2021-09-30T02:03:47.817286Z",
     "iopub.status.busy": "2021-09-30T02:03:47.815403Z",
     "iopub.status.idle": "2021-09-30T02:03:47.831554Z",
     "shell.execute_reply": "2021-09-30T02:03:47.832101Z",
     "shell.execute_reply.started": "2021-09-30T01:47:07.551793Z"
    },
    "papermill": {
     "duration": 0.065484,
     "end_time": "2021-09-30T02:03:47.832272",
     "exception": false,
     "start_time": "2021-09-30T02:03:47.766788",
     "status": "completed"
    },
    "tags": []
   },
   "outputs": [
    {
     "name": "stdout",
     "output_type": "stream",
     "text": [
      "<class 'pandas.core.frame.DataFrame'>\n",
      "RangeIndex: 10834 entries, 0 to 10833\n",
      "Data columns (total 18 columns):\n",
      " #   Column           Non-Null Count  Dtype  \n",
      "---  ------           --------------  -----  \n",
      " 0   ID               10834 non-null  int64  \n",
      " 1   Area             10834 non-null  int64  \n",
      " 2   Perimeter        10834 non-null  float64\n",
      " 3   MajorAxisLength  10834 non-null  float64\n",
      " 4   MinorAxisLength  10834 non-null  float64\n",
      " 5   AspectRation     10834 non-null  float64\n",
      " 6   Eccentricity     10834 non-null  float64\n",
      " 7   ConvexArea       10834 non-null  int64  \n",
      " 8   EquivDiameter    10834 non-null  float64\n",
      " 9   Extent           10834 non-null  float64\n",
      " 10  Solidity         10834 non-null  float64\n",
      " 11  roundness        10834 non-null  float64\n",
      " 12  Compactness      10834 non-null  float64\n",
      " 13  ShapeFactor1     10834 non-null  float64\n",
      " 14  ShapeFactor2     10834 non-null  float64\n",
      " 15  ShapeFactor3     10834 non-null  float64\n",
      " 16  ShapeFactor4     10834 non-null  float64\n",
      " 17  y                10834 non-null  object \n",
      "dtypes: float64(14), int64(3), object(1)\n",
      "memory usage: 1.5+ MB\n"
     ]
    }
   ],
   "source": [
    "df.info()"
   ]
  },
  {
   "cell_type": "code",
   "execution_count": 4,
   "id": "e5447aac",
   "metadata": {
    "execution": {
     "iopub.execute_input": "2021-09-30T02:03:47.928930Z",
     "iopub.status.busy": "2021-09-30T02:03:47.927800Z",
     "iopub.status.idle": "2021-09-30T02:03:47.937406Z",
     "shell.execute_reply": "2021-09-30T02:03:47.938023Z",
     "shell.execute_reply.started": "2021-09-30T01:47:07.575442Z"
    },
    "papermill": {
     "duration": 0.059752,
     "end_time": "2021-09-30T02:03:47.938226",
     "exception": false,
     "start_time": "2021-09-30T02:03:47.878474",
     "status": "completed"
    },
    "tags": []
   },
   "outputs": [
    {
     "data": {
      "text/plain": [
       "ID                 0\n",
       "Area               0\n",
       "Perimeter          0\n",
       "MajorAxisLength    0\n",
       "MinorAxisLength    0\n",
       "AspectRation       0\n",
       "Eccentricity       0\n",
       "ConvexArea         0\n",
       "EquivDiameter      0\n",
       "Extent             0\n",
       "Solidity           0\n",
       "roundness          0\n",
       "Compactness        0\n",
       "ShapeFactor1       0\n",
       "ShapeFactor2       0\n",
       "ShapeFactor3       0\n",
       "ShapeFactor4       0\n",
       "y                  0\n",
       "dtype: int64"
      ]
     },
     "execution_count": 4,
     "metadata": {},
     "output_type": "execute_result"
    }
   ],
   "source": [
    "df.isnull().sum()"
   ]
  },
  {
   "cell_type": "code",
   "execution_count": 5,
   "id": "c155012d",
   "metadata": {
    "execution": {
     "iopub.execute_input": "2021-09-30T02:03:48.037959Z",
     "iopub.status.busy": "2021-09-30T02:03:48.035816Z",
     "iopub.status.idle": "2021-09-30T02:03:48.044592Z",
     "shell.execute_reply": "2021-09-30T02:03:48.045208Z",
     "shell.execute_reply.started": "2021-09-30T01:47:07.589938Z"
    },
    "papermill": {
     "duration": 0.060066,
     "end_time": "2021-09-30T02:03:48.045412",
     "exception": false,
     "start_time": "2021-09-30T02:03:47.985346",
     "status": "completed"
    },
    "tags": []
   },
   "outputs": [
    {
     "data": {
      "text/plain": [
       "ID                 0\n",
       "Area               0\n",
       "Perimeter          0\n",
       "MajorAxisLength    0\n",
       "MinorAxisLength    0\n",
       "AspectRation       0\n",
       "Eccentricity       0\n",
       "ConvexArea         0\n",
       "EquivDiameter      0\n",
       "Extent             0\n",
       "Solidity           0\n",
       "roundness          0\n",
       "Compactness        0\n",
       "ShapeFactor1       0\n",
       "ShapeFactor2       0\n",
       "ShapeFactor3       0\n",
       "ShapeFactor4       0\n",
       "y                  0\n",
       "dtype: int64"
      ]
     },
     "execution_count": 5,
     "metadata": {},
     "output_type": "execute_result"
    }
   ],
   "source": [
    "df.isna().sum()"
   ]
  },
  {
   "cell_type": "code",
   "execution_count": 6,
   "id": "272f2206",
   "metadata": {
    "execution": {
     "iopub.execute_input": "2021-09-30T02:03:48.147881Z",
     "iopub.status.busy": "2021-09-30T02:03:48.147122Z",
     "iopub.status.idle": "2021-09-30T02:03:48.173855Z",
     "shell.execute_reply": "2021-09-30T02:03:48.173333Z",
     "shell.execute_reply.started": "2021-09-30T01:47:07.602501Z"
    },
    "papermill": {
     "duration": 0.076791,
     "end_time": "2021-09-30T02:03:48.173997",
     "exception": false,
     "start_time": "2021-09-30T02:03:48.097206",
     "status": "completed"
    },
    "tags": []
   },
   "outputs": [
    {
     "data": {
      "text/plain": [
       "ID                 0\n",
       "Area               0\n",
       "Perimeter          0\n",
       "MajorAxisLength    0\n",
       "MinorAxisLength    0\n",
       "AspectRation       0\n",
       "Eccentricity       0\n",
       "ConvexArea         0\n",
       "EquivDiameter      0\n",
       "Extent             0\n",
       "Solidity           0\n",
       "roundness          0\n",
       "Compactness        0\n",
       "ShapeFactor1       0\n",
       "ShapeFactor2       0\n",
       "ShapeFactor3       0\n",
       "ShapeFactor4       0\n",
       "y                  0\n",
       "dtype: int64"
      ]
     },
     "execution_count": 6,
     "metadata": {},
     "output_type": "execute_result"
    }
   ],
   "source": [
    "df[df.duplicated()].count()"
   ]
  },
  {
   "cell_type": "markdown",
   "id": "0d9eecfb",
   "metadata": {
    "papermill": {
     "duration": 0.046674,
     "end_time": "2021-09-30T02:03:48.267579",
     "exception": false,
     "start_time": "2021-09-30T02:03:48.220905",
     "status": "completed"
    },
    "tags": []
   },
   "source": [
    "# > ****PREPROCESSING****"
   ]
  },
  {
   "cell_type": "code",
   "execution_count": 7,
   "id": "b4a73d59",
   "metadata": {
    "execution": {
     "iopub.execute_input": "2021-09-30T02:03:48.366927Z",
     "iopub.status.busy": "2021-09-30T02:03:48.366211Z",
     "iopub.status.idle": "2021-09-30T02:03:48.370960Z",
     "shell.execute_reply": "2021-09-30T02:03:48.370447Z",
     "shell.execute_reply.started": "2021-09-30T01:47:07.637690Z"
    },
    "papermill": {
     "duration": 0.057081,
     "end_time": "2021-09-30T02:03:48.371101",
     "exception": false,
     "start_time": "2021-09-30T02:03:48.314020",
     "status": "completed"
    },
    "tags": []
   },
   "outputs": [],
   "source": [
    "df['y']=df['y'].astype('category')"
   ]
  },
  {
   "cell_type": "code",
   "execution_count": 8,
   "id": "1cc907c8",
   "metadata": {
    "execution": {
     "iopub.execute_input": "2021-09-30T02:03:48.476855Z",
     "iopub.status.busy": "2021-09-30T02:03:48.476185Z",
     "iopub.status.idle": "2021-09-30T02:03:48.478844Z",
     "shell.execute_reply": "2021-09-30T02:03:48.479350Z",
     "shell.execute_reply.started": "2021-09-30T01:47:07.647538Z"
    },
    "papermill": {
     "duration": 0.061779,
     "end_time": "2021-09-30T02:03:48.479515",
     "exception": false,
     "start_time": "2021-09-30T02:03:48.417736",
     "status": "completed"
    },
    "tags": []
   },
   "outputs": [
    {
     "data": {
      "text/plain": [
       "0        4\n",
       "1        5\n",
       "2        3\n",
       "3        3\n",
       "4        6\n",
       "        ..\n",
       "10829    5\n",
       "10830    3\n",
       "10831    2\n",
       "10832    6\n",
       "10833    3\n",
       "Name: y, Length: 10834, dtype: int64"
      ]
     },
     "execution_count": 8,
     "metadata": {},
     "output_type": "execute_result"
    }
   ],
   "source": [
    "le=LabelEncoder()\n",
    "df['y']=le.fit_transform(df['y'])\n",
    "df['y']"
   ]
  },
  {
   "cell_type": "markdown",
   "id": "836f02bd",
   "metadata": {
    "papermill": {
     "duration": 0.046388,
     "end_time": "2021-09-30T02:03:48.572537",
     "exception": false,
     "start_time": "2021-09-30T02:03:48.526149",
     "status": "completed"
    },
    "tags": []
   },
   "source": [
    "# > **DATA VISUALIZATION**"
   ]
  },
  {
   "cell_type": "code",
   "execution_count": 9,
   "id": "b47fab82",
   "metadata": {
    "execution": {
     "iopub.execute_input": "2021-09-30T02:03:48.668848Z",
     "iopub.status.busy": "2021-09-30T02:03:48.668152Z",
     "iopub.status.idle": "2021-09-30T02:03:51.651255Z",
     "shell.execute_reply": "2021-09-30T02:03:51.650627Z",
     "shell.execute_reply.started": "2021-09-30T01:47:07.671110Z"
    },
    "papermill": {
     "duration": 3.032391,
     "end_time": "2021-09-30T02:03:51.651424",
     "exception": false,
     "start_time": "2021-09-30T02:03:48.619033",
     "status": "completed"
    },
    "tags": []
   },
   "outputs": [
    {
     "data": {
      "text/plain": [
       "array([[<AxesSubplot:title={'center':'ID'}>,\n",
       "        <AxesSubplot:title={'center':'Area'}>,\n",
       "        <AxesSubplot:title={'center':'Perimeter'}>,\n",
       "        <AxesSubplot:title={'center':'MajorAxisLength'}>],\n",
       "       [<AxesSubplot:title={'center':'MinorAxisLength'}>,\n",
       "        <AxesSubplot:title={'center':'AspectRation'}>,\n",
       "        <AxesSubplot:title={'center':'Eccentricity'}>,\n",
       "        <AxesSubplot:title={'center':'ConvexArea'}>],\n",
       "       [<AxesSubplot:title={'center':'EquivDiameter'}>,\n",
       "        <AxesSubplot:title={'center':'Extent'}>,\n",
       "        <AxesSubplot:title={'center':'Solidity'}>,\n",
       "        <AxesSubplot:title={'center':'roundness'}>],\n",
       "       [<AxesSubplot:title={'center':'Compactness'}>,\n",
       "        <AxesSubplot:title={'center':'ShapeFactor1'}>,\n",
       "        <AxesSubplot:title={'center':'ShapeFactor2'}>,\n",
       "        <AxesSubplot:title={'center':'ShapeFactor3'}>],\n",
       "       [<AxesSubplot:title={'center':'ShapeFactor4'}>,\n",
       "        <AxesSubplot:title={'center':'y'}>, <AxesSubplot:>,\n",
       "        <AxesSubplot:>]], dtype=object)"
      ]
     },
     "execution_count": 9,
     "metadata": {},
     "output_type": "execute_result"
    },
    {
     "data": {
      "image/png": "[encoded data removed]",
      "text/plain": [
       "<Figure size 1296x864 with 20 Axes>"
      ]
     },
     "metadata": {
      "needs_background": "light"
     },
     "output_type": "display_data"
    }
   ],
   "source": [
    "df.hist(figsize=[18,12])"
   ]
  },
  {
   "cell_type": "code",
   "execution_count": 10,
   "id": "ecdca873",
   "metadata": {
    "execution": {
     "iopub.execute_input": "2021-09-30T02:03:51.759747Z",
     "iopub.status.busy": "2021-09-30T02:03:51.759024Z",
     "iopub.status.idle": "2021-09-30T02:03:52.291113Z",
     "shell.execute_reply": "2021-09-30T02:03:52.291620Z",
     "shell.execute_reply.started": "2021-09-30T01:47:10.753079Z"
    },
    "papermill": {
     "duration": 0.587909,
     "end_time": "2021-09-30T02:03:52.291786",
     "exception": false,
     "start_time": "2021-09-30T02:03:51.703877",
     "status": "completed"
    },
    "tags": []
   },
   "outputs": [
    {
     "data": {
      "text/plain": [
       "<AxesSubplot:>"
      ]
     },
     "execution_count": 10,
     "metadata": {},
     "output_type": "execute_result"
    },
    {
     "data": {
      "image/png": "[encoded data removed]",
      "text/plain": [
       "<Figure size 432x288 with 2 Axes>"
      ]
     },
     "metadata": {
      "needs_background": "light"
     },
     "output_type": "display_data"
    }
   ],
   "source": [
    "sns.heatmap(df.corr(), square=True, cmap='RdYlGn')"
   ]
  },
  {
   "cell_type": "code",
   "execution_count": 11,
   "id": "520d58de",
   "metadata": {
    "execution": {
     "iopub.execute_input": "2021-09-30T02:03:52.407979Z",
     "iopub.status.busy": "2021-09-30T02:03:52.406962Z",
     "iopub.status.idle": "2021-09-30T02:03:52.579360Z",
     "shell.execute_reply": "2021-09-30T02:03:52.579829Z",
     "shell.execute_reply.started": "2021-09-30T01:47:11.335214Z"
    },
    "papermill": {
     "duration": 0.237739,
     "end_time": "2021-09-30T02:03:52.580009",
     "exception": false,
     "start_time": "2021-09-30T02:03:52.342270",
     "status": "completed"
    },
    "tags": []
   },
   "outputs": [
    {
     "data": {
      "text/plain": [
       "<AxesSubplot:>"
      ]
     },
     "execution_count": 11,
     "metadata": {},
     "output_type": "execute_result"
    },
    {
     "data": {
      "image/png": "[encoded data removed]",
      "text/plain": [
       "<Figure size 432x288 with 1 Axes>"
      ]
     },
     "metadata": {
      "needs_background": "light"
     },
     "output_type": "display_data"
    }
   ],
   "source": [
    "df['y'].hist()"
   ]
  },
  {
   "cell_type": "code",
   "execution_count": 12,
   "id": "bc8ed3a2",
   "metadata": {
    "execution": {
     "iopub.execute_input": "2021-09-30T02:03:52.724707Z",
     "iopub.status.busy": "2021-09-30T02:03:52.722373Z",
     "iopub.status.idle": "2021-09-30T02:03:53.020003Z",
     "shell.execute_reply": "2021-09-30T02:03:53.020571Z",
     "shell.execute_reply.started": "2021-09-30T01:47:11.591539Z"
    },
    "papermill": {
     "duration": 0.387882,
     "end_time": "2021-09-30T02:03:53.020753",
     "exception": false,
     "start_time": "2021-09-30T02:03:52.632871",
     "status": "completed"
    },
    "tags": []
   },
   "outputs": [
    {
     "data": {
      "text/plain": [
       "<AxesSubplot:xlabel='y', ylabel='Density'>"
      ]
     },
     "execution_count": 12,
     "metadata": {},
     "output_type": "execute_result"
    },
    {
     "data": {
      "image/png": "[encoded data removed]",
      "text/plain": [
       "<Figure size 432x288 with 1 Axes>"
      ]
     },
     "metadata": {
      "needs_background": "light"
     },
     "output_type": "display_data"
    }
   ],
   "source": [
    "sns.kdeplot(df['y'], shade=True)"
   ]
  },
  {
   "cell_type": "markdown",
   "id": "d84095d2",
   "metadata": {
    "execution": {
     "iopub.execute_input": "2021-09-22T22:55:56.058787Z",
     "iopub.status.busy": "2021-09-22T22:55:56.057859Z",
     "iopub.status.idle": "2021-09-22T22:55:56.082365Z",
     "shell.execute_reply": "2021-09-22T22:55:56.081804Z",
     "shell.execute_reply.started": "2021-09-22T22:35:34.204387Z"
    },
    "papermill": {
     "duration": 0.055048,
     "end_time": "2021-09-30T02:03:53.129103",
     "exception": false,
     "start_time": "2021-09-30T02:03:53.074055",
     "status": "completed"
    },
    "tags": []
   },
   "source": [
    "# > **FEATURE ENGINNERING**"
   ]
  },
  {
   "cell_type": "code",
   "execution_count": 13,
   "id": "030d1722",
   "metadata": {
    "execution": {
     "iopub.execute_input": "2021-09-30T02:03:53.242776Z",
     "iopub.status.busy": "2021-09-30T02:03:53.241923Z",
     "iopub.status.idle": "2021-09-30T02:03:53.246371Z",
     "shell.execute_reply": "2021-09-30T02:03:53.245837Z",
     "shell.execute_reply.started": "2021-09-30T01:47:12.004146Z"
    },
    "papermill": {
     "duration": 0.063788,
     "end_time": "2021-09-30T02:03:53.246504",
     "exception": false,
     "start_time": "2021-09-30T02:03:53.182716",
     "status": "completed"
    },
    "tags": []
   },
   "outputs": [],
   "source": [
    "df['frist']=(df['ShapeFactor1']*df['roundness']+df['ShapeFactor2']*df['roundness'])/df['Extent']"
   ]
  },
  {
   "cell_type": "code",
   "execution_count": 14,
   "id": "f133dab1",
   "metadata": {
    "execution": {
     "iopub.execute_input": "2021-09-30T02:03:53.358162Z",
     "iopub.status.busy": "2021-09-30T02:03:53.357538Z",
     "iopub.status.idle": "2021-09-30T02:03:53.360281Z",
     "shell.execute_reply": "2021-09-30T02:03:53.360804Z",
     "shell.execute_reply.started": "2021-09-30T01:47:12.016405Z"
    },
    "papermill": {
     "duration": 0.06148,
     "end_time": "2021-09-30T02:03:53.360971",
     "exception": false,
     "start_time": "2021-09-30T02:03:53.299491",
     "status": "completed"
    },
    "tags": []
   },
   "outputs": [],
   "source": [
    "df['second']=df['AspectRation']*df['roundness']*df['ShapeFactor1']+df['ShapeFactor2']"
   ]
  },
  {
   "cell_type": "code",
   "execution_count": 15,
   "id": "3e3c74e2",
   "metadata": {
    "execution": {
     "iopub.execute_input": "2021-09-30T02:03:53.469839Z",
     "iopub.status.busy": "2021-09-30T02:03:53.469206Z",
     "iopub.status.idle": "2021-09-30T02:03:53.475327Z",
     "shell.execute_reply": "2021-09-30T02:03:53.475891Z",
     "shell.execute_reply.started": "2021-09-30T01:47:12.029648Z"
    },
    "papermill": {
     "duration": 0.062326,
     "end_time": "2021-09-30T02:03:53.476073",
     "exception": false,
     "start_time": "2021-09-30T02:03:53.413747",
     "status": "completed"
    },
    "tags": []
   },
   "outputs": [],
   "source": [
    "df['third']=(df['roundness']*df['Solidity']*df['ShapeFactor1']**0.5+df['ShapeFactor2']*df['roundness']*df['Solidity'])/df['Extent']"
   ]
  },
  {
   "cell_type": "code",
   "execution_count": 16,
   "id": "e46f0a28",
   "metadata": {
    "execution": {
     "iopub.execute_input": "2021-09-30T02:03:53.586392Z",
     "iopub.status.busy": "2021-09-30T02:03:53.585729Z",
     "iopub.status.idle": "2021-09-30T02:03:53.592624Z",
     "shell.execute_reply": "2021-09-30T02:03:53.592047Z",
     "shell.execute_reply.started": "2021-09-30T01:47:12.049970Z"
    },
    "papermill": {
     "duration": 0.062447,
     "end_time": "2021-09-30T02:03:53.592769",
     "exception": false,
     "start_time": "2021-09-30T02:03:53.530322",
     "status": "completed"
    },
    "tags": []
   },
   "outputs": [],
   "source": [
    "df['four']=((df['ShapeFactor1']**2)*df['AspectRation']+df['ShapeFactor2']*df['roundness'])*df['roundness']/df['Extent']"
   ]
  },
  {
   "cell_type": "code",
   "execution_count": 17,
   "id": "33937109",
   "metadata": {
    "execution": {
     "iopub.execute_input": "2021-09-30T02:03:53.704992Z",
     "iopub.status.busy": "2021-09-30T02:03:53.704172Z",
     "iopub.status.idle": "2021-09-30T02:03:53.709025Z",
     "shell.execute_reply": "2021-09-30T02:03:53.708523Z",
     "shell.execute_reply.started": "2021-09-30T01:47:12.064071Z"
    },
    "papermill": {
     "duration": 0.063486,
     "end_time": "2021-09-30T02:03:53.709170",
     "exception": false,
     "start_time": "2021-09-30T02:03:53.645684",
     "status": "completed"
    },
    "tags": []
   },
   "outputs": [],
   "source": [
    "df['five']=(df['frist']**0.5+df['third']**0.5+df['second']**0.5+df['four']**0.5)*df['roundness']**0.5"
   ]
  },
  {
   "cell_type": "markdown",
   "id": "c459ae10",
   "metadata": {
    "papermill": {
     "duration": 0.052594,
     "end_time": "2021-09-30T02:03:53.815001",
     "exception": false,
     "start_time": "2021-09-30T02:03:53.762407",
     "status": "completed"
    },
    "tags": []
   },
   "source": [
    "# > **FEATURES CORRELATION**"
   ]
  },
  {
   "cell_type": "code",
   "execution_count": 18,
   "id": "deda894a",
   "metadata": {
    "execution": {
     "iopub.execute_input": "2021-09-30T02:03:53.930723Z",
     "iopub.status.busy": "2021-09-30T02:03:53.929614Z",
     "iopub.status.idle": "2021-09-30T02:03:53.956643Z",
     "shell.execute_reply": "2021-09-30T02:03:53.956082Z",
     "shell.execute_reply.started": "2021-09-30T01:47:12.081085Z"
    },
    "papermill": {
     "duration": 0.08499,
     "end_time": "2021-09-30T02:03:53.956785",
     "exception": false,
     "start_time": "2021-09-30T02:03:53.871795",
     "status": "completed"
    },
    "tags": []
   },
   "outputs": [
    {
     "data": {
      "text/plain": [
       "y                  1.000000\n",
       "five               0.511241\n",
       "third              0.475409\n",
       "frist              0.453392\n",
       "second             0.409741\n",
       "ShapeFactor1       0.392398\n",
       "roundness          0.387003\n",
       "four               0.383107\n",
       "ShapeFactor2       0.338889\n",
       "Solidity           0.327622\n",
       "ShapeFactor4       0.172578\n",
       "ShapeFactor3       0.172462\n",
       "Compactness        0.161121\n",
       "ID                -0.001609\n",
       "Extent            -0.034010\n",
       "AspectRation      -0.121283\n",
       "Eccentricity      -0.204183\n",
       "MajorAxisLength   -0.456807\n",
       "MinorAxisLength   -0.457526\n",
       "Area              -0.474164\n",
       "ConvexArea        -0.476363\n",
       "EquivDiameter     -0.480921\n",
       "Perimeter         -0.507765\n",
       "Name: y, dtype: float64"
      ]
     },
     "execution_count": 18,
     "metadata": {},
     "output_type": "execute_result"
    }
   ],
   "source": [
    "corr_matrix=df.corr()\n",
    "(corr_matrix['y'].sort_values(ascending=False))"
   ]
  },
  {
   "cell_type": "code",
   "execution_count": 19,
   "id": "4dd948cb",
   "metadata": {
    "execution": {
     "iopub.execute_input": "2021-09-30T02:03:54.068395Z",
     "iopub.status.busy": "2021-09-30T02:03:54.067717Z",
     "iopub.status.idle": "2021-09-30T02:03:54.074196Z",
     "shell.execute_reply": "2021-09-30T02:03:54.073687Z",
     "shell.execute_reply.started": "2021-09-30T01:47:12.118271Z"
    },
    "papermill": {
     "duration": 0.064456,
     "end_time": "2021-09-30T02:03:54.074360",
     "exception": false,
     "start_time": "2021-09-30T02:03:54.009904",
     "status": "completed"
    },
    "tags": []
   },
   "outputs": [
    {
     "data": {
      "text/plain": [
       "Index(['ID', 'Area', 'Perimeter', 'MajorAxisLength', 'MinorAxisLength',\n",
       "       'AspectRation', 'Eccentricity', 'ConvexArea', 'EquivDiameter', 'Extent',\n",
       "       'Solidity', 'roundness', 'Compactness', 'ShapeFactor1', 'ShapeFactor2',\n",
       "       'ShapeFactor3', 'ShapeFactor4', 'y', 'frist', 'second', 'third', 'four',\n",
       "       'five'],\n",
       "      dtype='object')"
      ]
     },
     "execution_count": 19,
     "metadata": {},
     "output_type": "execute_result"
    }
   ],
   "source": [
    "df.columns"
   ]
  },
  {
   "cell_type": "markdown",
   "id": "a3dbe8c2",
   "metadata": {
    "execution": {
     "iopub.execute_input": "2021-09-22T22:55:57.979479Z",
     "iopub.status.busy": "2021-09-22T22:55:57.978383Z",
     "iopub.status.idle": "2021-09-22T22:55:58.139267Z",
     "shell.execute_reply": "2021-09-22T22:55:58.138090Z",
     "shell.execute_reply.started": "2021-09-22T22:35:35.108401Z"
    },
    "papermill": {
     "duration": 0.054476,
     "end_time": "2021-09-30T02:03:54.184540",
     "exception": false,
     "start_time": "2021-09-30T02:03:54.130064",
     "status": "completed"
    },
    "tags": []
   },
   "source": [
    "# > **FEATURES SELECTION FOR TRAINING**"
   ]
  },
  {
   "cell_type": "code",
   "execution_count": 20,
   "id": "3b05e4ca",
   "metadata": {
    "execution": {
     "iopub.execute_input": "2021-09-30T02:03:54.297792Z",
     "iopub.status.busy": "2021-09-30T02:03:54.297091Z",
     "iopub.status.idle": "2021-09-30T02:03:54.301287Z",
     "shell.execute_reply": "2021-09-30T02:03:54.301827Z",
     "shell.execute_reply.started": "2021-09-30T01:47:12.129279Z"
    },
    "papermill": {
     "duration": 0.064031,
     "end_time": "2021-09-30T02:03:54.301996",
     "exception": false,
     "start_time": "2021-09-30T02:03:54.237965",
     "status": "completed"
    },
    "tags": []
   },
   "outputs": [],
   "source": [
    "X=df.drop(['ID','y', 'Area','Perimeter','EquivDiameter','MajorAxisLength','MinorAxisLength','second','four','frist','third'], axis=1)  #,'second','third','four'\n",
    "y=df['y']"
   ]
  },
  {
   "cell_type": "code",
   "execution_count": 21,
   "id": "44cbceea",
   "metadata": {
    "execution": {
     "iopub.execute_input": "2021-09-30T02:03:54.414692Z",
     "iopub.status.busy": "2021-09-30T02:03:54.413717Z",
     "iopub.status.idle": "2021-09-30T02:03:54.420619Z",
     "shell.execute_reply": "2021-09-30T02:03:54.420003Z",
     "shell.execute_reply.started": "2021-09-30T01:47:12.295286Z"
    },
    "papermill": {
     "duration": 0.064743,
     "end_time": "2021-09-30T02:03:54.420766",
     "exception": false,
     "start_time": "2021-09-30T02:03:54.356023",
     "status": "completed"
    },
    "tags": []
   },
   "outputs": [
    {
     "data": {
      "text/plain": [
       "Index(['AspectRation', 'Eccentricity', 'ConvexArea', 'Extent', 'Solidity',\n",
       "       'roundness', 'Compactness', 'ShapeFactor1', 'ShapeFactor2',\n",
       "       'ShapeFactor3', 'ShapeFactor4', 'five'],\n",
       "      dtype='object')"
      ]
     },
     "execution_count": 21,
     "metadata": {},
     "output_type": "execute_result"
    }
   ],
   "source": [
    "X.columns"
   ]
  },
  {
   "cell_type": "markdown",
   "id": "be3f74e7",
   "metadata": {
    "papermill": {
     "duration": 0.054015,
     "end_time": "2021-09-30T02:03:54.528983",
     "exception": false,
     "start_time": "2021-09-30T02:03:54.474968",
     "status": "completed"
    },
    "tags": []
   },
   "source": [
    "# > **SPLIT THE TRAINING DATA**"
   ]
  },
  {
   "cell_type": "code",
   "execution_count": 22,
   "id": "41591208",
   "metadata": {
    "execution": {
     "iopub.execute_input": "2021-09-30T02:03:54.642588Z",
     "iopub.status.busy": "2021-09-30T02:03:54.641925Z",
     "iopub.status.idle": "2021-09-30T02:03:54.658020Z",
     "shell.execute_reply": "2021-09-30T02:03:54.657256Z",
     "shell.execute_reply.started": "2021-09-30T01:47:12.308917Z"
    },
    "papermill": {
     "duration": 0.075268,
     "end_time": "2021-09-30T02:03:54.658190",
     "exception": false,
     "start_time": "2021-09-30T02:03:54.582922",
     "status": "completed"
    },
    "tags": []
   },
   "outputs": [],
   "source": [
    "from sklearn.model_selection import train_test_split\n",
    "X_train, X_test, y_train, y_test =train_test_split(X, y, stratify=y, test_size=0.2, random_state=42)"
   ]
  },
  {
   "cell_type": "code",
   "execution_count": 23,
   "id": "7cc1a92b",
   "metadata": {
    "execution": {
     "iopub.execute_input": "2021-09-30T02:03:54.786433Z",
     "iopub.status.busy": "2021-09-30T02:03:54.785751Z",
     "iopub.status.idle": "2021-09-30T02:03:54.797381Z",
     "shell.execute_reply": "2021-09-30T02:03:54.796765Z",
     "shell.execute_reply.started": "2021-09-30T01:47:12.337381Z"
    },
    "papermill": {
     "duration": 0.078267,
     "end_time": "2021-09-30T02:03:54.797522",
     "exception": false,
     "start_time": "2021-09-30T02:03:54.719255",
     "status": "completed"
    },
    "tags": []
   },
   "outputs": [],
   "source": [
    "from sklearn.preprocessing import StandardScaler\n",
    "X_train = StandardScaler().fit_transform(X_train)\n",
    "X_test = StandardScaler().fit_transform(X_test)"
   ]
  },
  {
   "cell_type": "markdown",
   "id": "bb7c1e90",
   "metadata": {
    "papermill": {
     "duration": 0.054071,
     "end_time": "2021-09-30T02:03:54.906446",
     "exception": false,
     "start_time": "2021-09-30T02:03:54.852375",
     "status": "completed"
    },
    "tags": []
   },
   "source": [
    "# > **MACHINE LEARNING MODELS**"
   ]
  },
  {
   "cell_type": "code",
   "execution_count": 24,
   "id": "edc25028",
   "metadata": {
    "execution": {
     "iopub.execute_input": "2021-09-30T02:03:55.023691Z",
     "iopub.status.busy": "2021-09-30T02:03:55.022952Z",
     "iopub.status.idle": "2021-09-30T02:04:17.583888Z",
     "shell.execute_reply": "2021-09-30T02:04:17.584957Z",
     "shell.execute_reply.started": "2021-09-30T01:47:12.355150Z"
    },
    "papermill": {
     "duration": 22.624024,
     "end_time": "2021-09-30T02:04:17.585284",
     "exception": false,
     "start_time": "2021-09-30T02:03:54.961260",
     "status": "completed"
    },
    "tags": []
   },
   "outputs": [
    {
     "name": "stdout",
     "output_type": "stream",
     "text": [
      "0.14694504702238437\n",
      "ROC AUC: 0.039\n",
      "train_score:0.943232952578747\n",
      "test_score:0.9317028149515459\n",
      "MSE:0.776025156705251\n",
      "RMSLE:0.21971104169948402\n"
     ]
    }
   ],
   "source": [
    "from sklearn.neural_network import MLPClassifier\n",
    "r5=MLPClassifier(max_iter=500)\n",
    "r5.fit(X_train, y_train)\n",
    "r5_pred = r5.predict(X_test)\n",
    "\n",
    "scores = cross_val_score(r5, X, y, cv=5)\n",
    "print(scores.mean())\n",
    "print ('ROC AUC: %0.3f' % r5.score(X, y) )\n",
    "\n",
    "print('train_score:'+str(r5.score(X_train, y_train)))\n",
    "print('test_score:'+str(r5.score(X_test, y_test)))\n",
    "print ('MSE:' + str(np.sqrt(mean_squared_error ( r5_pred , y_test) ))) \n",
    "print ('RMSLE:' + str(np.sqrt(mean_squared_log_error ( r5_pred , y_test) )))"
   ]
  },
  {
   "cell_type": "code",
   "execution_count": 25,
   "id": "eea8d6ab",
   "metadata": {
    "execution": {
     "iopub.execute_input": "2021-09-30T02:04:17.748676Z",
     "iopub.status.busy": "2021-09-30T02:04:17.747739Z",
     "iopub.status.idle": "2021-09-30T02:04:17.764768Z",
     "shell.execute_reply": "2021-09-30T02:04:17.764174Z",
     "shell.execute_reply.started": "2021-09-30T01:47:39.457198Z"
    },
    "papermill": {
     "duration": 0.081193,
     "end_time": "2021-09-30T02:04:17.764921",
     "exception": false,
     "start_time": "2021-09-30T02:04:17.683728",
     "status": "completed"
    },
    "tags": []
   },
   "outputs": [
    {
     "name": "stdout",
     "output_type": "stream",
     "text": [
      "[[194   0  11   0   3   2   1]\n",
      " [  0  84   0   0   0   0   0]\n",
      " [  8   0 247   0   4   0   2]\n",
      " [  0   0   0 537   0   5  25]\n",
      " [  2   0   4   6 283   0   3]\n",
      " [  2   0   0   4   0 312   6]\n",
      " [  6   0   2  44   4   4 362]]\n",
      "              precision    recall  f1-score   support\n",
      "\n",
      "           0       0.92      0.92      0.92       211\n",
      "           1       1.00      1.00      1.00        84\n",
      "           2       0.94      0.95      0.94       261\n",
      "           3       0.91      0.95      0.93       567\n",
      "           4       0.96      0.95      0.96       298\n",
      "           5       0.97      0.96      0.96       324\n",
      "           6       0.91      0.86      0.88       422\n",
      "\n",
      "    accuracy                           0.93      2167\n",
      "   macro avg       0.94      0.94      0.94      2167\n",
      "weighted avg       0.93      0.93      0.93      2167\n",
      "\n"
     ]
    }
   ],
   "source": [
    "from sklearn.metrics import classification_report\n",
    "from sklearn.metrics import confusion_matrix\n",
    "print(confusion_matrix(y_test, r5_pred))\n",
    "print(classification_report(y_test, r5_pred))"
   ]
  },
  {
   "cell_type": "code",
   "execution_count": 26,
   "id": "9b5127ed",
   "metadata": {
    "execution": {
     "iopub.execute_input": "2021-09-30T02:04:17.882971Z",
     "iopub.status.busy": "2021-09-30T02:04:17.882219Z",
     "iopub.status.idle": "2021-09-30T02:04:33.891273Z",
     "shell.execute_reply": "2021-09-30T02:04:33.890660Z",
     "shell.execute_reply.started": "2021-09-30T01:47:39.489644Z"
    },
    "papermill": {
     "duration": 16.071534,
     "end_time": "2021-09-30T02:04:33.891428",
     "exception": false,
     "start_time": "2021-09-30T02:04:17.819894",
     "status": "completed"
    },
    "tags": []
   },
   "outputs": [
    {
     "name": "stdout",
     "output_type": "stream",
     "text": [
      "(2167,)\n",
      "0.9236658668749449\n",
      "ROC AUC: 0.150\n",
      "train_score:1.0\n",
      "test_score:0.9307798800184587\n",
      "MSE:0.7372982270346043\n",
      "RMSLE:0.19430341611771385\n"
     ]
    }
   ],
   "source": [
    "from sklearn.ensemble import RandomForestClassifier\n",
    "rf=RandomForestClassifier()\n",
    "#Fit the trained model\n",
    "rf.fit(X_train,y_train)\n",
    "\n",
    "#Cross validation prediction\n",
    "rf_pred=rf.predict(X_test)\n",
    "print(rf_pred.shape)\n",
    "\n",
    "scores = cross_val_score(rf, X, y, cv=5)\n",
    "print(scores.mean())\n",
    "print ('ROC AUC: %0.3f' % rf.score(X, y) )\n",
    "\n",
    "print('train_score:'+str(rf.score(X_train, y_train)))\n",
    "print('test_score:'+str(rf.score(X_test, y_test)))\n",
    "print ('MSE:' + str(np.sqrt(mean_squared_error ( rf_pred , y_test) ))) \n",
    "print ('RMSLE:' + str(np.sqrt(mean_squared_log_error ( rf_pred , y_test) )))"
   ]
  },
  {
   "cell_type": "code",
   "execution_count": 27,
   "id": "f8342a5b",
   "metadata": {
    "execution": {
     "iopub.execute_input": "2021-09-30T02:04:34.010203Z",
     "iopub.status.busy": "2021-09-30T02:04:34.009580Z",
     "iopub.status.idle": "2021-09-30T02:04:34.026837Z",
     "shell.execute_reply": "2021-09-30T02:04:34.026285Z",
     "shell.execute_reply.started": "2021-09-30T01:47:55.786830Z"
    },
    "papermill": {
     "duration": 0.078576,
     "end_time": "2021-09-30T02:04:34.026972",
     "exception": false,
     "start_time": "2021-09-30T02:04:33.948396",
     "status": "completed"
    },
    "tags": []
   },
   "outputs": [
    {
     "name": "stdout",
     "output_type": "stream",
     "text": [
      "[[192   0  14   0   1   3   1]\n",
      " [  0  84   0   0   0   0   0]\n",
      " [  5   0 250   0   4   0   2]\n",
      " [  0   0   0 532   0   5  30]\n",
      " [  0   0   2   4 287   0   5]\n",
      " [  1   0   0   6   0 308   9]\n",
      " [  2   0   3  46   2   5 364]]\n",
      "              precision    recall  f1-score   support\n",
      "\n",
      "           0       0.96      0.91      0.93       211\n",
      "           1       1.00      1.00      1.00        84\n",
      "           2       0.93      0.96      0.94       261\n",
      "           3       0.90      0.94      0.92       567\n",
      "           4       0.98      0.96      0.97       298\n",
      "           5       0.96      0.95      0.96       324\n",
      "           6       0.89      0.86      0.87       422\n",
      "\n",
      "    accuracy                           0.93      2167\n",
      "   macro avg       0.95      0.94      0.94      2167\n",
      "weighted avg       0.93      0.93      0.93      2167\n",
      "\n"
     ]
    }
   ],
   "source": [
    "from sklearn.metrics import classification_report\n",
    "from sklearn.metrics import confusion_matrix\n",
    "print(confusion_matrix(y_test, rf_pred))\n",
    "print(classification_report(y_test, rf_pred))"
   ]
  },
  {
   "cell_type": "code",
   "execution_count": 28,
   "id": "db7ada11",
   "metadata": {
    "execution": {
     "iopub.execute_input": "2021-09-30T02:04:34.149944Z",
     "iopub.status.busy": "2021-09-30T02:04:34.149220Z",
     "iopub.status.idle": "2021-09-30T02:04:36.138241Z",
     "shell.execute_reply": "2021-09-30T02:04:36.137652Z",
     "shell.execute_reply.started": "2021-09-30T01:47:55.817408Z"
    },
    "papermill": {
     "duration": 2.055195,
     "end_time": "2021-09-30T02:04:36.138408",
     "exception": false,
     "start_time": "2021-09-30T02:04:34.083213",
     "status": "completed"
    },
    "tags": []
   },
   "outputs": [
    {
     "name": "stdout",
     "output_type": "stream",
     "text": [
      "(2167,)\n",
      "0.5917488083018125\n",
      "ROC AUC: 0.039\n",
      "train_score:0.9353871004961347\n",
      "test_score:0.9229349330872173\n",
      "MSE:0.7769166275985089\n",
      "RMSLE:0.21146723149482238\n"
     ]
    }
   ],
   "source": [
    "from sklearn.neighbors import KNeighborsClassifier\n",
    "\n",
    "knn = KNeighborsClassifier(n_neighbors=7)\n",
    "knn.fit(X_train,y_train)\n",
    "#Cross validation prediction\n",
    "knn_pred=knn.predict(X_test)\n",
    "print(knn_pred.shape)\n",
    "\n",
    "scores = cross_val_score(knn, X, y, cv=5)\n",
    "print(scores.mean())\n",
    "print ('ROC AUC: %0.3f' % knn.score(X, y) )\n",
    "\n",
    "print('train_score:'+str(knn.score(X_train, y_train)))\n",
    "print('test_score:'+str(knn.score(X_test, y_test)))\n",
    "print ('MSE:' + str(np.sqrt(mean_squared_error ( knn_pred , y_test) ))) \n",
    "print ('RMSLE:' + str(np.sqrt(mean_squared_log_error ( knn_pred , y_test) )))"
   ]
  },
  {
   "cell_type": "code",
   "execution_count": 29,
   "id": "eeb39a47",
   "metadata": {
    "execution": {
     "iopub.execute_input": "2021-09-30T02:04:36.261662Z",
     "iopub.status.busy": "2021-09-30T02:04:36.260926Z",
     "iopub.status.idle": "2021-09-30T02:04:37.246517Z",
     "shell.execute_reply": "2021-09-30T02:04:37.246991Z",
     "shell.execute_reply.started": "2021-09-30T01:47:57.827127Z"
    },
    "papermill": {
     "duration": 1.051249,
     "end_time": "2021-09-30T02:04:37.247164",
     "exception": false,
     "start_time": "2021-09-30T02:04:36.195915",
     "status": "completed"
    },
    "tags": []
   },
   "outputs": [
    {
     "name": "stdout",
     "output_type": "stream",
     "text": [
      "(2167,)\n",
      "0.8920986798962529\n",
      "ROC AUC: 0.150\n",
      "train_score:1.0\n",
      "test_score:0.8883248730964467\n",
      "MSE:0.9697786844511868\n",
      "RMSLE:0.2640678278065123\n"
     ]
    }
   ],
   "source": [
    "from sklearn.tree import DecisionTreeClassifier\n",
    "dt = DecisionTreeClassifier(random_state=0)\n",
    "dt.fit(X_train,y_train)\n",
    "\n",
    "#Cross validation prediction\n",
    "dt_pred=dt.predict(X_test)\n",
    "print(dt_pred.shape)\n",
    "\n",
    "scores = cross_val_score(dt, X, y, cv=5)\n",
    "print(scores.mean())\n",
    "print ('ROC AUC: %0.3f' % dt.score(X, y) )\n",
    "\n",
    "print('train_score:'+str(dt.score(X_train, y_train)))\n",
    "print('test_score:'+str(dt.score(X_test, y_test)))\n",
    "print ('MSE:' + str(np.sqrt(mean_squared_error ( dt_pred , y_test) ))) \n",
    "print ('RMSLE:' + str(np.sqrt(mean_squared_log_error ( dt_pred , y_test) )))"
   ]
  },
  {
   "cell_type": "code",
   "execution_count": 30,
   "id": "8893cf94",
   "metadata": {
    "execution": {
     "iopub.execute_input": "2021-09-30T02:04:37.371974Z",
     "iopub.status.busy": "2021-09-30T02:04:37.366942Z",
     "iopub.status.idle": "2021-09-30T02:04:37.590479Z",
     "shell.execute_reply": "2021-09-30T02:04:37.589852Z",
     "shell.execute_reply.started": "2021-09-30T01:47:58.815503Z"
    },
    "papermill": {
     "duration": 0.285397,
     "end_time": "2021-09-30T02:04:37.590632",
     "exception": false,
     "start_time": "2021-09-30T02:04:37.305235",
     "status": "completed"
    },
    "tags": []
   },
   "outputs": [
    {
     "name": "stdout",
     "output_type": "stream",
     "text": [
      "(2167,)\n",
      "0.657097885217744\n",
      "ROC AUC: 0.039\n",
      "train_score:0.8921195338640822\n",
      "test_score:0.9021688970927549\n",
      "MSE:0.8353076136453781\n",
      "RMSLE:0.24975373973297002\n"
     ]
    }
   ],
   "source": [
    "from sklearn.naive_bayes import GaussianNB\n",
    "gs = GaussianNB()\n",
    "gs.fit(X_train,y_train)\n",
    "\n",
    "#Cross validation prediction\n",
    "gs_pred=gs.predict(X_test)\n",
    "print(gs_pred.shape)\n",
    "\n",
    "scores = cross_val_score(gs, X, y, cv=5)\n",
    "print(scores.mean())\n",
    "print ('ROC AUC: %0.3f' % gs.score(X, y) )\n",
    "\n",
    "print('train_score:'+str(gs.score(X_train, y_train)))\n",
    "print('test_score:'+str(gs.score(X_test, y_test)))\n",
    "print ('MSE:' + str(np.sqrt(mean_squared_error ( gs_pred , y_test) ))) \n",
    "print ('RMSLE:' + str(np.sqrt(mean_squared_log_error ( gs_pred , y_test) )))"
   ]
  },
  {
   "cell_type": "code",
   "execution_count": 31,
   "id": "a6d5d091",
   "metadata": {
    "execution": {
     "iopub.execute_input": "2021-09-30T02:04:37.718356Z",
     "iopub.status.busy": "2021-09-30T02:04:37.717610Z",
     "iopub.status.idle": "2021-09-30T02:10:11.211890Z",
     "shell.execute_reply": "2021-09-30T02:10:11.212995Z",
     "shell.execute_reply.started": "2021-09-30T01:47:58.907614Z"
    },
    "papermill": {
     "duration": 333.563303,
     "end_time": "2021-09-30T02:10:11.213261",
     "exception": false,
     "start_time": "2021-09-30T02:04:37.649958",
     "status": "completed"
    },
    "tags": []
   },
   "outputs": [
    {
     "name": "stderr",
     "output_type": "stream",
     "text": [
      "/opt/conda/lib/python3.7/site-packages/xgboost/sklearn.py:1146: UserWarning: The use of label encoder in XGBClassifier is deprecated and will be removed in a future release. To remove this warning, do the following: 1) Pass option use_label_encoder=False when constructing XGBClassifier object; and 2) Encode your labels (y) as integers starting with 0, i.e. 0, 1, 2, ..., [num_class - 1].\n",
      "  warnings.warn(label_encoder_deprecation_msg, UserWarning)\n"
     ]
    },
    {
     "name": "stdout",
     "output_type": "stream",
     "text": [
      "[02:04:37] WARNING: ../src/learner.cc:1095: Starting in XGBoost 1.3.0, the default evaluation metric used with the objective 'multi:softprob' was changed from 'merror' to 'mlogloss'. Explicitly set eval_metric if you'd like to restore the old behavior.\n",
      "(2167,)\n",
      "[02:05:34] WARNING: ../src/learner.cc:1095: Starting in XGBoost 1.3.0, the default evaluation metric used with the objective 'multi:softprob' was changed from 'merror' to 'mlogloss'. Explicitly set eval_metric if you'd like to restore the old behavior.\n"
     ]
    },
    {
     "name": "stderr",
     "output_type": "stream",
     "text": [
      "/opt/conda/lib/python3.7/site-packages/xgboost/sklearn.py:1146: UserWarning: The use of label encoder in XGBClassifier is deprecated and will be removed in a future release. To remove this warning, do the following: 1) Pass option use_label_encoder=False when constructing XGBClassifier object; and 2) Encode your labels (y) as integers starting with 0, i.e. 0, 1, 2, ..., [num_class - 1].\n",
      "  warnings.warn(label_encoder_deprecation_msg, UserWarning)\n"
     ]
    },
    {
     "name": "stdout",
     "output_type": "stream",
     "text": [
      "[02:06:28] WARNING: ../src/learner.cc:1095: Starting in XGBoost 1.3.0, the default evaluation metric used with the objective 'multi:softprob' was changed from 'merror' to 'mlogloss'. Explicitly set eval_metric if you'd like to restore the old behavior.\n",
      "[02:07:24] WARNING: ../src/learner.cc:1095: Starting in XGBoost 1.3.0, the default evaluation metric used with the objective 'multi:softprob' was changed from 'merror' to 'mlogloss'. Explicitly set eval_metric if you'd like to restore the old behavior.\n",
      "[02:08:20] WARNING: ../src/learner.cc:1095: Starting in XGBoost 1.3.0, the default evaluation metric used with the objective 'multi:softprob' was changed from 'merror' to 'mlogloss'. Explicitly set eval_metric if you'd like to restore the old behavior.\n",
      "[02:09:14] WARNING: ../src/learner.cc:1095: Starting in XGBoost 1.3.0, the default evaluation metric used with the objective 'multi:softprob' was changed from 'merror' to 'mlogloss'. Explicitly set eval_metric if you'd like to restore the old behavior.\n",
      "0.9212658525579487\n",
      "ROC AUC: 0.283\n",
      "train_score:0.9307718933887158\n",
      "test_score:0.9229349330872173\n",
      "MSE:0.7801766392112878\n",
      "RMSLE:0.21229707696858935\n"
     ]
    }
   ],
   "source": [
    "from xgboost.sklearn import XGBClassifier\n",
    "xg = XGBClassifier(learning_rate=0.01 ,\n",
    "                                        n_estimators=900,\n",
    "                                        max_depth=5,\n",
    "                                        subsample=1,\n",
    "                                        colsample_bytree=1,\n",
    "                                        gamma=6,\n",
    "                                        reg_alpha = 14,\n",
    "                                        reg_lambda = 3)\n",
    "xg.fit(X_train,y_train)\n",
    "\n",
    "#Cross validation prediction\n",
    "xg_pred=xg.predict(X_test)\n",
    "print(xg_pred.shape)\n",
    "\n",
    "scores = cross_val_score(xg, X, y, cv=5)\n",
    "print(scores.mean())\n",
    "print ('ROC AUC: %0.3f' % xg.score(X, y) )\n",
    "\n",
    "print('train_score:'+str(xg.score(X_train, y_train)))\n",
    "print('test_score:'+str(xg.score(X_test, y_test)))\n",
    "print ('MSE:' + str(np.sqrt(mean_squared_error ( xg_pred , y_test) ))) \n",
    "print ('RMSLE:' + str(np.sqrt(mean_squared_log_error ( xg_pred , y_test) )))"
   ]
  },
  {
   "cell_type": "code",
   "execution_count": 32,
   "id": "98e0dc5b",
   "metadata": {
    "execution": {
     "iopub.execute_input": "2021-09-30T02:10:11.352124Z",
     "iopub.status.busy": "2021-09-30T02:10:11.351398Z",
     "iopub.status.idle": "2021-09-30T02:10:26.860069Z",
     "shell.execute_reply": "2021-09-30T02:10:26.860574Z",
     "shell.execute_reply.started": "2021-09-30T01:53:55.784047Z"
    },
    "papermill": {
     "duration": 15.57886,
     "end_time": "2021-09-30T02:10:26.860762",
     "exception": false,
     "start_time": "2021-09-30T02:10:11.281902",
     "status": "completed"
    },
    "tags": []
   },
   "outputs": [
    {
     "name": "stdout",
     "output_type": "stream",
     "text": [
      "(2167,)\n",
      "0.6330991907914445\n",
      "ROC AUC: 0.137\n",
      "train_score:0.9314641744548287\n",
      "test_score:0.936317489616982\n",
      "MSE:0.7046552305921833\n",
      "RMSLE:0.1881036812490118\n"
     ]
    }
   ],
   "source": [
    "from sklearn.svm import SVC\n",
    "sv = SVC()\n",
    "sv.fit(X_train,y_train)\n",
    "\n",
    "#Cross validation prediction\n",
    "sv_pred=sv.predict(X_test)\n",
    "print(sv_pred.shape)\n",
    "\n",
    "scores = cross_val_score(sv, X, y, cv=5)\n",
    "print(scores.mean())\n",
    "print ('ROC AUC: %0.3f' % sv.score(X, y) )\n",
    "\n",
    "print('train_score:'+str(sv.score(X_train, y_train)))\n",
    "print('test_score:'+str(sv.score(X_test, y_test)))\n",
    "print ('MSE:' + str(np.sqrt(mean_squared_error ( sv_pred , y_test) ))) \n",
    "print ('RMSLE:' + str(np.sqrt(mean_squared_log_error ( sv_pred , y_test) )))"
   ]
  },
  {
   "cell_type": "code",
   "execution_count": 33,
   "id": "3657d07e",
   "metadata": {
    "execution": {
     "iopub.execute_input": "2021-09-30T02:10:26.992743Z",
     "iopub.status.busy": "2021-09-30T02:10:26.992028Z",
     "iopub.status.idle": "2021-09-30T02:10:27.008992Z",
     "shell.execute_reply": "2021-09-30T02:10:27.008482Z",
     "shell.execute_reply.started": "2021-09-30T01:54:11.449905Z"
    },
    "papermill": {
     "duration": 0.08521,
     "end_time": "2021-09-30T02:10:27.009132",
     "exception": false,
     "start_time": "2021-09-30T02:10:26.923922",
     "status": "completed"
    },
    "tags": []
   },
   "outputs": [
    {
     "name": "stdout",
     "output_type": "stream",
     "text": [
      "[[194   0  13   0   1   2   1]\n",
      " [  0  84   0   0   0   0   0]\n",
      " [  5   0 252   0   3   0   1]\n",
      " [  0   0   0 529   0   5  33]\n",
      " [  0   0   2   3 288   0   5]\n",
      " [  2   0   0   4   0 307  11]\n",
      " [  2   0   2  37   2   4 375]]\n",
      "              precision    recall  f1-score   support\n",
      "\n",
      "           0       0.96      0.92      0.94       211\n",
      "           1       1.00      1.00      1.00        84\n",
      "           2       0.94      0.97      0.95       261\n",
      "           3       0.92      0.93      0.93       567\n",
      "           4       0.98      0.97      0.97       298\n",
      "           5       0.97      0.95      0.96       324\n",
      "           6       0.88      0.89      0.88       422\n",
      "\n",
      "    accuracy                           0.94      2167\n",
      "   macro avg       0.95      0.95      0.95      2167\n",
      "weighted avg       0.94      0.94      0.94      2167\n",
      "\n"
     ]
    }
   ],
   "source": [
    "from sklearn.metrics import classification_report\n",
    "from sklearn.metrics import confusion_matrix\n",
    "print(confusion_matrix(y_test, sv_pred))\n",
    "print(classification_report(y_test, sv_pred))"
   ]
  },
  {
   "cell_type": "markdown",
   "id": "bf4706c6",
   "metadata": {
    "papermill": {
     "duration": 0.062792,
     "end_time": "2021-09-30T02:10:27.135480",
     "exception": false,
     "start_time": "2021-09-30T02:10:27.072688",
     "status": "completed"
    },
    "tags": []
   },
   "source": [
    "# > **VOTING ENSEMBLE**"
   ]
  },
  {
   "cell_type": "code",
   "execution_count": 34,
   "id": "82e59f92",
   "metadata": {
    "execution": {
     "iopub.execute_input": "2021-09-30T02:10:27.270624Z",
     "iopub.status.busy": "2021-09-30T02:10:27.269929Z",
     "iopub.status.idle": "2021-09-30T02:17:01.625278Z",
     "shell.execute_reply": "2021-09-30T02:17:01.624675Z",
     "shell.execute_reply.started": "2021-09-30T01:54:11.473145Z"
    },
    "papermill": {
     "duration": 394.426719,
     "end_time": "2021-09-30T02:17:01.625501",
     "exception": false,
     "start_time": "2021-09-30T02:10:27.198782",
     "status": "completed"
    },
    "tags": []
   },
   "outputs": [
    {
     "name": "stderr",
     "output_type": "stream",
     "text": [
      "/opt/conda/lib/python3.7/site-packages/xgboost/sklearn.py:1146: UserWarning: The use of label encoder in XGBClassifier is deprecated and will be removed in a future release. To remove this warning, do the following: 1) Pass option use_label_encoder=False when constructing XGBClassifier object; and 2) Encode your labels (y) as integers starting with 0, i.e. 0, 1, 2, ..., [num_class - 1].\n",
      "  warnings.warn(label_encoder_deprecation_msg, UserWarning)\n"
     ]
    },
    {
     "name": "stdout",
     "output_type": "stream",
     "text": [
      "[02:10:48] WARNING: ../src/learner.cc:1095: Starting in XGBoost 1.3.0, the default evaluation metric used with the objective 'multi:softprob' was changed from 'merror' to 'mlogloss'. Explicitly set eval_metric if you'd like to restore the old behavior.\n"
     ]
    },
    {
     "name": "stderr",
     "output_type": "stream",
     "text": [
      "/opt/conda/lib/python3.7/site-packages/xgboost/sklearn.py:1146: UserWarning: The use of label encoder in XGBClassifier is deprecated and will be removed in a future release. To remove this warning, do the following: 1) Pass option use_label_encoder=False when constructing XGBClassifier object; and 2) Encode your labels (y) as integers starting with 0, i.e. 0, 1, 2, ..., [num_class - 1].\n",
      "  warnings.warn(label_encoder_deprecation_msg, UserWarning)\n"
     ]
    },
    {
     "name": "stdout",
     "output_type": "stream",
     "text": [
      "[02:11:53] WARNING: ../src/learner.cc:1095: Starting in XGBoost 1.3.0, the default evaluation metric used with the objective 'multi:softprob' was changed from 'merror' to 'mlogloss'. Explicitly set eval_metric if you'd like to restore the old behavior.\n"
     ]
    },
    {
     "name": "stderr",
     "output_type": "stream",
     "text": [
      "/opt/conda/lib/python3.7/site-packages/xgboost/sklearn.py:1146: UserWarning: The use of label encoder in XGBClassifier is deprecated and will be removed in a future release. To remove this warning, do the following: 1) Pass option use_label_encoder=False when constructing XGBClassifier object; and 2) Encode your labels (y) as integers starting with 0, i.e. 0, 1, 2, ..., [num_class - 1].\n",
      "  warnings.warn(label_encoder_deprecation_msg, UserWarning)\n"
     ]
    },
    {
     "name": "stdout",
     "output_type": "stream",
     "text": [
      "[02:12:55] WARNING: ../src/learner.cc:1095: Starting in XGBoost 1.3.0, the default evaluation metric used with the objective 'multi:softprob' was changed from 'merror' to 'mlogloss'. Explicitly set eval_metric if you'd like to restore the old behavior.\n"
     ]
    },
    {
     "name": "stderr",
     "output_type": "stream",
     "text": [
      "/opt/conda/lib/python3.7/site-packages/xgboost/sklearn.py:1146: UserWarning: The use of label encoder in XGBClassifier is deprecated and will be removed in a future release. To remove this warning, do the following: 1) Pass option use_label_encoder=False when constructing XGBClassifier object; and 2) Encode your labels (y) as integers starting with 0, i.e. 0, 1, 2, ..., [num_class - 1].\n",
      "  warnings.warn(label_encoder_deprecation_msg, UserWarning)\n"
     ]
    },
    {
     "name": "stdout",
     "output_type": "stream",
     "text": [
      "[02:13:57] WARNING: ../src/learner.cc:1095: Starting in XGBoost 1.3.0, the default evaluation metric used with the objective 'multi:softprob' was changed from 'merror' to 'mlogloss'. Explicitly set eval_metric if you'd like to restore the old behavior.\n"
     ]
    },
    {
     "name": "stderr",
     "output_type": "stream",
     "text": [
      "/opt/conda/lib/python3.7/site-packages/xgboost/sklearn.py:1146: UserWarning: The use of label encoder in XGBClassifier is deprecated and will be removed in a future release. To remove this warning, do the following: 1) Pass option use_label_encoder=False when constructing XGBClassifier object; and 2) Encode your labels (y) as integers starting with 0, i.e. 0, 1, 2, ..., [num_class - 1].\n",
      "  warnings.warn(label_encoder_deprecation_msg, UserWarning)\n"
     ]
    },
    {
     "name": "stdout",
     "output_type": "stream",
     "text": [
      "[02:15:00] WARNING: ../src/learner.cc:1095: Starting in XGBoost 1.3.0, the default evaluation metric used with the objective 'multi:softprob' was changed from 'merror' to 'mlogloss'. Explicitly set eval_metric if you'd like to restore the old behavior.\n"
     ]
    },
    {
     "name": "stderr",
     "output_type": "stream",
     "text": [
      "/opt/conda/lib/python3.7/site-packages/xgboost/sklearn.py:1146: UserWarning: The use of label encoder in XGBClassifier is deprecated and will be removed in a future release. To remove this warning, do the following: 1) Pass option use_label_encoder=False when constructing XGBClassifier object; and 2) Encode your labels (y) as integers starting with 0, i.e. 0, 1, 2, ..., [num_class - 1].\n",
      "  warnings.warn(label_encoder_deprecation_msg, UserWarning)\n"
     ]
    },
    {
     "name": "stdout",
     "output_type": "stream",
     "text": [
      "[02:16:01] WARNING: ../src/learner.cc:1095: Starting in XGBoost 1.3.0, the default evaluation metric used with the objective 'multi:softprob' was changed from 'merror' to 'mlogloss'. Explicitly set eval_metric if you'd like to restore the old behavior.\n",
      "5 fold cross validation accuracies 0.8469634119788092\n",
      "ROC AUC: 0.039\n",
      "train_score:0.9450790354217146\n",
      "test_score:0.9381633594831564\n"
     ]
    }
   ],
   "source": [
    "from sklearn.ensemble import VotingClassifier\n",
    "classifier = VotingClassifier(estimators=[('r5', r5),('rf', rf),('sv', sv),('xg', xg),('knn', knn)])          #,voting='soft'\n",
    "\n",
    "classifier.fit(X_train, y_train)\n",
    "#class_pred = classifier.predict(test_df)\n",
    "\n",
    "accuracies = cross_val_score(classifier, X, y , cv = 5)\n",
    "print(\"5 fold cross validation accuracies {}\".format(accuracies.mean()))\n",
    "print ('ROC AUC: %0.3f' % classifier.score(X, y) )\n",
    "\n",
    "print('train_score:'+str(classifier.score(X_train, y_train)))\n",
    "print('test_score:'+str(classifier.score(X_test, y_test)))"
   ]
  },
  {
   "cell_type": "markdown",
   "id": "2079b916",
   "metadata": {
    "papermill": {
     "duration": 0.068464,
     "end_time": "2021-09-30T02:17:01.765118",
     "exception": false,
     "start_time": "2021-09-30T02:17:01.696654",
     "status": "completed"
    },
    "tags": []
   },
   "source": [
    "# > **CHECK FOR TEST DATASET**"
   ]
  },
  {
   "cell_type": "code",
   "execution_count": 35,
   "id": "938a3e26",
   "metadata": {
    "execution": {
     "iopub.execute_input": "2021-09-30T02:17:01.929659Z",
     "iopub.status.busy": "2021-09-30T02:17:01.907747Z",
     "iopub.status.idle": "2021-09-30T02:17:01.933494Z",
     "shell.execute_reply": "2021-09-30T02:17:01.932985Z",
     "shell.execute_reply.started": "2021-09-30T02:01:04.277385Z"
    },
    "papermill": {
     "duration": 0.100054,
     "end_time": "2021-09-30T02:17:01.933640",
     "exception": false,
     "start_time": "2021-09-30T02:17:01.833586",
     "status": "completed"
    },
    "tags": []
   },
   "outputs": [
    {
     "data": {
      "text/html": [
       "<div>\n",
       "<style scoped>\n",
       "    .dataframe tbody tr th:only-of-type {\n",
       "        vertical-align: middle;\n",
       "    }\n",
       "\n",
       "    .dataframe tbody tr th {\n",
       "        vertical-align: top;\n",
       "    }\n",
       "\n",
       "    .dataframe thead th {\n",
       "        text-align: right;\n",
       "    }\n",
       "</style>\n",
       "<table border=\"1\" class=\"dataframe\">\n",
       "  <thead>\n",
       "    <tr style=\"text-align: right;\">\n",
       "      <th></th>\n",
       "      <th>ID</th>\n",
       "      <th>Area</th>\n",
       "      <th>Perimeter</th>\n",
       "      <th>MajorAxisLength</th>\n",
       "      <th>MinorAxisLength</th>\n",
       "      <th>AspectRation</th>\n",
       "      <th>Eccentricity</th>\n",
       "      <th>ConvexArea</th>\n",
       "      <th>EquivDiameter</th>\n",
       "      <th>Extent</th>\n",
       "      <th>Solidity</th>\n",
       "      <th>roundness</th>\n",
       "      <th>Compactness</th>\n",
       "      <th>ShapeFactor1</th>\n",
       "      <th>ShapeFactor2</th>\n",
       "      <th>ShapeFactor3</th>\n",
       "      <th>ShapeFactor4</th>\n",
       "    </tr>\n",
       "  </thead>\n",
       "  <tbody>\n",
       "    <tr>\n",
       "      <th>0</th>\n",
       "      <td>10834</td>\n",
       "      <td>57659</td>\n",
       "      <td>955.434</td>\n",
       "      <td>387.757607</td>\n",
       "      <td>196.625782</td>\n",
       "      <td>1.972059</td>\n",
       "      <td>0.861896</td>\n",
       "      <td>60188</td>\n",
       "      <td>270.949661</td>\n",
       "      <td>0.620790</td>\n",
       "      <td>0.957982</td>\n",
       "      <td>0.793735</td>\n",
       "      <td>0.698760</td>\n",
       "      <td>0.006725</td>\n",
       "      <td>0.000989</td>\n",
       "      <td>0.488266</td>\n",
       "      <td>0.962889</td>\n",
       "    </tr>\n",
       "    <tr>\n",
       "      <th>1</th>\n",
       "      <td>10835</td>\n",
       "      <td>28772</td>\n",
       "      <td>630.362</td>\n",
       "      <td>229.990785</td>\n",
       "      <td>159.609367</td>\n",
       "      <td>1.440960</td>\n",
       "      <td>0.719993</td>\n",
       "      <td>29127</td>\n",
       "      <td>191.399185</td>\n",
       "      <td>0.767458</td>\n",
       "      <td>0.987812</td>\n",
       "      <td>0.909913</td>\n",
       "      <td>0.832204</td>\n",
       "      <td>0.007994</td>\n",
       "      <td>0.002365</td>\n",
       "      <td>0.692563</td>\n",
       "      <td>0.997956</td>\n",
       "    </tr>\n",
       "    <tr>\n",
       "      <th>2</th>\n",
       "      <td>10836</td>\n",
       "      <td>54677</td>\n",
       "      <td>911.022</td>\n",
       "      <td>308.853903</td>\n",
       "      <td>226.398571</td>\n",
       "      <td>1.364204</td>\n",
       "      <td>0.680198</td>\n",
       "      <td>55858</td>\n",
       "      <td>263.850182</td>\n",
       "      <td>0.753013</td>\n",
       "      <td>0.978857</td>\n",
       "      <td>0.827860</td>\n",
       "      <td>0.854288</td>\n",
       "      <td>0.005649</td>\n",
       "      <td>0.001856</td>\n",
       "      <td>0.729808</td>\n",
       "      <td>0.995607</td>\n",
       "    </tr>\n",
       "    <tr>\n",
       "      <th>3</th>\n",
       "      <td>10837</td>\n",
       "      <td>24827</td>\n",
       "      <td>578.304</td>\n",
       "      <td>214.192699</td>\n",
       "      <td>147.788172</td>\n",
       "      <td>1.449322</td>\n",
       "      <td>0.723831</td>\n",
       "      <td>25121</td>\n",
       "      <td>177.794033</td>\n",
       "      <td>0.716508</td>\n",
       "      <td>0.988297</td>\n",
       "      <td>0.932871</td>\n",
       "      <td>0.830066</td>\n",
       "      <td>0.008627</td>\n",
       "      <td>0.002526</td>\n",
       "      <td>0.689009</td>\n",
       "      <td>0.998596</td>\n",
       "    </tr>\n",
       "    <tr>\n",
       "      <th>4</th>\n",
       "      <td>10838</td>\n",
       "      <td>141850</td>\n",
       "      <td>1432.847</td>\n",
       "      <td>524.923471</td>\n",
       "      <td>346.910920</td>\n",
       "      <td>1.513136</td>\n",
       "      <td>0.750492</td>\n",
       "      <td>143680</td>\n",
       "      <td>424.981211</td>\n",
       "      <td>0.804617</td>\n",
       "      <td>0.987263</td>\n",
       "      <td>0.868240</td>\n",
       "      <td>0.809606</td>\n",
       "      <td>0.003701</td>\n",
       "      <td>0.000981</td>\n",
       "      <td>0.655462</td>\n",
       "      <td>0.991803</td>\n",
       "    </tr>\n",
       "    <tr>\n",
       "      <th>...</th>\n",
       "      <td>...</td>\n",
       "      <td>...</td>\n",
       "      <td>...</td>\n",
       "      <td>...</td>\n",
       "      <td>...</td>\n",
       "      <td>...</td>\n",
       "      <td>...</td>\n",
       "      <td>...</td>\n",
       "      <td>...</td>\n",
       "      <td>...</td>\n",
       "      <td>...</td>\n",
       "      <td>...</td>\n",
       "      <td>...</td>\n",
       "      <td>...</td>\n",
       "      <td>...</td>\n",
       "      <td>...</td>\n",
       "      <td>...</td>\n",
       "    </tr>\n",
       "    <tr>\n",
       "      <th>2704</th>\n",
       "      <td>13538</td>\n",
       "      <td>66833</td>\n",
       "      <td>1018.336</td>\n",
       "      <td>400.397077</td>\n",
       "      <td>214.346215</td>\n",
       "      <td>1.867992</td>\n",
       "      <td>0.844640</td>\n",
       "      <td>67787</td>\n",
       "      <td>291.709476</td>\n",
       "      <td>0.759604</td>\n",
       "      <td>0.985927</td>\n",
       "      <td>0.809876</td>\n",
       "      <td>0.728550</td>\n",
       "      <td>0.005991</td>\n",
       "      <td>0.001041</td>\n",
       "      <td>0.530786</td>\n",
       "      <td>0.991504</td>\n",
       "    </tr>\n",
       "    <tr>\n",
       "      <th>2705</th>\n",
       "      <td>13539</td>\n",
       "      <td>40572</td>\n",
       "      <td>725.331</td>\n",
       "      <td>250.714014</td>\n",
       "      <td>206.471935</td>\n",
       "      <td>1.214276</td>\n",
       "      <td>0.567264</td>\n",
       "      <td>40900</td>\n",
       "      <td>227.283688</td>\n",
       "      <td>0.767479</td>\n",
       "      <td>0.991980</td>\n",
       "      <td>0.969089</td>\n",
       "      <td>0.906546</td>\n",
       "      <td>0.006179</td>\n",
       "      <td>0.002574</td>\n",
       "      <td>0.821825</td>\n",
       "      <td>0.997923</td>\n",
       "    </tr>\n",
       "    <tr>\n",
       "      <th>2706</th>\n",
       "      <td>13540</td>\n",
       "      <td>61226</td>\n",
       "      <td>1008.378</td>\n",
       "      <td>408.227467</td>\n",
       "      <td>199.385082</td>\n",
       "      <td>2.047432</td>\n",
       "      <td>0.872611</td>\n",
       "      <td>63901</td>\n",
       "      <td>279.204879</td>\n",
       "      <td>0.611648</td>\n",
       "      <td>0.958138</td>\n",
       "      <td>0.756657</td>\n",
       "      <td>0.683944</td>\n",
       "      <td>0.006668</td>\n",
       "      <td>0.000900</td>\n",
       "      <td>0.467780</td>\n",
       "      <td>0.957748</td>\n",
       "    </tr>\n",
       "    <tr>\n",
       "      <th>2707</th>\n",
       "      <td>13541</td>\n",
       "      <td>34238</td>\n",
       "      <td>698.847</td>\n",
       "      <td>255.829224</td>\n",
       "      <td>170.867099</td>\n",
       "      <td>1.497241</td>\n",
       "      <td>0.744255</td>\n",
       "      <td>34724</td>\n",
       "      <td>208.789788</td>\n",
       "      <td>0.724890</td>\n",
       "      <td>0.986004</td>\n",
       "      <td>0.880956</td>\n",
       "      <td>0.816130</td>\n",
       "      <td>0.007472</td>\n",
       "      <td>0.002045</td>\n",
       "      <td>0.666067</td>\n",
       "      <td>0.997263</td>\n",
       "    </tr>\n",
       "    <tr>\n",
       "      <th>2708</th>\n",
       "      <td>13542</td>\n",
       "      <td>49175</td>\n",
       "      <td>828.597</td>\n",
       "      <td>310.354804</td>\n",
       "      <td>202.329323</td>\n",
       "      <td>1.533909</td>\n",
       "      <td>0.758280</td>\n",
       "      <td>49668</td>\n",
       "      <td>250.223010</td>\n",
       "      <td>0.798166</td>\n",
       "      <td>0.990074</td>\n",
       "      <td>0.900052</td>\n",
       "      <td>0.806248</td>\n",
       "      <td>0.006311</td>\n",
       "      <td>0.001645</td>\n",
       "      <td>0.650036</td>\n",
       "      <td>0.997096</td>\n",
       "    </tr>\n",
       "  </tbody>\n",
       "</table>\n",
       "<p>2709 rows × 17 columns</p>\n",
       "</div>"
      ],
      "text/plain": [
       "         ID    Area  Perimeter  MajorAxisLength  MinorAxisLength  \\\n",
       "0     10834   57659    955.434       387.757607       196.625782   \n",
       "1     10835   28772    630.362       229.990785       159.609367   \n",
       "2     10836   54677    911.022       308.853903       226.398571   \n",
       "3     10837   24827    578.304       214.192699       147.788172   \n",
       "4     10838  141850   1432.847       524.923471       346.910920   \n",
       "...     ...     ...        ...              ...              ...   \n",
       "2704  13538   66833   1018.336       400.397077       214.346215   \n",
       "2705  13539   40572    725.331       250.714014       206.471935   \n",
       "2706  13540   61226   1008.378       408.227467       199.385082   \n",
       "2707  13541   34238    698.847       255.829224       170.867099   \n",
       "2708  13542   49175    828.597       310.354804       202.329323   \n",
       "\n",
       "      AspectRation  Eccentricity  ConvexArea  EquivDiameter    Extent  \\\n",
       "0         1.972059      0.861896       60188     270.949661  0.620790   \n",
       "1         1.440960      0.719993       29127     191.399185  0.767458   \n",
       "2         1.364204      0.680198       55858     263.850182  0.753013   \n",
       "3         1.449322      0.723831       25121     177.794033  0.716508   \n",
       "4         1.513136      0.750492      143680     424.981211  0.804617   \n",
       "...            ...           ...         ...            ...       ...   \n",
       "2704      1.867992      0.844640       67787     291.709476  0.759604   \n",
       "2705      1.214276      0.567264       40900     227.283688  0.767479   \n",
       "2706      2.047432      0.872611       63901     279.204879  0.611648   \n",
       "2707      1.497241      0.744255       34724     208.789788  0.724890   \n",
       "2708      1.533909      0.758280       49668     250.223010  0.798166   \n",
       "\n",
       "      Solidity  roundness  Compactness  ShapeFactor1  ShapeFactor2  \\\n",
       "0     0.957982   0.793735     0.698760      0.006725      0.000989   \n",
       "1     0.987812   0.909913     0.832204      0.007994      0.002365   \n",
       "2     0.978857   0.827860     0.854288      0.005649      0.001856   \n",
       "3     0.988297   0.932871     0.830066      0.008627      0.002526   \n",
       "4     0.987263   0.868240     0.809606      0.003701      0.000981   \n",
       "...        ...        ...          ...           ...           ...   \n",
       "2704  0.985927   0.809876     0.728550      0.005991      0.001041   \n",
       "2705  0.991980   0.969089     0.906546      0.006179      0.002574   \n",
       "2706  0.958138   0.756657     0.683944      0.006668      0.000900   \n",
       "2707  0.986004   0.880956     0.816130      0.007472      0.002045   \n",
       "2708  0.990074   0.900052     0.806248      0.006311      0.001645   \n",
       "\n",
       "      ShapeFactor3  ShapeFactor4  \n",
       "0         0.488266      0.962889  \n",
       "1         0.692563      0.997956  \n",
       "2         0.729808      0.995607  \n",
       "3         0.689009      0.998596  \n",
       "4         0.655462      0.991803  \n",
       "...            ...           ...  \n",
       "2704      0.530786      0.991504  \n",
       "2705      0.821825      0.997923  \n",
       "2706      0.467780      0.957748  \n",
       "2707      0.666067      0.997263  \n",
       "2708      0.650036      0.997096  \n",
       "\n",
       "[2709 rows x 17 columns]"
      ]
     },
     "execution_count": 35,
     "metadata": {},
     "output_type": "execute_result"
    }
   ],
   "source": [
    "test_df"
   ]
  },
  {
   "cell_type": "code",
   "execution_count": 36,
   "id": "c8026fae",
   "metadata": {
    "execution": {
     "iopub.execute_input": "2021-09-30T02:17:02.080528Z",
     "iopub.status.busy": "2021-09-30T02:17:02.079527Z",
     "iopub.status.idle": "2021-09-30T02:17:02.129254Z",
     "shell.execute_reply": "2021-09-30T02:17:02.128684Z",
     "shell.execute_reply.started": "2021-09-30T02:02:07.978068Z"
    },
    "papermill": {
     "duration": 0.126725,
     "end_time": "2021-09-30T02:17:02.129412",
     "exception": false,
     "start_time": "2021-09-30T02:17:02.002687",
     "status": "completed"
    },
    "tags": []
   },
   "outputs": [
    {
     "data": {
      "text/html": [
       "<div>\n",
       "<style scoped>\n",
       "    .dataframe tbody tr th:only-of-type {\n",
       "        vertical-align: middle;\n",
       "    }\n",
       "\n",
       "    .dataframe tbody tr th {\n",
       "        vertical-align: top;\n",
       "    }\n",
       "\n",
       "    .dataframe thead th {\n",
       "        text-align: right;\n",
       "    }\n",
       "</style>\n",
       "<table border=\"1\" class=\"dataframe\">\n",
       "  <thead>\n",
       "    <tr style=\"text-align: right;\">\n",
       "      <th></th>\n",
       "      <th>count</th>\n",
       "      <th>mean</th>\n",
       "      <th>std</th>\n",
       "      <th>min</th>\n",
       "      <th>25%</th>\n",
       "      <th>50%</th>\n",
       "      <th>75%</th>\n",
       "      <th>max</th>\n",
       "    </tr>\n",
       "  </thead>\n",
       "  <tbody>\n",
       "    <tr>\n",
       "      <th>ID</th>\n",
       "      <td>2709.0</td>\n",
       "      <td>12188.000000</td>\n",
       "      <td>782.165264</td>\n",
       "      <td>10834.000000</td>\n",
       "      <td>11511.000000</td>\n",
       "      <td>12188.000000</td>\n",
       "      <td>12865.000000</td>\n",
       "      <td>13542.000000</td>\n",
       "    </tr>\n",
       "    <tr>\n",
       "      <th>Area</th>\n",
       "      <td>2709.0</td>\n",
       "      <td>52859.636028</td>\n",
       "      <td>28788.904724</td>\n",
       "      <td>20548.000000</td>\n",
       "      <td>36144.000000</td>\n",
       "      <td>44397.000000</td>\n",
       "      <td>61626.000000</td>\n",
       "      <td>231066.000000</td>\n",
       "    </tr>\n",
       "    <tr>\n",
       "      <th>Perimeter</th>\n",
       "      <td>2709.0</td>\n",
       "      <td>853.867669</td>\n",
       "      <td>213.681592</td>\n",
       "      <td>524.736000</td>\n",
       "      <td>700.485000</td>\n",
       "      <td>794.894000</td>\n",
       "      <td>979.260000</td>\n",
       "      <td>1845.855000</td>\n",
       "    </tr>\n",
       "    <tr>\n",
       "      <th>MajorAxisLength</th>\n",
       "      <td>2709.0</td>\n",
       "      <td>319.333439</td>\n",
       "      <td>85.210636</td>\n",
       "      <td>183.965251</td>\n",
       "      <td>251.623237</td>\n",
       "      <td>297.858034</td>\n",
       "      <td>376.701298</td>\n",
       "      <td>713.967282</td>\n",
       "    </tr>\n",
       "    <tr>\n",
       "      <th>MinorAxisLength</th>\n",
       "      <td>2709.0</td>\n",
       "      <td>202.185268</td>\n",
       "      <td>44.809321</td>\n",
       "      <td>122.512653</td>\n",
       "      <td>175.374226</td>\n",
       "      <td>192.367881</td>\n",
       "      <td>216.233028</td>\n",
       "      <td>460.198497</td>\n",
       "    </tr>\n",
       "    <tr>\n",
       "      <th>AspectRation</th>\n",
       "      <td>2709.0</td>\n",
       "      <td>1.580199</td>\n",
       "      <td>0.248980</td>\n",
       "      <td>1.036423</td>\n",
       "      <td>1.425448</td>\n",
       "      <td>1.548174</td>\n",
       "      <td>1.706945</td>\n",
       "      <td>2.430306</td>\n",
       "    </tr>\n",
       "    <tr>\n",
       "      <th>Eccentricity</th>\n",
       "      <td>2709.0</td>\n",
       "      <td>0.749225</td>\n",
       "      <td>0.093357</td>\n",
       "      <td>0.262774</td>\n",
       "      <td>0.712636</td>\n",
       "      <td>0.763403</td>\n",
       "      <td>0.810425</td>\n",
       "      <td>0.911423</td>\n",
       "    </tr>\n",
       "    <tr>\n",
       "      <th>ConvexArea</th>\n",
       "      <td>2709.0</td>\n",
       "      <td>53575.145441</td>\n",
       "      <td>29218.902099</td>\n",
       "      <td>20825.000000</td>\n",
       "      <td>36504.000000</td>\n",
       "      <td>45003.000000</td>\n",
       "      <td>62568.000000</td>\n",
       "      <td>232903.000000</td>\n",
       "    </tr>\n",
       "    <tr>\n",
       "      <th>EquivDiameter</th>\n",
       "      <td>2709.0</td>\n",
       "      <td>252.676206</td>\n",
       "      <td>58.813187</td>\n",
       "      <td>161.748342</td>\n",
       "      <td>214.522656</td>\n",
       "      <td>237.756211</td>\n",
       "      <td>280.115441</td>\n",
       "      <td>542.404248</td>\n",
       "    </tr>\n",
       "    <tr>\n",
       "      <th>Extent</th>\n",
       "      <td>2709.0</td>\n",
       "      <td>0.749399</td>\n",
       "      <td>0.048909</td>\n",
       "      <td>0.574040</td>\n",
       "      <td>0.718512</td>\n",
       "      <td>0.758598</td>\n",
       "      <td>0.786651</td>\n",
       "      <td>0.842382</td>\n",
       "    </tr>\n",
       "    <tr>\n",
       "      <th>Solidity</th>\n",
       "      <td>2709.0</td>\n",
       "      <td>0.987153</td>\n",
       "      <td>0.004745</td>\n",
       "      <td>0.943559</td>\n",
       "      <td>0.985859</td>\n",
       "      <td>0.988277</td>\n",
       "      <td>0.990033</td>\n",
       "      <td>0.994378</td>\n",
       "    </tr>\n",
       "    <tr>\n",
       "      <th>roundness</th>\n",
       "      <td>2709.0</td>\n",
       "      <td>0.873770</td>\n",
       "      <td>0.059601</td>\n",
       "      <td>0.576029</td>\n",
       "      <td>0.832856</td>\n",
       "      <td>0.883544</td>\n",
       "      <td>0.917331</td>\n",
       "      <td>0.984966</td>\n",
       "    </tr>\n",
       "    <tr>\n",
       "      <th>Compactness</th>\n",
       "      <td>2709.0</td>\n",
       "      <td>0.800783</td>\n",
       "      <td>0.062408</td>\n",
       "      <td>0.640577</td>\n",
       "      <td>0.762830</td>\n",
       "      <td>0.802013</td>\n",
       "      <td>0.835676</td>\n",
       "      <td>0.981611</td>\n",
       "    </tr>\n",
       "    <tr>\n",
       "      <th>ShapeFactor1</th>\n",
       "      <td>2709.0</td>\n",
       "      <td>0.006568</td>\n",
       "      <td>0.001141</td>\n",
       "      <td>0.002778</td>\n",
       "      <td>0.005905</td>\n",
       "      <td>0.006646</td>\n",
       "      <td>0.007282</td>\n",
       "      <td>0.010451</td>\n",
       "    </tr>\n",
       "    <tr>\n",
       "      <th>ShapeFactor2</th>\n",
       "      <td>2709.0</td>\n",
       "      <td>0.001726</td>\n",
       "      <td>0.000604</td>\n",
       "      <td>0.000602</td>\n",
       "      <td>0.001151</td>\n",
       "      <td>0.001701</td>\n",
       "      <td>0.002190</td>\n",
       "      <td>0.003419</td>\n",
       "    </tr>\n",
       "    <tr>\n",
       "      <th>ShapeFactor3</th>\n",
       "      <td>2709.0</td>\n",
       "      <td>0.645147</td>\n",
       "      <td>0.100193</td>\n",
       "      <td>0.410339</td>\n",
       "      <td>0.581910</td>\n",
       "      <td>0.643224</td>\n",
       "      <td>0.698355</td>\n",
       "      <td>0.963560</td>\n",
       "    </tr>\n",
       "    <tr>\n",
       "      <th>ShapeFactor4</th>\n",
       "      <td>2709.0</td>\n",
       "      <td>0.995062</td>\n",
       "      <td>0.004508</td>\n",
       "      <td>0.949990</td>\n",
       "      <td>0.993791</td>\n",
       "      <td>0.996386</td>\n",
       "      <td>0.997851</td>\n",
       "      <td>0.999707</td>\n",
       "    </tr>\n",
       "  </tbody>\n",
       "</table>\n",
       "</div>"
      ],
      "text/plain": [
       "                  count          mean           std           min  \\\n",
       "ID               2709.0  12188.000000    782.165264  10834.000000   \n",
       "Area             2709.0  52859.636028  28788.904724  20548.000000   \n",
       "Perimeter        2709.0    853.867669    213.681592    524.736000   \n",
       "MajorAxisLength  2709.0    319.333439     85.210636    183.965251   \n",
       "MinorAxisLength  2709.0    202.185268     44.809321    122.512653   \n",
       "AspectRation     2709.0      1.580199      0.248980      1.036423   \n",
       "Eccentricity     2709.0      0.749225      0.093357      0.262774   \n",
       "ConvexArea       2709.0  53575.145441  29218.902099  20825.000000   \n",
       "EquivDiameter    2709.0    252.676206     58.813187    161.748342   \n",
       "Extent           2709.0      0.749399      0.048909      0.574040   \n",
       "Solidity         2709.0      0.987153      0.004745      0.943559   \n",
       "roundness        2709.0      0.873770      0.059601      0.576029   \n",
       "Compactness      2709.0      0.800783      0.062408      0.640577   \n",
       "ShapeFactor1     2709.0      0.006568      0.001141      0.002778   \n",
       "ShapeFactor2     2709.0      0.001726      0.000604      0.000602   \n",
       "ShapeFactor3     2709.0      0.645147      0.100193      0.410339   \n",
       "ShapeFactor4     2709.0      0.995062      0.004508      0.949990   \n",
       "\n",
       "                          25%           50%           75%            max  \n",
       "ID               11511.000000  12188.000000  12865.000000   13542.000000  \n",
       "Area             36144.000000  44397.000000  61626.000000  231066.000000  \n",
       "Perimeter          700.485000    794.894000    979.260000    1845.855000  \n",
       "MajorAxisLength    251.623237    297.858034    376.701298     713.967282  \n",
       "MinorAxisLength    175.374226    192.367881    216.233028     460.198497  \n",
       "AspectRation         1.425448      1.548174      1.706945       2.430306  \n",
       "Eccentricity         0.712636      0.763403      0.810425       0.911423  \n",
       "ConvexArea       36504.000000  45003.000000  62568.000000  232903.000000  \n",
       "EquivDiameter      214.522656    237.756211    280.115441     542.404248  \n",
       "Extent               0.718512      0.758598      0.786651       0.842382  \n",
       "Solidity             0.985859      0.988277      0.990033       0.994378  \n",
       "roundness            0.832856      0.883544      0.917331       0.984966  \n",
       "Compactness          0.762830      0.802013      0.835676       0.981611  \n",
       "ShapeFactor1         0.005905      0.006646      0.007282       0.010451  \n",
       "ShapeFactor2         0.001151      0.001701      0.002190       0.003419  \n",
       "ShapeFactor3         0.581910      0.643224      0.698355       0.963560  \n",
       "ShapeFactor4         0.993791      0.996386      0.997851       0.999707  "
      ]
     },
     "execution_count": 36,
     "metadata": {},
     "output_type": "execute_result"
    }
   ],
   "source": [
    "test_df.describe().T"
   ]
  },
  {
   "cell_type": "code",
   "execution_count": 37,
   "id": "39827b91",
   "metadata": {
    "execution": {
     "iopub.execute_input": "2021-09-30T02:17:02.285752Z",
     "iopub.status.busy": "2021-09-30T02:17:02.282874Z",
     "iopub.status.idle": "2021-09-30T02:17:02.289173Z",
     "shell.execute_reply": "2021-09-30T02:17:02.289769Z",
     "shell.execute_reply.started": "2021-09-30T02:01:04.390859Z"
    },
    "papermill": {
     "duration": 0.083806,
     "end_time": "2021-09-30T02:17:02.289932",
     "exception": false,
     "start_time": "2021-09-30T02:17:02.206126",
     "status": "completed"
    },
    "tags": []
   },
   "outputs": [
    {
     "data": {
      "text/plain": [
       "ID                 0\n",
       "Area               0\n",
       "Perimeter          0\n",
       "MajorAxisLength    0\n",
       "MinorAxisLength    0\n",
       "AspectRation       0\n",
       "Eccentricity       0\n",
       "ConvexArea         0\n",
       "EquivDiameter      0\n",
       "Extent             0\n",
       "Solidity           0\n",
       "roundness          0\n",
       "Compactness        0\n",
       "ShapeFactor1       0\n",
       "ShapeFactor2       0\n",
       "ShapeFactor3       0\n",
       "ShapeFactor4       0\n",
       "dtype: int64"
      ]
     },
     "execution_count": 37,
     "metadata": {},
     "output_type": "execute_result"
    }
   ],
   "source": [
    "test_df.isnull().sum()"
   ]
  },
  {
   "cell_type": "code",
   "execution_count": 38,
   "id": "6794aeee",
   "metadata": {
    "execution": {
     "iopub.execute_input": "2021-09-30T02:17:02.437278Z",
     "iopub.status.busy": "2021-09-30T02:17:02.436607Z",
     "iopub.status.idle": "2021-09-30T02:17:02.442556Z",
     "shell.execute_reply": "2021-09-30T02:17:02.443037Z",
     "shell.execute_reply.started": "2021-09-30T02:01:04.407323Z"
    },
    "papermill": {
     "duration": 0.081874,
     "end_time": "2021-09-30T02:17:02.443202",
     "exception": false,
     "start_time": "2021-09-30T02:17:02.361328",
     "status": "completed"
    },
    "tags": []
   },
   "outputs": [
    {
     "data": {
      "text/plain": [
       "ID                 0\n",
       "Area               0\n",
       "Perimeter          0\n",
       "MajorAxisLength    0\n",
       "MinorAxisLength    0\n",
       "AspectRation       0\n",
       "Eccentricity       0\n",
       "ConvexArea         0\n",
       "EquivDiameter      0\n",
       "Extent             0\n",
       "Solidity           0\n",
       "roundness          0\n",
       "Compactness        0\n",
       "ShapeFactor1       0\n",
       "ShapeFactor2       0\n",
       "ShapeFactor3       0\n",
       "ShapeFactor4       0\n",
       "dtype: int64"
      ]
     },
     "execution_count": 38,
     "metadata": {},
     "output_type": "execute_result"
    }
   ],
   "source": [
    "test_df.isna().sum()"
   ]
  },
  {
   "cell_type": "code",
   "execution_count": 39,
   "id": "0be55bcf",
   "metadata": {
    "execution": {
     "iopub.execute_input": "2021-09-30T02:17:02.593023Z",
     "iopub.status.busy": "2021-09-30T02:17:02.592259Z",
     "iopub.status.idle": "2021-09-30T02:17:02.604969Z",
     "shell.execute_reply": "2021-09-30T02:17:02.605460Z",
     "shell.execute_reply.started": "2021-09-30T02:01:04.425104Z"
    },
    "papermill": {
     "duration": 0.089768,
     "end_time": "2021-09-30T02:17:02.605627",
     "exception": false,
     "start_time": "2021-09-30T02:17:02.515859",
     "status": "completed"
    },
    "tags": []
   },
   "outputs": [
    {
     "data": {
      "text/plain": [
       "ID                 0\n",
       "Area               0\n",
       "Perimeter          0\n",
       "MajorAxisLength    0\n",
       "MinorAxisLength    0\n",
       "AspectRation       0\n",
       "Eccentricity       0\n",
       "ConvexArea         0\n",
       "EquivDiameter      0\n",
       "Extent             0\n",
       "Solidity           0\n",
       "roundness          0\n",
       "Compactness        0\n",
       "ShapeFactor1       0\n",
       "ShapeFactor2       0\n",
       "ShapeFactor3       0\n",
       "ShapeFactor4       0\n",
       "dtype: int64"
      ]
     },
     "execution_count": 39,
     "metadata": {},
     "output_type": "execute_result"
    }
   ],
   "source": [
    "test_df[test_df.duplicated()].count()"
   ]
  },
  {
   "cell_type": "code",
   "execution_count": 40,
   "id": "9735d39f",
   "metadata": {
    "execution": {
     "iopub.execute_input": "2021-09-30T02:17:02.755015Z",
     "iopub.status.busy": "2021-09-30T02:17:02.754381Z",
     "iopub.status.idle": "2021-09-30T02:17:02.766053Z",
     "shell.execute_reply": "2021-09-30T02:17:02.766545Z",
     "shell.execute_reply.started": "2021-09-30T02:01:04.453169Z"
    },
    "papermill": {
     "duration": 0.087388,
     "end_time": "2021-09-30T02:17:02.766735",
     "exception": false,
     "start_time": "2021-09-30T02:17:02.679347",
     "status": "completed"
    },
    "tags": []
   },
   "outputs": [
    {
     "name": "stdout",
     "output_type": "stream",
     "text": [
      "<class 'pandas.core.frame.DataFrame'>\n",
      "RangeIndex: 2709 entries, 0 to 2708\n",
      "Data columns (total 17 columns):\n",
      " #   Column           Non-Null Count  Dtype  \n",
      "---  ------           --------------  -----  \n",
      " 0   ID               2709 non-null   int64  \n",
      " 1   Area             2709 non-null   int64  \n",
      " 2   Perimeter        2709 non-null   float64\n",
      " 3   MajorAxisLength  2709 non-null   float64\n",
      " 4   MinorAxisLength  2709 non-null   float64\n",
      " 5   AspectRation     2709 non-null   float64\n",
      " 6   Eccentricity     2709 non-null   float64\n",
      " 7   ConvexArea       2709 non-null   int64  \n",
      " 8   EquivDiameter    2709 non-null   float64\n",
      " 9   Extent           2709 non-null   float64\n",
      " 10  Solidity         2709 non-null   float64\n",
      " 11  roundness        2709 non-null   float64\n",
      " 12  Compactness      2709 non-null   float64\n",
      " 13  ShapeFactor1     2709 non-null   float64\n",
      " 14  ShapeFactor2     2709 non-null   float64\n",
      " 15  ShapeFactor3     2709 non-null   float64\n",
      " 16  ShapeFactor4     2709 non-null   float64\n",
      "dtypes: float64(14), int64(3)\n",
      "memory usage: 359.9 KB\n"
     ]
    }
   ],
   "source": [
    "test_df.info()"
   ]
  },
  {
   "cell_type": "code",
   "execution_count": 41,
   "id": "edab0e3f",
   "metadata": {
    "execution": {
     "iopub.execute_input": "2021-09-30T02:17:02.924996Z",
     "iopub.status.busy": "2021-09-30T02:17:02.924198Z",
     "iopub.status.idle": "2021-09-30T02:17:02.940055Z",
     "shell.execute_reply": "2021-09-30T02:17:02.940717Z",
     "shell.execute_reply.started": "2021-09-30T02:01:04.472201Z"
    },
    "papermill": {
     "duration": 0.093158,
     "end_time": "2021-09-30T02:17:02.940944",
     "exception": false,
     "start_time": "2021-09-30T02:17:02.847786",
     "status": "completed"
    },
    "tags": []
   },
   "outputs": [],
   "source": [
    "test_df['frist']=(test_df['ShapeFactor1']*test_df['roundness']+test_df['ShapeFactor2']*test_df['roundness'])/test_df['Extent']\n",
    "test_df['second']=test_df['AspectRation']*test_df['roundness']*test_df['ShapeFactor1']+test_df['ShapeFactor2']\n",
    "test_df['third']=(test_df['roundness']*test_df['Solidity']*test_df['ShapeFactor1']**0.5+test_df['ShapeFactor2']*test_df['roundness']*test_df['Solidity'])/test_df['Extent']\n",
    "test_df['four']=((test_df['ShapeFactor1']**2)*test_df['AspectRation']+test_df['ShapeFactor2']*test_df['roundness'])*test_df['roundness']/test_df['Extent']\n",
    "test_df['five']=(test_df['frist']**0.5+test_df['third']**0.5+test_df['second']**0.5+test_df['four']**0.5)*test_df['roundness']**0.5"
   ]
  },
  {
   "cell_type": "code",
   "execution_count": 42,
   "id": "6ba6d44b",
   "metadata": {
    "execution": {
     "iopub.execute_input": "2021-09-30T02:17:03.097946Z",
     "iopub.status.busy": "2021-09-30T02:17:03.097212Z",
     "iopub.status.idle": "2021-09-30T02:17:03.118970Z",
     "shell.execute_reply": "2021-09-30T02:17:03.119565Z",
     "shell.execute_reply.started": "2021-09-30T02:01:04.502943Z"
    },
    "papermill": {
     "duration": 0.097757,
     "end_time": "2021-09-30T02:17:03.119731",
     "exception": false,
     "start_time": "2021-09-30T02:17:03.021974",
     "status": "completed"
    },
    "tags": []
   },
   "outputs": [
    {
     "data": {
      "text/html": [
       "<div>\n",
       "<style scoped>\n",
       "    .dataframe tbody tr th:only-of-type {\n",
       "        vertical-align: middle;\n",
       "    }\n",
       "\n",
       "    .dataframe tbody tr th {\n",
       "        vertical-align: top;\n",
       "    }\n",
       "\n",
       "    .dataframe thead th {\n",
       "        text-align: right;\n",
       "    }\n",
       "</style>\n",
       "<table border=\"1\" class=\"dataframe\">\n",
       "  <thead>\n",
       "    <tr style=\"text-align: right;\">\n",
       "      <th></th>\n",
       "      <th>ID</th>\n",
       "      <th>Area</th>\n",
       "      <th>Perimeter</th>\n",
       "      <th>MajorAxisLength</th>\n",
       "      <th>MinorAxisLength</th>\n",
       "      <th>AspectRation</th>\n",
       "      <th>Eccentricity</th>\n",
       "      <th>ConvexArea</th>\n",
       "      <th>EquivDiameter</th>\n",
       "      <th>Extent</th>\n",
       "      <th>...</th>\n",
       "      <th>Compactness</th>\n",
       "      <th>ShapeFactor1</th>\n",
       "      <th>ShapeFactor2</th>\n",
       "      <th>ShapeFactor3</th>\n",
       "      <th>ShapeFactor4</th>\n",
       "      <th>frist</th>\n",
       "      <th>second</th>\n",
       "      <th>third</th>\n",
       "      <th>four</th>\n",
       "      <th>five</th>\n",
       "    </tr>\n",
       "  </thead>\n",
       "  <tbody>\n",
       "    <tr>\n",
       "      <th>0</th>\n",
       "      <td>10834</td>\n",
       "      <td>57659</td>\n",
       "      <td>955.434</td>\n",
       "      <td>387.757607</td>\n",
       "      <td>196.625782</td>\n",
       "      <td>1.972059</td>\n",
       "      <td>0.861896</td>\n",
       "      <td>60188</td>\n",
       "      <td>270.949661</td>\n",
       "      <td>0.620790</td>\n",
       "      <td>...</td>\n",
       "      <td>0.698760</td>\n",
       "      <td>0.006725</td>\n",
       "      <td>0.000989</td>\n",
       "      <td>0.488266</td>\n",
       "      <td>0.962889</td>\n",
       "      <td>0.009863</td>\n",
       "      <td>0.011516</td>\n",
       "      <td>0.101658</td>\n",
       "      <td>0.001118</td>\n",
       "      <td>0.497929</td>\n",
       "    </tr>\n",
       "    <tr>\n",
       "      <th>1</th>\n",
       "      <td>10835</td>\n",
       "      <td>28772</td>\n",
       "      <td>630.362</td>\n",
       "      <td>229.990785</td>\n",
       "      <td>159.609367</td>\n",
       "      <td>1.440960</td>\n",
       "      <td>0.719993</td>\n",
       "      <td>29127</td>\n",
       "      <td>191.399185</td>\n",
       "      <td>0.767458</td>\n",
       "      <td>...</td>\n",
       "      <td>0.832204</td>\n",
       "      <td>0.007994</td>\n",
       "      <td>0.002365</td>\n",
       "      <td>0.692563</td>\n",
       "      <td>0.997956</td>\n",
       "      <td>0.012281</td>\n",
       "      <td>0.012846</td>\n",
       "      <td>0.107480</td>\n",
       "      <td>0.002661</td>\n",
       "      <td>0.575754</td>\n",
       "    </tr>\n",
       "  </tbody>\n",
       "</table>\n",
       "<p>2 rows × 22 columns</p>\n",
       "</div>"
      ],
      "text/plain": [
       "      ID   Area  Perimeter  MajorAxisLength  MinorAxisLength  AspectRation  \\\n",
       "0  10834  57659    955.434       387.757607       196.625782      1.972059   \n",
       "1  10835  28772    630.362       229.990785       159.609367      1.440960   \n",
       "\n",
       "   Eccentricity  ConvexArea  EquivDiameter    Extent  ...  Compactness  \\\n",
       "0      0.861896       60188     270.949661  0.620790  ...     0.698760   \n",
       "1      0.719993       29127     191.399185  0.767458  ...     0.832204   \n",
       "\n",
       "   ShapeFactor1  ShapeFactor2  ShapeFactor3  ShapeFactor4     frist    second  \\\n",
       "0      0.006725      0.000989      0.488266      0.962889  0.009863  0.011516   \n",
       "1      0.007994      0.002365      0.692563      0.997956  0.012281  0.012846   \n",
       "\n",
       "      third      four      five  \n",
       "0  0.101658  0.001118  0.497929  \n",
       "1  0.107480  0.002661  0.575754  \n",
       "\n",
       "[2 rows x 22 columns]"
      ]
     },
     "execution_count": 42,
     "metadata": {},
     "output_type": "execute_result"
    }
   ],
   "source": [
    "test_df.head(2)"
   ]
  },
  {
   "cell_type": "code",
   "execution_count": 43,
   "id": "e3f56d30",
   "metadata": {
    "execution": {
     "iopub.execute_input": "2021-09-30T02:17:03.268187Z",
     "iopub.status.busy": "2021-09-30T02:17:03.267596Z",
     "iopub.status.idle": "2021-09-30T02:17:03.273712Z",
     "shell.execute_reply": "2021-09-30T02:17:03.274206Z",
     "shell.execute_reply.started": "2021-09-30T02:01:04.537129Z"
    },
    "papermill": {
     "duration": 0.082251,
     "end_time": "2021-09-30T02:17:03.274409",
     "exception": false,
     "start_time": "2021-09-30T02:17:03.192158",
     "status": "completed"
    },
    "tags": []
   },
   "outputs": [],
   "source": [
    "y_test_scaler = test_df.drop(columns =['ID','Area','Perimeter','EquivDiameter','MajorAxisLength','MinorAxisLength','second','four','frist','third'],axis=1)"
   ]
  },
  {
   "cell_type": "code",
   "execution_count": 44,
   "id": "77b3bc09",
   "metadata": {
    "execution": {
     "iopub.execute_input": "2021-09-30T02:17:03.425686Z",
     "iopub.status.busy": "2021-09-30T02:17:03.425029Z",
     "iopub.status.idle": "2021-09-30T02:17:03.445167Z",
     "shell.execute_reply": "2021-09-30T02:17:03.445671Z",
     "shell.execute_reply.started": "2021-09-30T02:01:04.549943Z"
    },
    "papermill": {
     "duration": 0.097102,
     "end_time": "2021-09-30T02:17:03.445846",
     "exception": false,
     "start_time": "2021-09-30T02:17:03.348744",
     "status": "completed"
    },
    "tags": []
   },
   "outputs": [
    {
     "data": {
      "text/html": [
       "<div>\n",
       "<style scoped>\n",
       "    .dataframe tbody tr th:only-of-type {\n",
       "        vertical-align: middle;\n",
       "    }\n",
       "\n",
       "    .dataframe tbody tr th {\n",
       "        vertical-align: top;\n",
       "    }\n",
       "\n",
       "    .dataframe thead th {\n",
       "        text-align: right;\n",
       "    }\n",
       "</style>\n",
       "<table border=\"1\" class=\"dataframe\">\n",
       "  <thead>\n",
       "    <tr style=\"text-align: right;\">\n",
       "      <th></th>\n",
       "      <th>AspectRation</th>\n",
       "      <th>Eccentricity</th>\n",
       "      <th>ConvexArea</th>\n",
       "      <th>Extent</th>\n",
       "      <th>Solidity</th>\n",
       "      <th>roundness</th>\n",
       "      <th>Compactness</th>\n",
       "      <th>ShapeFactor1</th>\n",
       "      <th>ShapeFactor2</th>\n",
       "      <th>ShapeFactor3</th>\n",
       "      <th>ShapeFactor4</th>\n",
       "      <th>five</th>\n",
       "    </tr>\n",
       "  </thead>\n",
       "  <tbody>\n",
       "    <tr>\n",
       "      <th>0</th>\n",
       "      <td>1.972059</td>\n",
       "      <td>0.861896</td>\n",
       "      <td>60188</td>\n",
       "      <td>0.620790</td>\n",
       "      <td>0.957982</td>\n",
       "      <td>0.793735</td>\n",
       "      <td>0.698760</td>\n",
       "      <td>0.006725</td>\n",
       "      <td>0.000989</td>\n",
       "      <td>0.488266</td>\n",
       "      <td>0.962889</td>\n",
       "      <td>0.497929</td>\n",
       "    </tr>\n",
       "    <tr>\n",
       "      <th>1</th>\n",
       "      <td>1.440960</td>\n",
       "      <td>0.719993</td>\n",
       "      <td>29127</td>\n",
       "      <td>0.767458</td>\n",
       "      <td>0.987812</td>\n",
       "      <td>0.909913</td>\n",
       "      <td>0.832204</td>\n",
       "      <td>0.007994</td>\n",
       "      <td>0.002365</td>\n",
       "      <td>0.692563</td>\n",
       "      <td>0.997956</td>\n",
       "      <td>0.575754</td>\n",
       "    </tr>\n",
       "    <tr>\n",
       "      <th>2</th>\n",
       "      <td>1.364204</td>\n",
       "      <td>0.680198</td>\n",
       "      <td>55858</td>\n",
       "      <td>0.753013</td>\n",
       "      <td>0.978857</td>\n",
       "      <td>0.827860</td>\n",
       "      <td>0.854288</td>\n",
       "      <td>0.005649</td>\n",
       "      <td>0.001856</td>\n",
       "      <td>0.729808</td>\n",
       "      <td>0.995607</td>\n",
       "      <td>0.465074</td>\n",
       "    </tr>\n",
       "    <tr>\n",
       "      <th>3</th>\n",
       "      <td>1.449322</td>\n",
       "      <td>0.723831</td>\n",
       "      <td>25121</td>\n",
       "      <td>0.716508</td>\n",
       "      <td>0.988297</td>\n",
       "      <td>0.932871</td>\n",
       "      <td>0.830066</td>\n",
       "      <td>0.008627</td>\n",
       "      <td>0.002526</td>\n",
       "      <td>0.689009</td>\n",
       "      <td>0.998596</td>\n",
       "      <td>0.624581</td>\n",
       "    </tr>\n",
       "    <tr>\n",
       "      <th>4</th>\n",
       "      <td>1.513136</td>\n",
       "      <td>0.750492</td>\n",
       "      <td>143680</td>\n",
       "      <td>0.804617</td>\n",
       "      <td>0.987263</td>\n",
       "      <td>0.868240</td>\n",
       "      <td>0.809606</td>\n",
       "      <td>0.003701</td>\n",
       "      <td>0.000981</td>\n",
       "      <td>0.655462</td>\n",
       "      <td>0.991803</td>\n",
       "      <td>0.405146</td>\n",
       "    </tr>\n",
       "    <tr>\n",
       "      <th>...</th>\n",
       "      <td>...</td>\n",
       "      <td>...</td>\n",
       "      <td>...</td>\n",
       "      <td>...</td>\n",
       "      <td>...</td>\n",
       "      <td>...</td>\n",
       "      <td>...</td>\n",
       "      <td>...</td>\n",
       "      <td>...</td>\n",
       "      <td>...</td>\n",
       "      <td>...</td>\n",
       "      <td>...</td>\n",
       "    </tr>\n",
       "    <tr>\n",
       "      <th>2704</th>\n",
       "      <td>1.867992</td>\n",
       "      <td>0.844640</td>\n",
       "      <td>67787</td>\n",
       "      <td>0.759604</td>\n",
       "      <td>0.985927</td>\n",
       "      <td>0.809876</td>\n",
       "      <td>0.728550</td>\n",
       "      <td>0.005991</td>\n",
       "      <td>0.001041</td>\n",
       "      <td>0.530786</td>\n",
       "      <td>0.991504</td>\n",
       "      <td>0.454840</td>\n",
       "    </tr>\n",
       "    <tr>\n",
       "      <th>2705</th>\n",
       "      <td>1.214276</td>\n",
       "      <td>0.567264</td>\n",
       "      <td>40900</td>\n",
       "      <td>0.767479</td>\n",
       "      <td>0.991980</td>\n",
       "      <td>0.969089</td>\n",
       "      <td>0.906546</td>\n",
       "      <td>0.006179</td>\n",
       "      <td>0.002574</td>\n",
       "      <td>0.821825</td>\n",
       "      <td>0.997923</td>\n",
       "      <td>0.570864</td>\n",
       "    </tr>\n",
       "    <tr>\n",
       "      <th>2706</th>\n",
       "      <td>2.047432</td>\n",
       "      <td>0.872611</td>\n",
       "      <td>63901</td>\n",
       "      <td>0.611648</td>\n",
       "      <td>0.958138</td>\n",
       "      <td>0.756657</td>\n",
       "      <td>0.683944</td>\n",
       "      <td>0.006668</td>\n",
       "      <td>0.000900</td>\n",
       "      <td>0.467780</td>\n",
       "      <td>0.957748</td>\n",
       "      <td>0.475327</td>\n",
       "    </tr>\n",
       "    <tr>\n",
       "      <th>2707</th>\n",
       "      <td>1.497241</td>\n",
       "      <td>0.744255</td>\n",
       "      <td>34724</td>\n",
       "      <td>0.724890</td>\n",
       "      <td>0.986004</td>\n",
       "      <td>0.880956</td>\n",
       "      <td>0.816130</td>\n",
       "      <td>0.007472</td>\n",
       "      <td>0.002045</td>\n",
       "      <td>0.666067</td>\n",
       "      <td>0.997263</td>\n",
       "      <td>0.553884</td>\n",
       "    </tr>\n",
       "    <tr>\n",
       "      <th>2708</th>\n",
       "      <td>1.533909</td>\n",
       "      <td>0.758280</td>\n",
       "      <td>49668</td>\n",
       "      <td>0.798166</td>\n",
       "      <td>0.990074</td>\n",
       "      <td>0.900052</td>\n",
       "      <td>0.806248</td>\n",
       "      <td>0.006311</td>\n",
       "      <td>0.001645</td>\n",
       "      <td>0.650036</td>\n",
       "      <td>0.997096</td>\n",
       "      <td>0.511427</td>\n",
       "    </tr>\n",
       "  </tbody>\n",
       "</table>\n",
       "<p>2709 rows × 12 columns</p>\n",
       "</div>"
      ],
      "text/plain": [
       "      AspectRation  Eccentricity  ConvexArea    Extent  Solidity  roundness  \\\n",
       "0         1.972059      0.861896       60188  0.620790  0.957982   0.793735   \n",
       "1         1.440960      0.719993       29127  0.767458  0.987812   0.909913   \n",
       "2         1.364204      0.680198       55858  0.753013  0.978857   0.827860   \n",
       "3         1.449322      0.723831       25121  0.716508  0.988297   0.932871   \n",
       "4         1.513136      0.750492      143680  0.804617  0.987263   0.868240   \n",
       "...            ...           ...         ...       ...       ...        ...   \n",
       "2704      1.867992      0.844640       67787  0.759604  0.985927   0.809876   \n",
       "2705      1.214276      0.567264       40900  0.767479  0.991980   0.969089   \n",
       "2706      2.047432      0.872611       63901  0.611648  0.958138   0.756657   \n",
       "2707      1.497241      0.744255       34724  0.724890  0.986004   0.880956   \n",
       "2708      1.533909      0.758280       49668  0.798166  0.990074   0.900052   \n",
       "\n",
       "      Compactness  ShapeFactor1  ShapeFactor2  ShapeFactor3  ShapeFactor4  \\\n",
       "0        0.698760      0.006725      0.000989      0.488266      0.962889   \n",
       "1        0.832204      0.007994      0.002365      0.692563      0.997956   \n",
       "2        0.854288      0.005649      0.001856      0.729808      0.995607   \n",
       "3        0.830066      0.008627      0.002526      0.689009      0.998596   \n",
       "4        0.809606      0.003701      0.000981      0.655462      0.991803   \n",
       "...           ...           ...           ...           ...           ...   \n",
       "2704     0.728550      0.005991      0.001041      0.530786      0.991504   \n",
       "2705     0.906546      0.006179      0.002574      0.821825      0.997923   \n",
       "2706     0.683944      0.006668      0.000900      0.467780      0.957748   \n",
       "2707     0.816130      0.007472      0.002045      0.666067      0.997263   \n",
       "2708     0.806248      0.006311      0.001645      0.650036      0.997096   \n",
       "\n",
       "          five  \n",
       "0     0.497929  \n",
       "1     0.575754  \n",
       "2     0.465074  \n",
       "3     0.624581  \n",
       "4     0.405146  \n",
       "...        ...  \n",
       "2704  0.454840  \n",
       "2705  0.570864  \n",
       "2706  0.475327  \n",
       "2707  0.553884  \n",
       "2708  0.511427  \n",
       "\n",
       "[2709 rows x 12 columns]"
      ]
     },
     "execution_count": 44,
     "metadata": {},
     "output_type": "execute_result"
    }
   ],
   "source": [
    "y_test_scaler"
   ]
  },
  {
   "cell_type": "code",
   "execution_count": 45,
   "id": "ca749ebb",
   "metadata": {
    "execution": {
     "iopub.execute_input": "2021-09-30T02:17:03.594660Z",
     "iopub.status.busy": "2021-09-30T02:17:03.593762Z",
     "iopub.status.idle": "2021-09-30T02:17:03.601578Z",
     "shell.execute_reply": "2021-09-30T02:17:03.602082Z",
     "shell.execute_reply.started": "2021-09-30T02:01:04.583137Z"
    },
    "papermill": {
     "duration": 0.083531,
     "end_time": "2021-09-30T02:17:03.602253",
     "exception": false,
     "start_time": "2021-09-30T02:17:03.518722",
     "status": "completed"
    },
    "tags": []
   },
   "outputs": [],
   "source": [
    "from sklearn.preprocessing import StandardScaler\n",
    "y_scaler = StandardScaler().fit_transform(y_test_scaler)\n"
   ]
  },
  {
   "cell_type": "code",
   "execution_count": 46,
   "id": "cdc55646",
   "metadata": {
    "execution": {
     "iopub.execute_input": "2021-09-30T02:17:03.752550Z",
     "iopub.status.busy": "2021-09-30T02:17:03.751858Z",
     "iopub.status.idle": "2021-09-30T02:17:04.400554Z",
     "shell.execute_reply": "2021-09-30T02:17:04.399839Z",
     "shell.execute_reply.started": "2021-09-30T02:01:04.598510Z"
    },
    "papermill": {
     "duration": 0.724097,
     "end_time": "2021-09-30T02:17:04.400699",
     "exception": false,
     "start_time": "2021-09-30T02:17:03.676602",
     "status": "completed"
    },
    "tags": []
   },
   "outputs": [
    {
     "data": {
      "text/html": [
       "<div>\n",
       "<style scoped>\n",
       "    .dataframe tbody tr th:only-of-type {\n",
       "        vertical-align: middle;\n",
       "    }\n",
       "\n",
       "    .dataframe tbody tr th {\n",
       "        vertical-align: top;\n",
       "    }\n",
       "\n",
       "    .dataframe thead th {\n",
       "        text-align: right;\n",
       "    }\n",
       "</style>\n",
       "<table border=\"1\" class=\"dataframe\">\n",
       "  <thead>\n",
       "    <tr style=\"text-align: right;\">\n",
       "      <th></th>\n",
       "      <th>ID</th>\n",
       "      <th>Area</th>\n",
       "      <th>Perimeter</th>\n",
       "      <th>MajorAxisLength</th>\n",
       "      <th>MinorAxisLength</th>\n",
       "      <th>AspectRation</th>\n",
       "      <th>Eccentricity</th>\n",
       "      <th>ConvexArea</th>\n",
       "      <th>EquivDiameter</th>\n",
       "      <th>Extent</th>\n",
       "      <th>...</th>\n",
       "      <th>ShapeFactor1</th>\n",
       "      <th>ShapeFactor2</th>\n",
       "      <th>ShapeFactor3</th>\n",
       "      <th>ShapeFactor4</th>\n",
       "      <th>frist</th>\n",
       "      <th>second</th>\n",
       "      <th>third</th>\n",
       "      <th>four</th>\n",
       "      <th>five</th>\n",
       "      <th>y</th>\n",
       "    </tr>\n",
       "  </thead>\n",
       "  <tbody>\n",
       "    <tr>\n",
       "      <th>0</th>\n",
       "      <td>10834</td>\n",
       "      <td>57659</td>\n",
       "      <td>955.434</td>\n",
       "      <td>387.757607</td>\n",
       "      <td>196.625782</td>\n",
       "      <td>1.972059</td>\n",
       "      <td>0.861896</td>\n",
       "      <td>60188</td>\n",
       "      <td>270.949661</td>\n",
       "      <td>0.620790</td>\n",
       "      <td>...</td>\n",
       "      <td>0.006725</td>\n",
       "      <td>0.000989</td>\n",
       "      <td>0.488266</td>\n",
       "      <td>0.962889</td>\n",
       "      <td>0.009863</td>\n",
       "      <td>0.011516</td>\n",
       "      <td>0.101658</td>\n",
       "      <td>0.001118</td>\n",
       "      <td>0.497929</td>\n",
       "      <td>HOROZ</td>\n",
       "    </tr>\n",
       "    <tr>\n",
       "      <th>1</th>\n",
       "      <td>10835</td>\n",
       "      <td>28772</td>\n",
       "      <td>630.362</td>\n",
       "      <td>229.990785</td>\n",
       "      <td>159.609367</td>\n",
       "      <td>1.440960</td>\n",
       "      <td>0.719993</td>\n",
       "      <td>29127</td>\n",
       "      <td>191.399185</td>\n",
       "      <td>0.767458</td>\n",
       "      <td>...</td>\n",
       "      <td>0.007994</td>\n",
       "      <td>0.002365</td>\n",
       "      <td>0.692563</td>\n",
       "      <td>0.997956</td>\n",
       "      <td>0.012281</td>\n",
       "      <td>0.012846</td>\n",
       "      <td>0.107480</td>\n",
       "      <td>0.002661</td>\n",
       "      <td>0.575754</td>\n",
       "      <td>DERMASON</td>\n",
       "    </tr>\n",
       "    <tr>\n",
       "      <th>2</th>\n",
       "      <td>10836</td>\n",
       "      <td>54677</td>\n",
       "      <td>911.022</td>\n",
       "      <td>308.853903</td>\n",
       "      <td>226.398571</td>\n",
       "      <td>1.364204</td>\n",
       "      <td>0.680198</td>\n",
       "      <td>55858</td>\n",
       "      <td>263.850182</td>\n",
       "      <td>0.753013</td>\n",
       "      <td>...</td>\n",
       "      <td>0.005649</td>\n",
       "      <td>0.001856</td>\n",
       "      <td>0.729808</td>\n",
       "      <td>0.995607</td>\n",
       "      <td>0.008250</td>\n",
       "      <td>0.008235</td>\n",
       "      <td>0.082878</td>\n",
       "      <td>0.001737</td>\n",
       "      <td>0.465074</td>\n",
       "      <td>BARBUNYA</td>\n",
       "    </tr>\n",
       "    <tr>\n",
       "      <th>3</th>\n",
       "      <td>10837</td>\n",
       "      <td>24827</td>\n",
       "      <td>578.304</td>\n",
       "      <td>214.192699</td>\n",
       "      <td>147.788172</td>\n",
       "      <td>1.449322</td>\n",
       "      <td>0.723831</td>\n",
       "      <td>25121</td>\n",
       "      <td>177.794033</td>\n",
       "      <td>0.716508</td>\n",
       "      <td>...</td>\n",
       "      <td>0.008627</td>\n",
       "      <td>0.002526</td>\n",
       "      <td>0.689009</td>\n",
       "      <td>0.998596</td>\n",
       "      <td>0.014522</td>\n",
       "      <td>0.014191</td>\n",
       "      <td>0.122767</td>\n",
       "      <td>0.003209</td>\n",
       "      <td>0.624581</td>\n",
       "      <td>DERMASON</td>\n",
       "    </tr>\n",
       "    <tr>\n",
       "      <th>4</th>\n",
       "      <td>10838</td>\n",
       "      <td>141850</td>\n",
       "      <td>1432.847</td>\n",
       "      <td>524.923471</td>\n",
       "      <td>346.910920</td>\n",
       "      <td>1.513136</td>\n",
       "      <td>0.750492</td>\n",
       "      <td>143680</td>\n",
       "      <td>424.981211</td>\n",
       "      <td>0.804617</td>\n",
       "      <td>...</td>\n",
       "      <td>0.003701</td>\n",
       "      <td>0.000981</td>\n",
       "      <td>0.655462</td>\n",
       "      <td>0.991803</td>\n",
       "      <td>0.005051</td>\n",
       "      <td>0.005842</td>\n",
       "      <td>0.065851</td>\n",
       "      <td>0.000941</td>\n",
       "      <td>0.405146</td>\n",
       "      <td>BOMBAY</td>\n",
       "    </tr>\n",
       "    <tr>\n",
       "      <th>...</th>\n",
       "      <td>...</td>\n",
       "      <td>...</td>\n",
       "      <td>...</td>\n",
       "      <td>...</td>\n",
       "      <td>...</td>\n",
       "      <td>...</td>\n",
       "      <td>...</td>\n",
       "      <td>...</td>\n",
       "      <td>...</td>\n",
       "      <td>...</td>\n",
       "      <td>...</td>\n",
       "      <td>...</td>\n",
       "      <td>...</td>\n",
       "      <td>...</td>\n",
       "      <td>...</td>\n",
       "      <td>...</td>\n",
       "      <td>...</td>\n",
       "      <td>...</td>\n",
       "      <td>...</td>\n",
       "      <td>...</td>\n",
       "      <td>...</td>\n",
       "    </tr>\n",
       "    <tr>\n",
       "      <th>2704</th>\n",
       "      <td>13538</td>\n",
       "      <td>66833</td>\n",
       "      <td>1018.336</td>\n",
       "      <td>400.397077</td>\n",
       "      <td>214.346215</td>\n",
       "      <td>1.867992</td>\n",
       "      <td>0.844640</td>\n",
       "      <td>67787</td>\n",
       "      <td>291.709476</td>\n",
       "      <td>0.759604</td>\n",
       "      <td>...</td>\n",
       "      <td>0.005991</td>\n",
       "      <td>0.001041</td>\n",
       "      <td>0.530786</td>\n",
       "      <td>0.991504</td>\n",
       "      <td>0.007498</td>\n",
       "      <td>0.010105</td>\n",
       "      <td>0.082457</td>\n",
       "      <td>0.000971</td>\n",
       "      <td>0.454840</td>\n",
       "      <td>CALI</td>\n",
       "    </tr>\n",
       "    <tr>\n",
       "      <th>2705</th>\n",
       "      <td>13539</td>\n",
       "      <td>40572</td>\n",
       "      <td>725.331</td>\n",
       "      <td>250.714014</td>\n",
       "      <td>206.471935</td>\n",
       "      <td>1.214276</td>\n",
       "      <td>0.567264</td>\n",
       "      <td>40900</td>\n",
       "      <td>227.283688</td>\n",
       "      <td>0.767479</td>\n",
       "      <td>...</td>\n",
       "      <td>0.006179</td>\n",
       "      <td>0.002574</td>\n",
       "      <td>0.821825</td>\n",
       "      <td>0.997923</td>\n",
       "      <td>0.011054</td>\n",
       "      <td>0.009846</td>\n",
       "      <td>0.101689</td>\n",
       "      <td>0.003209</td>\n",
       "      <td>0.570864</td>\n",
       "      <td>SEKER</td>\n",
       "    </tr>\n",
       "    <tr>\n",
       "      <th>2706</th>\n",
       "      <td>13540</td>\n",
       "      <td>61226</td>\n",
       "      <td>1008.378</td>\n",
       "      <td>408.227467</td>\n",
       "      <td>199.385082</td>\n",
       "      <td>2.047432</td>\n",
       "      <td>0.872611</td>\n",
       "      <td>63901</td>\n",
       "      <td>279.204879</td>\n",
       "      <td>0.611648</td>\n",
       "      <td>...</td>\n",
       "      <td>0.006668</td>\n",
       "      <td>0.000900</td>\n",
       "      <td>0.467780</td>\n",
       "      <td>0.957748</td>\n",
       "      <td>0.009362</td>\n",
       "      <td>0.011229</td>\n",
       "      <td>0.097852</td>\n",
       "      <td>0.000955</td>\n",
       "      <td>0.475327</td>\n",
       "      <td>HOROZ</td>\n",
       "    </tr>\n",
       "    <tr>\n",
       "      <th>2707</th>\n",
       "      <td>13541</td>\n",
       "      <td>34238</td>\n",
       "      <td>698.847</td>\n",
       "      <td>255.829224</td>\n",
       "      <td>170.867099</td>\n",
       "      <td>1.497241</td>\n",
       "      <td>0.744255</td>\n",
       "      <td>34724</td>\n",
       "      <td>208.789788</td>\n",
       "      <td>0.724890</td>\n",
       "      <td>...</td>\n",
       "      <td>0.007472</td>\n",
       "      <td>0.002045</td>\n",
       "      <td>0.666067</td>\n",
       "      <td>0.997263</td>\n",
       "      <td>0.011566</td>\n",
       "      <td>0.011901</td>\n",
       "      <td>0.106032</td>\n",
       "      <td>0.002291</td>\n",
       "      <td>0.553884</td>\n",
       "      <td>DERMASON</td>\n",
       "    </tr>\n",
       "    <tr>\n",
       "      <th>2708</th>\n",
       "      <td>13542</td>\n",
       "      <td>49175</td>\n",
       "      <td>828.597</td>\n",
       "      <td>310.354804</td>\n",
       "      <td>202.329323</td>\n",
       "      <td>1.533909</td>\n",
       "      <td>0.758280</td>\n",
       "      <td>49668</td>\n",
       "      <td>250.223010</td>\n",
       "      <td>0.798166</td>\n",
       "      <td>...</td>\n",
       "      <td>0.006311</td>\n",
       "      <td>0.001645</td>\n",
       "      <td>0.650036</td>\n",
       "      <td>0.997096</td>\n",
       "      <td>0.008972</td>\n",
       "      <td>0.010358</td>\n",
       "      <td>0.090532</td>\n",
       "      <td>0.001738</td>\n",
       "      <td>0.511427</td>\n",
       "      <td>SIRA</td>\n",
       "    </tr>\n",
       "  </tbody>\n",
       "</table>\n",
       "<p>2709 rows × 23 columns</p>\n",
       "</div>"
      ],
      "text/plain": [
       "         ID    Area  Perimeter  MajorAxisLength  MinorAxisLength  \\\n",
       "0     10834   57659    955.434       387.757607       196.625782   \n",
       "1     10835   28772    630.362       229.990785       159.609367   \n",
       "2     10836   54677    911.022       308.853903       226.398571   \n",
       "3     10837   24827    578.304       214.192699       147.788172   \n",
       "4     10838  141850   1432.847       524.923471       346.910920   \n",
       "...     ...     ...        ...              ...              ...   \n",
       "2704  13538   66833   1018.336       400.397077       214.346215   \n",
       "2705  13539   40572    725.331       250.714014       206.471935   \n",
       "2706  13540   61226   1008.378       408.227467       199.385082   \n",
       "2707  13541   34238    698.847       255.829224       170.867099   \n",
       "2708  13542   49175    828.597       310.354804       202.329323   \n",
       "\n",
       "      AspectRation  Eccentricity  ConvexArea  EquivDiameter    Extent  ...  \\\n",
       "0         1.972059      0.861896       60188     270.949661  0.620790  ...   \n",
       "1         1.440960      0.719993       29127     191.399185  0.767458  ...   \n",
       "2         1.364204      0.680198       55858     263.850182  0.753013  ...   \n",
       "3         1.449322      0.723831       25121     177.794033  0.716508  ...   \n",
       "4         1.513136      0.750492      143680     424.981211  0.804617  ...   \n",
       "...            ...           ...         ...            ...       ...  ...   \n",
       "2704      1.867992      0.844640       67787     291.709476  0.759604  ...   \n",
       "2705      1.214276      0.567264       40900     227.283688  0.767479  ...   \n",
       "2706      2.047432      0.872611       63901     279.204879  0.611648  ...   \n",
       "2707      1.497241      0.744255       34724     208.789788  0.724890  ...   \n",
       "2708      1.533909      0.758280       49668     250.223010  0.798166  ...   \n",
       "\n",
       "      ShapeFactor1  ShapeFactor2  ShapeFactor3  ShapeFactor4     frist  \\\n",
       "0         0.006725      0.000989      0.488266      0.962889  0.009863   \n",
       "1         0.007994      0.002365      0.692563      0.997956  0.012281   \n",
       "2         0.005649      0.001856      0.729808      0.995607  0.008250   \n",
       "3         0.008627      0.002526      0.689009      0.998596  0.014522   \n",
       "4         0.003701      0.000981      0.655462      0.991803  0.005051   \n",
       "...            ...           ...           ...           ...       ...   \n",
       "2704      0.005991      0.001041      0.530786      0.991504  0.007498   \n",
       "2705      0.006179      0.002574      0.821825      0.997923  0.011054   \n",
       "2706      0.006668      0.000900      0.467780      0.957748  0.009362   \n",
       "2707      0.007472      0.002045      0.666067      0.997263  0.011566   \n",
       "2708      0.006311      0.001645      0.650036      0.997096  0.008972   \n",
       "\n",
       "        second     third      four      five         y  \n",
       "0     0.011516  0.101658  0.001118  0.497929     HOROZ  \n",
       "1     0.012846  0.107480  0.002661  0.575754  DERMASON  \n",
       "2     0.008235  0.082878  0.001737  0.465074  BARBUNYA  \n",
       "3     0.014191  0.122767  0.003209  0.624581  DERMASON  \n",
       "4     0.005842  0.065851  0.000941  0.405146    BOMBAY  \n",
       "...        ...       ...       ...       ...       ...  \n",
       "2704  0.010105  0.082457  0.000971  0.454840      CALI  \n",
       "2705  0.009846  0.101689  0.003209  0.570864     SEKER  \n",
       "2706  0.011229  0.097852  0.000955  0.475327     HOROZ  \n",
       "2707  0.011901  0.106032  0.002291  0.553884  DERMASON  \n",
       "2708  0.010358  0.090532  0.001738  0.511427      SIRA  \n",
       "\n",
       "[2709 rows x 23 columns]"
      ]
     },
     "execution_count": 46,
     "metadata": {},
     "output_type": "execute_result"
    }
   ],
   "source": [
    "y_test_predicted = classifier.predict(y_scaler)\n",
    "test_df['y'] =le.inverse_transform(y_test_predicted)\n",
    "test_df"
   ]
  },
  {
   "cell_type": "markdown",
   "id": "538b681b",
   "metadata": {
    "papermill": {
     "duration": 0.074956,
     "end_time": "2021-09-30T02:17:04.558165",
     "exception": false,
     "start_time": "2021-09-30T02:17:04.483209",
     "status": "completed"
    },
    "tags": []
   },
   "source": [
    "# > **SUBMISSION**"
   ]
  },
  {
   "cell_type": "code",
   "execution_count": 47,
   "id": "4e512c7d",
   "metadata": {
    "execution": {
     "iopub.execute_input": "2021-09-30T02:17:04.716927Z",
     "iopub.status.busy": "2021-09-30T02:17:04.716183Z",
     "iopub.status.idle": "2021-09-30T02:17:04.728904Z",
     "shell.execute_reply": "2021-09-30T02:17:04.728241Z",
     "shell.execute_reply.started": "2021-09-30T02:03:12.860908Z"
    },
    "papermill": {
     "duration": 0.094662,
     "end_time": "2021-09-30T02:17:04.729052",
     "exception": false,
     "start_time": "2021-09-30T02:17:04.634390",
     "status": "completed"
    },
    "tags": []
   },
   "outputs": [],
   "source": [
    "test_df[['ID', 'y']].to_csv('final_submission.csv', index=False)"
   ]
  }
 ],
 "metadata": {
  "kernelspec": {
   "display_name": "Python 3",
   "language": "python",
   "name": "python3"
  },
  "language_info": {
   "codemirror_mode": {
    "name": "ipython",
    "version": 3
   },
   "file_extension": ".py",
   "mimetype": "text/x-python",
   "name": "python",
   "nbconvert_exporter": "python",
   "pygments_lexer": "ipython3",
   "version": "3.7.10"
  },
  "papermill": {
   "default_parameters": {},
   "duration": 809.129788,
   "end_time": "2021-09-30T02:17:06.372724",
   "environment_variables": {},
   "exception": null,
   "input_path": "__notebook__.ipynb",
   "output_path": "__notebook__.ipynb",
   "parameters": {},
   "start_time": "2021-09-30T02:03:37.242936",
   "version": "2.3.3"
  }
 },
 "nbformat": 4,
 "nbformat_minor": 5
}
