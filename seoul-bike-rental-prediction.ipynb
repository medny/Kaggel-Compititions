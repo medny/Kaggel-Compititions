{
 "cells": [
  {
   "cell_type": "markdown",
   "id": "b2b5b4b2",
   "metadata": {
    "_cell_guid": "b1076dfc-b9ad-4769-8c92-a6c4dae69d19",
    "_uuid": "8f2839f25d086af736a60e9eeb907d3b93b6e0e5",
    "execution": {
     "iopub.execute_input": "2021-08-29T23:03:38.594738Z",
     "iopub.status.busy": "2021-08-29T23:03:38.592754Z",
     "iopub.status.idle": "2021-08-29T23:03:40.070529Z",
     "shell.execute_reply": "2021-08-29T23:03:40.069767Z",
     "shell.execute_reply.started": "2021-08-29T23:01:39.014598Z"
    },
    "papermill": {
     "duration": 0.036278,
     "end_time": "2021-10-02T00:45:52.205399",
     "exception": false,
     "start_time": "2021-10-02T00:45:52.169121",
     "status": "completed"
    },
    "tags": []
   },
   "source": [
    "# **Seoul Bike Rental Prediction**"
   ]
  },
  {
   "cell_type": "markdown",
   "id": "de6cc40d",
   "metadata": {
    "papermill": {
     "duration": 0.03205,
     "end_time": "2021-10-02T00:45:52.270333",
     "exception": false,
     "start_time": "2021-10-02T00:45:52.238283",
     "status": "completed"
    },
    "tags": []
   },
   "source": [
    "# > **IMPORT LIBERIRES AND READ THE DATA**"
   ]
  },
  {
   "cell_type": "code",
   "execution_count": 1,
   "id": "41628b56",
   "metadata": {
    "execution": {
     "iopub.execute_input": "2021-10-02T00:45:52.350993Z",
     "iopub.status.busy": "2021-10-02T00:45:52.349182Z",
     "iopub.status.idle": "2021-10-02T00:45:53.618732Z",
     "shell.execute_reply": "2021-10-02T00:45:53.619313Z",
     "shell.execute_reply.started": "2021-10-02T00:34:12.169949Z"
    },
    "papermill": {
     "duration": 1.316735,
     "end_time": "2021-10-02T00:45:53.619600",
     "exception": false,
     "start_time": "2021-10-02T00:45:52.302865",
     "status": "completed"
    },
    "tags": []
   },
   "outputs": [
    {
     "name": "stdout",
     "output_type": "stream",
     "text": [
      "The shape of the dataset is (5760, 15).\n",
      "\n",
      "\n"
     ]
    },
    {
     "data": {
      "text/html": [
       "<div>\n",
       "<style scoped>\n",
       "    .dataframe tbody tr th:only-of-type {\n",
       "        vertical-align: middle;\n",
       "    }\n",
       "\n",
       "    .dataframe tbody tr th {\n",
       "        vertical-align: top;\n",
       "    }\n",
       "\n",
       "    .dataframe thead th {\n",
       "        text-align: right;\n",
       "    }\n",
       "</style>\n",
       "<table border=\"1\" class=\"dataframe\">\n",
       "  <thead>\n",
       "    <tr style=\"text-align: right;\">\n",
       "      <th></th>\n",
       "      <th>ID</th>\n",
       "      <th>Date</th>\n",
       "      <th>y</th>\n",
       "      <th>Hour</th>\n",
       "      <th>Temperature(�C)</th>\n",
       "      <th>Humidity(%)</th>\n",
       "      <th>Wind speed (m/s)</th>\n",
       "      <th>Visibility (10m)</th>\n",
       "      <th>Dew point temperature(�C)</th>\n",
       "      <th>Solar Radiation (MJ/m2)</th>\n",
       "      <th>Rainfall(mm)</th>\n",
       "      <th>Snowfall (cm)</th>\n",
       "      <th>Seasons</th>\n",
       "      <th>Holiday</th>\n",
       "      <th>Functioning Day</th>\n",
       "    </tr>\n",
       "  </thead>\n",
       "  <tbody>\n",
       "    <tr>\n",
       "      <th>0</th>\n",
       "      <td>0</td>\n",
       "      <td>01/12/2017</td>\n",
       "      <td>254</td>\n",
       "      <td>0</td>\n",
       "      <td>-5.2</td>\n",
       "      <td>37</td>\n",
       "      <td>2.2</td>\n",
       "      <td>2000</td>\n",
       "      <td>-17.6</td>\n",
       "      <td>0.0</td>\n",
       "      <td>0.0</td>\n",
       "      <td>0.0</td>\n",
       "      <td>Winter</td>\n",
       "      <td>No Holiday</td>\n",
       "      <td>Yes</td>\n",
       "    </tr>\n",
       "    <tr>\n",
       "      <th>1</th>\n",
       "      <td>1</td>\n",
       "      <td>01/12/2017</td>\n",
       "      <td>204</td>\n",
       "      <td>1</td>\n",
       "      <td>-5.5</td>\n",
       "      <td>38</td>\n",
       "      <td>0.8</td>\n",
       "      <td>2000</td>\n",
       "      <td>-17.6</td>\n",
       "      <td>0.0</td>\n",
       "      <td>0.0</td>\n",
       "      <td>0.0</td>\n",
       "      <td>Winter</td>\n",
       "      <td>No Holiday</td>\n",
       "      <td>Yes</td>\n",
       "    </tr>\n",
       "    <tr>\n",
       "      <th>2</th>\n",
       "      <td>2</td>\n",
       "      <td>01/12/2017</td>\n",
       "      <td>173</td>\n",
       "      <td>2</td>\n",
       "      <td>-6.0</td>\n",
       "      <td>39</td>\n",
       "      <td>1.0</td>\n",
       "      <td>2000</td>\n",
       "      <td>-17.7</td>\n",
       "      <td>0.0</td>\n",
       "      <td>0.0</td>\n",
       "      <td>0.0</td>\n",
       "      <td>Winter</td>\n",
       "      <td>No Holiday</td>\n",
       "      <td>Yes</td>\n",
       "    </tr>\n",
       "    <tr>\n",
       "      <th>3</th>\n",
       "      <td>3</td>\n",
       "      <td>01/12/2017</td>\n",
       "      <td>107</td>\n",
       "      <td>3</td>\n",
       "      <td>-6.2</td>\n",
       "      <td>40</td>\n",
       "      <td>0.9</td>\n",
       "      <td>2000</td>\n",
       "      <td>-17.6</td>\n",
       "      <td>0.0</td>\n",
       "      <td>0.0</td>\n",
       "      <td>0.0</td>\n",
       "      <td>Winter</td>\n",
       "      <td>No Holiday</td>\n",
       "      <td>Yes</td>\n",
       "    </tr>\n",
       "    <tr>\n",
       "      <th>4</th>\n",
       "      <td>4</td>\n",
       "      <td>01/12/2017</td>\n",
       "      <td>78</td>\n",
       "      <td>4</td>\n",
       "      <td>-6.0</td>\n",
       "      <td>36</td>\n",
       "      <td>2.3</td>\n",
       "      <td>2000</td>\n",
       "      <td>-18.6</td>\n",
       "      <td>0.0</td>\n",
       "      <td>0.0</td>\n",
       "      <td>0.0</td>\n",
       "      <td>Winter</td>\n",
       "      <td>No Holiday</td>\n",
       "      <td>Yes</td>\n",
       "    </tr>\n",
       "  </tbody>\n",
       "</table>\n",
       "</div>"
      ],
      "text/plain": [
       "   ID        Date    y  Hour  Temperature(�C)  Humidity(%)  Wind speed (m/s)  \\\n",
       "0   0  01/12/2017  254     0             -5.2           37               2.2   \n",
       "1   1  01/12/2017  204     1             -5.5           38               0.8   \n",
       "2   2  01/12/2017  173     2             -6.0           39               1.0   \n",
       "3   3  01/12/2017  107     3             -6.2           40               0.9   \n",
       "4   4  01/12/2017   78     4             -6.0           36               2.3   \n",
       "\n",
       "   Visibility (10m)  Dew point temperature(�C)  Solar Radiation (MJ/m2)  \\\n",
       "0              2000                      -17.6                      0.0   \n",
       "1              2000                      -17.6                      0.0   \n",
       "2              2000                      -17.7                      0.0   \n",
       "3              2000                      -17.6                      0.0   \n",
       "4              2000                      -18.6                      0.0   \n",
       "\n",
       "   Rainfall(mm)  Snowfall (cm) Seasons     Holiday Functioning Day  \n",
       "0           0.0            0.0  Winter  No Holiday             Yes  \n",
       "1           0.0            0.0  Winter  No Holiday             Yes  \n",
       "2           0.0            0.0  Winter  No Holiday             Yes  \n",
       "3           0.0            0.0  Winter  No Holiday             Yes  \n",
       "4           0.0            0.0  Winter  No Holiday             Yes  "
      ]
     },
     "execution_count": 1,
     "metadata": {},
     "output_type": "execute_result"
    }
   ],
   "source": [
    "# This Python 3 environment comes with many helpful analytics libraries installed\n",
    "# It is defined by the kaggle/python Docker image: https://github.com/kaggle/docker-python\n",
    "# For example, here's several helpful packages to load\n",
    "\n",
    "import numpy as np # linear algebra\n",
    "import pandas as pd # data processing, CSV file I/O (e.g. pd.read_csv)\n",
    "import seaborn as sns\n",
    "import matplotlib.pyplot as plt\n",
    "from sklearn import datasets\n",
    "from sklearn.preprocessing import LabelEncoder\n",
    "from sklearn.model_selection import train_test_split\n",
    "\n",
    "# Input data files are available in the read-only \"../input/\" directory\n",
    "# For example, running this (by clicking run or pressing Shift+Enter) will list all files under the input directory\n",
    "import os\n",
    "dataset_path = '../input/seoul-bike-rental-ai-pro-iti/'\n",
    "\n",
    "df = pd.read_csv(os.path.join(dataset_path, 'train.csv'))\n",
    "\n",
    "print(\"The shape of the dataset is {}.\\n\\n\".format(df.shape))\n",
    "\n",
    "df.head()\n",
    "\n",
    "# You can write up to 20GB to the current directory (/kaggle/working/) that gets preserved as output when you create a version using \"Save & Run All\" \n",
    "# You can also write temporary files to /kaggle/temp/, but they won't be saved outside of the current session"
   ]
  },
  {
   "cell_type": "markdown",
   "id": "4f6b5230",
   "metadata": {
    "papermill": {
     "duration": 0.0332,
     "end_time": "2021-10-02T00:45:53.686355",
     "exception": false,
     "start_time": "2021-10-02T00:45:53.653155",
     "status": "completed"
    },
    "tags": []
   },
   "source": [
    "# > **EDA**"
   ]
  },
  {
   "cell_type": "code",
   "execution_count": 2,
   "id": "c48d1714",
   "metadata": {
    "execution": {
     "iopub.execute_input": "2021-10-02T00:45:53.763065Z",
     "iopub.status.busy": "2021-10-02T00:45:53.759554Z",
     "iopub.status.idle": "2021-10-02T00:45:53.782914Z",
     "shell.execute_reply": "2021-10-02T00:45:53.783442Z",
     "shell.execute_reply.started": "2021-10-02T00:34:12.215997Z"
    },
    "papermill": {
     "duration": 0.063736,
     "end_time": "2021-10-02T00:45:53.783643",
     "exception": false,
     "start_time": "2021-10-02T00:45:53.719907",
     "status": "completed"
    },
    "tags": []
   },
   "outputs": [
    {
     "name": "stdout",
     "output_type": "stream",
     "text": [
      "<class 'pandas.core.frame.DataFrame'>\n",
      "RangeIndex: 5760 entries, 0 to 5759\n",
      "Data columns (total 15 columns):\n",
      " #   Column                     Non-Null Count  Dtype  \n",
      "---  ------                     --------------  -----  \n",
      " 0   ID                         5760 non-null   int64  \n",
      " 1   Date                       5760 non-null   object \n",
      " 2   y                          5760 non-null   int64  \n",
      " 3   Hour                       5760 non-null   int64  \n",
      " 4   Temperature(�C)            5760 non-null   float64\n",
      " 5   Humidity(%)                5760 non-null   int64  \n",
      " 6   Wind speed (m/s)           5760 non-null   float64\n",
      " 7   Visibility (10m)           5760 non-null   int64  \n",
      " 8   Dew point temperature(�C)  5760 non-null   float64\n",
      " 9   Solar Radiation (MJ/m2)    5760 non-null   float64\n",
      " 10  Rainfall(mm)               5760 non-null   float64\n",
      " 11  Snowfall (cm)              5760 non-null   float64\n",
      " 12  Seasons                    5760 non-null   object \n",
      " 13  Holiday                    5760 non-null   object \n",
      " 14  Functioning Day            5760 non-null   object \n",
      "dtypes: float64(6), int64(5), object(4)\n",
      "memory usage: 675.1+ KB\n"
     ]
    }
   ],
   "source": [
    "df.info()"
   ]
  },
  {
   "cell_type": "code",
   "execution_count": 3,
   "id": "e3b05305",
   "metadata": {
    "execution": {
     "iopub.execute_input": "2021-10-02T00:45:53.854702Z",
     "iopub.status.busy": "2021-10-02T00:45:53.854017Z",
     "iopub.status.idle": "2021-10-02T00:45:53.914324Z",
     "shell.execute_reply": "2021-10-02T00:45:53.914910Z",
     "shell.execute_reply.started": "2021-10-02T00:34:12.235710Z"
    },
    "papermill": {
     "duration": 0.097604,
     "end_time": "2021-10-02T00:45:53.915092",
     "exception": false,
     "start_time": "2021-10-02T00:45:53.817488",
     "status": "completed"
    },
    "tags": []
   },
   "outputs": [
    {
     "data": {
      "text/html": [
       "<div>\n",
       "<style scoped>\n",
       "    .dataframe tbody tr th:only-of-type {\n",
       "        vertical-align: middle;\n",
       "    }\n",
       "\n",
       "    .dataframe tbody tr th {\n",
       "        vertical-align: top;\n",
       "    }\n",
       "\n",
       "    .dataframe thead th {\n",
       "        text-align: right;\n",
       "    }\n",
       "</style>\n",
       "<table border=\"1\" class=\"dataframe\">\n",
       "  <thead>\n",
       "    <tr style=\"text-align: right;\">\n",
       "      <th></th>\n",
       "      <th>ID</th>\n",
       "      <th>y</th>\n",
       "      <th>Hour</th>\n",
       "      <th>Temperature(�C)</th>\n",
       "      <th>Humidity(%)</th>\n",
       "      <th>Wind speed (m/s)</th>\n",
       "      <th>Visibility (10m)</th>\n",
       "      <th>Dew point temperature(�C)</th>\n",
       "      <th>Solar Radiation (MJ/m2)</th>\n",
       "      <th>Rainfall(mm)</th>\n",
       "      <th>Snowfall (cm)</th>\n",
       "    </tr>\n",
       "  </thead>\n",
       "  <tbody>\n",
       "    <tr>\n",
       "      <th>count</th>\n",
       "      <td>5760.000000</td>\n",
       "      <td>5760.000000</td>\n",
       "      <td>5760.000000</td>\n",
       "      <td>5760.000000</td>\n",
       "      <td>5760.000000</td>\n",
       "      <td>5760.000000</td>\n",
       "      <td>5760.000000</td>\n",
       "      <td>5760.000000</td>\n",
       "      <td>5760.000000</td>\n",
       "      <td>5760.000000</td>\n",
       "      <td>5760.000000</td>\n",
       "    </tr>\n",
       "    <tr>\n",
       "      <th>mean</th>\n",
       "      <td>2879.500000</td>\n",
       "      <td>703.483854</td>\n",
       "      <td>11.500000</td>\n",
       "      <td>12.803559</td>\n",
       "      <td>58.361806</td>\n",
       "      <td>1.723333</td>\n",
       "      <td>1473.711458</td>\n",
       "      <td>4.058264</td>\n",
       "      <td>0.572325</td>\n",
       "      <td>0.135122</td>\n",
       "      <td>0.046302</td>\n",
       "    </tr>\n",
       "    <tr>\n",
       "      <th>std</th>\n",
       "      <td>1662.913107</td>\n",
       "      <td>655.249491</td>\n",
       "      <td>6.922788</td>\n",
       "      <td>11.902206</td>\n",
       "      <td>19.840167</td>\n",
       "      <td>1.047898</td>\n",
       "      <td>585.879880</td>\n",
       "      <td>13.003582</td>\n",
       "      <td>0.869943</td>\n",
       "      <td>1.075320</td>\n",
       "      <td>0.323728</td>\n",
       "    </tr>\n",
       "    <tr>\n",
       "      <th>min</th>\n",
       "      <td>0.000000</td>\n",
       "      <td>0.000000</td>\n",
       "      <td>0.000000</td>\n",
       "      <td>-15.100000</td>\n",
       "      <td>0.000000</td>\n",
       "      <td>0.000000</td>\n",
       "      <td>27.000000</td>\n",
       "      <td>-26.900000</td>\n",
       "      <td>0.000000</td>\n",
       "      <td>0.000000</td>\n",
       "      <td>0.000000</td>\n",
       "    </tr>\n",
       "    <tr>\n",
       "      <th>25%</th>\n",
       "      <td>1439.750000</td>\n",
       "      <td>188.000000</td>\n",
       "      <td>5.750000</td>\n",
       "      <td>3.200000</td>\n",
       "      <td>43.000000</td>\n",
       "      <td>0.900000</td>\n",
       "      <td>1025.750000</td>\n",
       "      <td>-5.400000</td>\n",
       "      <td>0.000000</td>\n",
       "      <td>0.000000</td>\n",
       "      <td>0.000000</td>\n",
       "    </tr>\n",
       "    <tr>\n",
       "      <th>50%</th>\n",
       "      <td>2879.500000</td>\n",
       "      <td>485.500000</td>\n",
       "      <td>11.500000</td>\n",
       "      <td>13.700000</td>\n",
       "      <td>57.000000</td>\n",
       "      <td>1.500000</td>\n",
       "      <td>1732.000000</td>\n",
       "      <td>5.200000</td>\n",
       "      <td>0.010000</td>\n",
       "      <td>0.000000</td>\n",
       "      <td>0.000000</td>\n",
       "    </tr>\n",
       "    <tr>\n",
       "      <th>75%</th>\n",
       "      <td>4319.250000</td>\n",
       "      <td>1066.000000</td>\n",
       "      <td>17.250000</td>\n",
       "      <td>22.225000</td>\n",
       "      <td>73.000000</td>\n",
       "      <td>2.300000</td>\n",
       "      <td>2000.000000</td>\n",
       "      <td>14.700000</td>\n",
       "      <td>0.940000</td>\n",
       "      <td>0.000000</td>\n",
       "      <td>0.000000</td>\n",
       "    </tr>\n",
       "    <tr>\n",
       "      <th>max</th>\n",
       "      <td>5759.000000</td>\n",
       "      <td>3556.000000</td>\n",
       "      <td>23.000000</td>\n",
       "      <td>39.400000</td>\n",
       "      <td>98.000000</td>\n",
       "      <td>7.400000</td>\n",
       "      <td>2000.000000</td>\n",
       "      <td>27.200000</td>\n",
       "      <td>3.520000</td>\n",
       "      <td>35.000000</td>\n",
       "      <td>5.100000</td>\n",
       "    </tr>\n",
       "  </tbody>\n",
       "</table>\n",
       "</div>"
      ],
      "text/plain": [
       "                ID            y         Hour  Temperature(�C)  Humidity(%)  \\\n",
       "count  5760.000000  5760.000000  5760.000000      5760.000000  5760.000000   \n",
       "mean   2879.500000   703.483854    11.500000        12.803559    58.361806   \n",
       "std    1662.913107   655.249491     6.922788        11.902206    19.840167   \n",
       "min       0.000000     0.000000     0.000000       -15.100000     0.000000   \n",
       "25%    1439.750000   188.000000     5.750000         3.200000    43.000000   \n",
       "50%    2879.500000   485.500000    11.500000        13.700000    57.000000   \n",
       "75%    4319.250000  1066.000000    17.250000        22.225000    73.000000   \n",
       "max    5759.000000  3556.000000    23.000000        39.400000    98.000000   \n",
       "\n",
       "       Wind speed (m/s)  Visibility (10m)  Dew point temperature(�C)  \\\n",
       "count       5760.000000       5760.000000                5760.000000   \n",
       "mean           1.723333       1473.711458                   4.058264   \n",
       "std            1.047898        585.879880                  13.003582   \n",
       "min            0.000000         27.000000                 -26.900000   \n",
       "25%            0.900000       1025.750000                  -5.400000   \n",
       "50%            1.500000       1732.000000                   5.200000   \n",
       "75%            2.300000       2000.000000                  14.700000   \n",
       "max            7.400000       2000.000000                  27.200000   \n",
       "\n",
       "       Solar Radiation (MJ/m2)  Rainfall(mm)  Snowfall (cm)  \n",
       "count              5760.000000   5760.000000    5760.000000  \n",
       "mean                  0.572325      0.135122       0.046302  \n",
       "std                   0.869943      1.075320       0.323728  \n",
       "min                   0.000000      0.000000       0.000000  \n",
       "25%                   0.000000      0.000000       0.000000  \n",
       "50%                   0.010000      0.000000       0.000000  \n",
       "75%                   0.940000      0.000000       0.000000  \n",
       "max                   3.520000     35.000000       5.100000  "
      ]
     },
     "execution_count": 3,
     "metadata": {},
     "output_type": "execute_result"
    }
   ],
   "source": [
    "df.describe()"
   ]
  },
  {
   "cell_type": "code",
   "execution_count": 4,
   "id": "9e004b4b",
   "metadata": {
    "execution": {
     "iopub.execute_input": "2021-10-02T00:45:54.022812Z",
     "iopub.status.busy": "2021-10-02T00:45:54.019191Z",
     "iopub.status.idle": "2021-10-02T00:45:54.030018Z",
     "shell.execute_reply": "2021-10-02T00:45:54.030610Z",
     "shell.execute_reply.started": "2021-10-02T00:34:12.285080Z"
    },
    "papermill": {
     "duration": 0.060258,
     "end_time": "2021-10-02T00:45:54.030811",
     "exception": false,
     "start_time": "2021-10-02T00:45:53.970553",
     "status": "completed"
    },
    "tags": []
   },
   "outputs": [
    {
     "data": {
      "text/plain": [
       "ID                           0\n",
       "Date                         0\n",
       "y                            0\n",
       "Hour                         0\n",
       "Temperature(�C)              0\n",
       "Humidity(%)                  0\n",
       "Wind speed (m/s)             0\n",
       "Visibility (10m)             0\n",
       "Dew point temperature(�C)    0\n",
       "Solar Radiation (MJ/m2)      0\n",
       "Rainfall(mm)                 0\n",
       "Snowfall (cm)                0\n",
       "Seasons                      0\n",
       "Holiday                      0\n",
       "Functioning Day              0\n",
       "dtype: int64"
      ]
     },
     "execution_count": 4,
     "metadata": {},
     "output_type": "execute_result"
    }
   ],
   "source": [
    "df.isnull().sum()"
   ]
  },
  {
   "cell_type": "code",
   "execution_count": 5,
   "id": "f0637688",
   "metadata": {
    "execution": {
     "iopub.execute_input": "2021-10-02T00:45:54.105917Z",
     "iopub.status.busy": "2021-10-02T00:45:54.104936Z",
     "iopub.status.idle": "2021-10-02T00:45:54.121032Z",
     "shell.execute_reply": "2021-10-02T00:45:54.120396Z",
     "shell.execute_reply.started": "2021-10-02T00:34:12.298083Z"
    },
    "papermill": {
     "duration": 0.055825,
     "end_time": "2021-10-02T00:45:54.121185",
     "exception": false,
     "start_time": "2021-10-02T00:45:54.065360",
     "status": "completed"
    },
    "tags": []
   },
   "outputs": [
    {
     "data": {
      "text/plain": [
       "ID                           0\n",
       "Date                         0\n",
       "y                            0\n",
       "Hour                         0\n",
       "Temperature(�C)              0\n",
       "Humidity(%)                  0\n",
       "Wind speed (m/s)             0\n",
       "Visibility (10m)             0\n",
       "Dew point temperature(�C)    0\n",
       "Solar Radiation (MJ/m2)      0\n",
       "Rainfall(mm)                 0\n",
       "Snowfall (cm)                0\n",
       "Seasons                      0\n",
       "Holiday                      0\n",
       "Functioning Day              0\n",
       "dtype: int64"
      ]
     },
     "execution_count": 5,
     "metadata": {},
     "output_type": "execute_result"
    }
   ],
   "source": [
    "df[df.duplicated()].count()"
   ]
  },
  {
   "cell_type": "code",
   "execution_count": null,
   "id": "f7cddddc",
   "metadata": {
    "papermill": {
     "duration": 0.035353,
     "end_time": "2021-10-02T00:45:54.192617",
     "exception": false,
     "start_time": "2021-10-02T00:45:54.157264",
     "status": "completed"
    },
    "tags": []
   },
   "outputs": [],
   "source": []
  },
  {
   "cell_type": "markdown",
   "id": "bfdcbf70",
   "metadata": {
    "papermill": {
     "duration": 0.034964,
     "end_time": "2021-10-02T00:45:54.262615",
     "exception": false,
     "start_time": "2021-10-02T00:45:54.227651",
     "status": "completed"
    },
    "tags": []
   },
   "source": [
    "# > **PREPROCESSING**"
   ]
  },
  {
   "cell_type": "code",
   "execution_count": 6,
   "id": "954b2c1f",
   "metadata": {
    "execution": {
     "iopub.execute_input": "2021-10-02T00:45:54.344145Z",
     "iopub.status.busy": "2021-10-02T00:45:54.338829Z",
     "iopub.status.idle": "2021-10-02T00:45:54.353686Z",
     "shell.execute_reply": "2021-10-02T00:45:54.354235Z",
     "shell.execute_reply.started": "2021-10-02T00:34:12.320542Z"
    },
    "papermill": {
     "duration": 0.055172,
     "end_time": "2021-10-02T00:45:54.354439",
     "exception": false,
     "start_time": "2021-10-02T00:45:54.299267",
     "status": "completed"
    },
    "tags": []
   },
   "outputs": [],
   "source": [
    "le = LabelEncoder()\n",
    "df[\"Seasons\"] = le.fit_transform(df[\"Seasons\"])\n",
    "df[\"Holiday\"] = le.fit_transform(df[\"Holiday\"])\n",
    "df[\"Functioning Day\"] = le.fit_transform(df[\"Functioning Day\"])"
   ]
  },
  {
   "cell_type": "code",
   "execution_count": 7,
   "id": "e1e76a53",
   "metadata": {
    "execution": {
     "iopub.execute_input": "2021-10-02T00:45:54.441230Z",
     "iopub.status.busy": "2021-10-02T00:45:54.440516Z",
     "iopub.status.idle": "2021-10-02T00:45:54.468542Z",
     "shell.execute_reply": "2021-10-02T00:45:54.469194Z",
     "shell.execute_reply.started": "2021-10-02T00:34:12.334828Z"
    },
    "papermill": {
     "duration": 0.07717,
     "end_time": "2021-10-02T00:45:54.469379",
     "exception": false,
     "start_time": "2021-10-02T00:45:54.392209",
     "status": "completed"
    },
    "tags": []
   },
   "outputs": [
    {
     "data": {
      "text/html": [
       "<div>\n",
       "<style scoped>\n",
       "    .dataframe tbody tr th:only-of-type {\n",
       "        vertical-align: middle;\n",
       "    }\n",
       "\n",
       "    .dataframe tbody tr th {\n",
       "        vertical-align: top;\n",
       "    }\n",
       "\n",
       "    .dataframe thead th {\n",
       "        text-align: right;\n",
       "    }\n",
       "</style>\n",
       "<table border=\"1\" class=\"dataframe\">\n",
       "  <thead>\n",
       "    <tr style=\"text-align: right;\">\n",
       "      <th></th>\n",
       "      <th>ID</th>\n",
       "      <th>y</th>\n",
       "      <th>Hour</th>\n",
       "      <th>Temperature(�C)</th>\n",
       "      <th>Humidity(%)</th>\n",
       "      <th>Wind speed (m/s)</th>\n",
       "      <th>Visibility (10m)</th>\n",
       "      <th>Dew point temperature(�C)</th>\n",
       "      <th>Solar Radiation (MJ/m2)</th>\n",
       "      <th>Rainfall(mm)</th>\n",
       "      <th>Snowfall (cm)</th>\n",
       "      <th>Seasons</th>\n",
       "      <th>Holiday</th>\n",
       "      <th>Functioning Day</th>\n",
       "      <th>year</th>\n",
       "      <th>month</th>\n",
       "      <th>day</th>\n",
       "    </tr>\n",
       "  </thead>\n",
       "  <tbody>\n",
       "    <tr>\n",
       "      <th>0</th>\n",
       "      <td>0</td>\n",
       "      <td>254</td>\n",
       "      <td>0</td>\n",
       "      <td>-5.2</td>\n",
       "      <td>37</td>\n",
       "      <td>2.2</td>\n",
       "      <td>2000</td>\n",
       "      <td>-17.6</td>\n",
       "      <td>0.0</td>\n",
       "      <td>0.0</td>\n",
       "      <td>0.0</td>\n",
       "      <td>3</td>\n",
       "      <td>1</td>\n",
       "      <td>1</td>\n",
       "      <td>2017</td>\n",
       "      <td>1</td>\n",
       "      <td>12</td>\n",
       "    </tr>\n",
       "    <tr>\n",
       "      <th>1</th>\n",
       "      <td>1</td>\n",
       "      <td>204</td>\n",
       "      <td>1</td>\n",
       "      <td>-5.5</td>\n",
       "      <td>38</td>\n",
       "      <td>0.8</td>\n",
       "      <td>2000</td>\n",
       "      <td>-17.6</td>\n",
       "      <td>0.0</td>\n",
       "      <td>0.0</td>\n",
       "      <td>0.0</td>\n",
       "      <td>3</td>\n",
       "      <td>1</td>\n",
       "      <td>1</td>\n",
       "      <td>2017</td>\n",
       "      <td>1</td>\n",
       "      <td>12</td>\n",
       "    </tr>\n",
       "    <tr>\n",
       "      <th>2</th>\n",
       "      <td>2</td>\n",
       "      <td>173</td>\n",
       "      <td>2</td>\n",
       "      <td>-6.0</td>\n",
       "      <td>39</td>\n",
       "      <td>1.0</td>\n",
       "      <td>2000</td>\n",
       "      <td>-17.7</td>\n",
       "      <td>0.0</td>\n",
       "      <td>0.0</td>\n",
       "      <td>0.0</td>\n",
       "      <td>3</td>\n",
       "      <td>1</td>\n",
       "      <td>1</td>\n",
       "      <td>2017</td>\n",
       "      <td>1</td>\n",
       "      <td>12</td>\n",
       "    </tr>\n",
       "    <tr>\n",
       "      <th>3</th>\n",
       "      <td>3</td>\n",
       "      <td>107</td>\n",
       "      <td>3</td>\n",
       "      <td>-6.2</td>\n",
       "      <td>40</td>\n",
       "      <td>0.9</td>\n",
       "      <td>2000</td>\n",
       "      <td>-17.6</td>\n",
       "      <td>0.0</td>\n",
       "      <td>0.0</td>\n",
       "      <td>0.0</td>\n",
       "      <td>3</td>\n",
       "      <td>1</td>\n",
       "      <td>1</td>\n",
       "      <td>2017</td>\n",
       "      <td>1</td>\n",
       "      <td>12</td>\n",
       "    </tr>\n",
       "    <tr>\n",
       "      <th>4</th>\n",
       "      <td>4</td>\n",
       "      <td>78</td>\n",
       "      <td>4</td>\n",
       "      <td>-6.0</td>\n",
       "      <td>36</td>\n",
       "      <td>2.3</td>\n",
       "      <td>2000</td>\n",
       "      <td>-18.6</td>\n",
       "      <td>0.0</td>\n",
       "      <td>0.0</td>\n",
       "      <td>0.0</td>\n",
       "      <td>3</td>\n",
       "      <td>1</td>\n",
       "      <td>1</td>\n",
       "      <td>2017</td>\n",
       "      <td>1</td>\n",
       "      <td>12</td>\n",
       "    </tr>\n",
       "  </tbody>\n",
       "</table>\n",
       "</div>"
      ],
      "text/plain": [
       "   ID    y  Hour  Temperature(�C)  Humidity(%)  Wind speed (m/s)  \\\n",
       "0   0  254     0             -5.2           37               2.2   \n",
       "1   1  204     1             -5.5           38               0.8   \n",
       "2   2  173     2             -6.0           39               1.0   \n",
       "3   3  107     3             -6.2           40               0.9   \n",
       "4   4   78     4             -6.0           36               2.3   \n",
       "\n",
       "   Visibility (10m)  Dew point temperature(�C)  Solar Radiation (MJ/m2)  \\\n",
       "0              2000                      -17.6                      0.0   \n",
       "1              2000                      -17.6                      0.0   \n",
       "2              2000                      -17.7                      0.0   \n",
       "3              2000                      -17.6                      0.0   \n",
       "4              2000                      -18.6                      0.0   \n",
       "\n",
       "   Rainfall(mm)  Snowfall (cm)  Seasons  Holiday  Functioning Day  year  \\\n",
       "0           0.0            0.0        3        1                1  2017   \n",
       "1           0.0            0.0        3        1                1  2017   \n",
       "2           0.0            0.0        3        1                1  2017   \n",
       "3           0.0            0.0        3        1                1  2017   \n",
       "4           0.0            0.0        3        1                1  2017   \n",
       "\n",
       "   month  day  \n",
       "0      1   12  \n",
       "1      1   12  \n",
       "2      1   12  \n",
       "3      1   12  \n",
       "4      1   12  "
      ]
     },
     "execution_count": 7,
     "metadata": {},
     "output_type": "execute_result"
    }
   ],
   "source": [
    "df[\"Date\"] = pd.to_datetime(df[\"Date\"])\n",
    "df['year'] = df['Date'].dt.year\n",
    "df['month'] = df['Date'].dt.month\n",
    "df['day'] = df['Date'].dt.day\n",
    "df = df.drop(columns=['Date'])\n",
    "df.head()"
   ]
  },
  {
   "cell_type": "code",
   "execution_count": 8,
   "id": "8d3fc1d0",
   "metadata": {
    "execution": {
     "iopub.execute_input": "2021-10-02T00:45:54.559395Z",
     "iopub.status.busy": "2021-10-02T00:45:54.558387Z",
     "iopub.status.idle": "2021-10-02T00:45:54.572289Z",
     "shell.execute_reply": "2021-10-02T00:45:54.571648Z",
     "shell.execute_reply.started": "2021-10-02T00:34:12.372662Z"
    },
    "papermill": {
     "duration": 0.066232,
     "end_time": "2021-10-02T00:45:54.572437",
     "exception": false,
     "start_time": "2021-10-02T00:45:54.506205",
     "status": "completed"
    },
    "tags": []
   },
   "outputs": [
    {
     "data": {
      "text/html": [
       "<div>\n",
       "<style scoped>\n",
       "    .dataframe tbody tr th:only-of-type {\n",
       "        vertical-align: middle;\n",
       "    }\n",
       "\n",
       "    .dataframe tbody tr th {\n",
       "        vertical-align: top;\n",
       "    }\n",
       "\n",
       "    .dataframe thead th {\n",
       "        text-align: right;\n",
       "    }\n",
       "</style>\n",
       "<table border=\"1\" class=\"dataframe\">\n",
       "  <thead>\n",
       "    <tr style=\"text-align: right;\">\n",
       "      <th></th>\n",
       "      <th>ID</th>\n",
       "      <th>y</th>\n",
       "      <th>Hour</th>\n",
       "      <th>Temperature(�C)</th>\n",
       "      <th>Humidity(%)</th>\n",
       "      <th>Wind speed (m/s)</th>\n",
       "      <th>Visibility (10m)</th>\n",
       "      <th>Dew point temperature(�C)</th>\n",
       "      <th>Solar Radiation (MJ/m2)</th>\n",
       "      <th>Rainfall(mm)</th>\n",
       "      <th>Snowfall (cm)</th>\n",
       "      <th>Seasons</th>\n",
       "      <th>Holiday</th>\n",
       "      <th>Functioning Day</th>\n",
       "      <th>year</th>\n",
       "      <th>month</th>\n",
       "      <th>day</th>\n",
       "      <th>Temp_hour</th>\n",
       "      <th>func_hour</th>\n",
       "    </tr>\n",
       "  </thead>\n",
       "  <tbody>\n",
       "    <tr>\n",
       "      <th>0</th>\n",
       "      <td>0</td>\n",
       "      <td>254</td>\n",
       "      <td>0</td>\n",
       "      <td>-5.2</td>\n",
       "      <td>37</td>\n",
       "      <td>2.2</td>\n",
       "      <td>2000</td>\n",
       "      <td>-17.6</td>\n",
       "      <td>0.0</td>\n",
       "      <td>0.0</td>\n",
       "      <td>0.0</td>\n",
       "      <td>3</td>\n",
       "      <td>1</td>\n",
       "      <td>1</td>\n",
       "      <td>2017</td>\n",
       "      <td>1</td>\n",
       "      <td>12</td>\n",
       "      <td>-0.0</td>\n",
       "      <td>0</td>\n",
       "    </tr>\n",
       "    <tr>\n",
       "      <th>1</th>\n",
       "      <td>1</td>\n",
       "      <td>204</td>\n",
       "      <td>1</td>\n",
       "      <td>-5.5</td>\n",
       "      <td>38</td>\n",
       "      <td>0.8</td>\n",
       "      <td>2000</td>\n",
       "      <td>-17.6</td>\n",
       "      <td>0.0</td>\n",
       "      <td>0.0</td>\n",
       "      <td>0.0</td>\n",
       "      <td>3</td>\n",
       "      <td>1</td>\n",
       "      <td>1</td>\n",
       "      <td>2017</td>\n",
       "      <td>1</td>\n",
       "      <td>12</td>\n",
       "      <td>-5.5</td>\n",
       "      <td>1</td>\n",
       "    </tr>\n",
       "    <tr>\n",
       "      <th>2</th>\n",
       "      <td>2</td>\n",
       "      <td>173</td>\n",
       "      <td>2</td>\n",
       "      <td>-6.0</td>\n",
       "      <td>39</td>\n",
       "      <td>1.0</td>\n",
       "      <td>2000</td>\n",
       "      <td>-17.7</td>\n",
       "      <td>0.0</td>\n",
       "      <td>0.0</td>\n",
       "      <td>0.0</td>\n",
       "      <td>3</td>\n",
       "      <td>1</td>\n",
       "      <td>1</td>\n",
       "      <td>2017</td>\n",
       "      <td>1</td>\n",
       "      <td>12</td>\n",
       "      <td>-12.0</td>\n",
       "      <td>2</td>\n",
       "    </tr>\n",
       "    <tr>\n",
       "      <th>3</th>\n",
       "      <td>3</td>\n",
       "      <td>107</td>\n",
       "      <td>3</td>\n",
       "      <td>-6.2</td>\n",
       "      <td>40</td>\n",
       "      <td>0.9</td>\n",
       "      <td>2000</td>\n",
       "      <td>-17.6</td>\n",
       "      <td>0.0</td>\n",
       "      <td>0.0</td>\n",
       "      <td>0.0</td>\n",
       "      <td>3</td>\n",
       "      <td>1</td>\n",
       "      <td>1</td>\n",
       "      <td>2017</td>\n",
       "      <td>1</td>\n",
       "      <td>12</td>\n",
       "      <td>-18.6</td>\n",
       "      <td>3</td>\n",
       "    </tr>\n",
       "    <tr>\n",
       "      <th>4</th>\n",
       "      <td>4</td>\n",
       "      <td>78</td>\n",
       "      <td>4</td>\n",
       "      <td>-6.0</td>\n",
       "      <td>36</td>\n",
       "      <td>2.3</td>\n",
       "      <td>2000</td>\n",
       "      <td>-18.6</td>\n",
       "      <td>0.0</td>\n",
       "      <td>0.0</td>\n",
       "      <td>0.0</td>\n",
       "      <td>3</td>\n",
       "      <td>1</td>\n",
       "      <td>1</td>\n",
       "      <td>2017</td>\n",
       "      <td>1</td>\n",
       "      <td>12</td>\n",
       "      <td>-24.0</td>\n",
       "      <td>4</td>\n",
       "    </tr>\n",
       "  </tbody>\n",
       "</table>\n",
       "</div>"
      ],
      "text/plain": [
       "   ID    y  Hour  Temperature(�C)  Humidity(%)  Wind speed (m/s)  \\\n",
       "0   0  254     0             -5.2           37               2.2   \n",
       "1   1  204     1             -5.5           38               0.8   \n",
       "2   2  173     2             -6.0           39               1.0   \n",
       "3   3  107     3             -6.2           40               0.9   \n",
       "4   4   78     4             -6.0           36               2.3   \n",
       "\n",
       "   Visibility (10m)  Dew point temperature(�C)  Solar Radiation (MJ/m2)  \\\n",
       "0              2000                      -17.6                      0.0   \n",
       "1              2000                      -17.6                      0.0   \n",
       "2              2000                      -17.7                      0.0   \n",
       "3              2000                      -17.6                      0.0   \n",
       "4              2000                      -18.6                      0.0   \n",
       "\n",
       "   Rainfall(mm)  Snowfall (cm)  Seasons  Holiday  Functioning Day  year  \\\n",
       "0           0.0            0.0        3        1                1  2017   \n",
       "1           0.0            0.0        3        1                1  2017   \n",
       "2           0.0            0.0        3        1                1  2017   \n",
       "3           0.0            0.0        3        1                1  2017   \n",
       "4           0.0            0.0        3        1                1  2017   \n",
       "\n",
       "   month  day  Temp_hour  func_hour  \n",
       "0      1   12       -0.0          0  \n",
       "1      1   12       -5.5          1  \n",
       "2      1   12      -12.0          2  \n",
       "3      1   12      -18.6          3  \n",
       "4      1   12      -24.0          4  "
      ]
     },
     "execution_count": 8,
     "metadata": {},
     "output_type": "execute_result"
    }
   ],
   "source": [
    "df[\"Temp_hour\"] = df[\"Temperature(�C)\"]*df[\"Hour\"]\n",
    "df[\"func_hour\"] = df[\"Functioning Day\"]*df[\"Hour\"]\n",
    "#df[\"holi_hour\"] = df[\"Holiday\"]*df[\"Hour\"]\n",
    "df.head()"
   ]
  },
  {
   "cell_type": "code",
   "execution_count": 9,
   "id": "66a93af7",
   "metadata": {
    "execution": {
     "iopub.execute_input": "2021-10-02T00:45:54.651755Z",
     "iopub.status.busy": "2021-10-02T00:45:54.651060Z",
     "iopub.status.idle": "2021-10-02T00:45:54.660632Z",
     "shell.execute_reply": "2021-10-02T00:45:54.661171Z",
     "shell.execute_reply.started": "2021-10-02T00:34:12.399927Z"
    },
    "papermill": {
     "duration": 0.052204,
     "end_time": "2021-10-02T00:45:54.661358",
     "exception": false,
     "start_time": "2021-10-02T00:45:54.609154",
     "status": "completed"
    },
    "tags": []
   },
   "outputs": [
    {
     "data": {
      "text/plain": [
       "Wind speed (m/s)             62\n",
       "Solar Radiation (MJ/m2)    2831\n",
       "Rainfall(mm)               5428\n",
       "Snowfall (cm)              5580\n",
       "dtype: int64"
      ]
     },
     "execution_count": 9,
     "metadata": {},
     "output_type": "execute_result"
    }
   ],
   "source": [
    "#Replacing zeros by np.nan\n",
    "df_copy = df.copy()\n",
    "df_copy = df_copy.loc[: , df_copy.columns.isin(['Wind speed (m/s)','Solar Radiation (MJ/m2)', 'Rainfall(mm)', 'Snowfall (cm)' ])]\n",
    "df_copy.replace(0, np.nan , inplace = True)\n",
    "df_copy.isnull().sum()"
   ]
  },
  {
   "cell_type": "code",
   "execution_count": 10,
   "id": "d9812a1b",
   "metadata": {
    "execution": {
     "iopub.execute_input": "2021-10-02T00:45:54.741058Z",
     "iopub.status.busy": "2021-10-02T00:45:54.740345Z",
     "iopub.status.idle": "2021-10-02T00:45:54.748517Z",
     "shell.execute_reply": "2021-10-02T00:45:54.747934Z",
     "shell.execute_reply.started": "2021-10-02T00:34:12.416732Z"
    },
    "papermill": {
     "duration": 0.05014,
     "end_time": "2021-10-02T00:45:54.748665",
     "exception": false,
     "start_time": "2021-10-02T00:45:54.698525",
     "status": "completed"
    },
    "tags": []
   },
   "outputs": [
    {
     "data": {
      "text/plain": [
       "Wind speed (m/s)           0\n",
       "Solar Radiation (MJ/m2)    0\n",
       "Rainfall(mm)               0\n",
       "Snowfall (cm)              0\n",
       "dtype: int64"
      ]
     },
     "execution_count": 10,
     "metadata": {},
     "output_type": "execute_result"
    }
   ],
   "source": [
    "df_copy = df_copy.fillna(df_copy.median()) \n",
    "df_copy.isnull().sum()"
   ]
  },
  {
   "cell_type": "code",
   "execution_count": 11,
   "id": "aeb14e17",
   "metadata": {
    "execution": {
     "iopub.execute_input": "2021-10-02T00:45:54.826277Z",
     "iopub.status.busy": "2021-10-02T00:45:54.825607Z",
     "iopub.status.idle": "2021-10-02T00:45:54.851085Z",
     "shell.execute_reply": "2021-10-02T00:45:54.851718Z",
     "shell.execute_reply.started": "2021-10-02T00:34:12.428628Z"
    },
    "papermill": {
     "duration": 0.066189,
     "end_time": "2021-10-02T00:45:54.851913",
     "exception": false,
     "start_time": "2021-10-02T00:45:54.785724",
     "status": "completed"
    },
    "tags": []
   },
   "outputs": [
    {
     "data": {
      "text/html": [
       "<div>\n",
       "<style scoped>\n",
       "    .dataframe tbody tr th:only-of-type {\n",
       "        vertical-align: middle;\n",
       "    }\n",
       "\n",
       "    .dataframe tbody tr th {\n",
       "        vertical-align: top;\n",
       "    }\n",
       "\n",
       "    .dataframe thead th {\n",
       "        text-align: right;\n",
       "    }\n",
       "</style>\n",
       "<table border=\"1\" class=\"dataframe\">\n",
       "  <thead>\n",
       "    <tr style=\"text-align: right;\">\n",
       "      <th></th>\n",
       "      <th>ID</th>\n",
       "      <th>y</th>\n",
       "      <th>Hour</th>\n",
       "      <th>Temperature(�C)</th>\n",
       "      <th>Humidity(%)</th>\n",
       "      <th>Wind speed (m/s)</th>\n",
       "      <th>Visibility (10m)</th>\n",
       "      <th>Dew point temperature(�C)</th>\n",
       "      <th>Solar Radiation (MJ/m2)</th>\n",
       "      <th>Rainfall(mm)</th>\n",
       "      <th>Snowfall (cm)</th>\n",
       "      <th>Seasons</th>\n",
       "      <th>Holiday</th>\n",
       "      <th>Functioning Day</th>\n",
       "      <th>year</th>\n",
       "      <th>month</th>\n",
       "      <th>day</th>\n",
       "      <th>Temp_hour</th>\n",
       "      <th>func_hour</th>\n",
       "    </tr>\n",
       "  </thead>\n",
       "  <tbody>\n",
       "    <tr>\n",
       "      <th>0</th>\n",
       "      <td>0</td>\n",
       "      <td>254</td>\n",
       "      <td>0</td>\n",
       "      <td>-5.2</td>\n",
       "      <td>37</td>\n",
       "      <td>2.2</td>\n",
       "      <td>2000</td>\n",
       "      <td>-17.6</td>\n",
       "      <td>0.92</td>\n",
       "      <td>1.0</td>\n",
       "      <td>1.0</td>\n",
       "      <td>3</td>\n",
       "      <td>1</td>\n",
       "      <td>1</td>\n",
       "      <td>2017</td>\n",
       "      <td>1</td>\n",
       "      <td>12</td>\n",
       "      <td>-0.0</td>\n",
       "      <td>0</td>\n",
       "    </tr>\n",
       "    <tr>\n",
       "      <th>1</th>\n",
       "      <td>1</td>\n",
       "      <td>204</td>\n",
       "      <td>1</td>\n",
       "      <td>-5.5</td>\n",
       "      <td>38</td>\n",
       "      <td>0.8</td>\n",
       "      <td>2000</td>\n",
       "      <td>-17.6</td>\n",
       "      <td>0.92</td>\n",
       "      <td>1.0</td>\n",
       "      <td>1.0</td>\n",
       "      <td>3</td>\n",
       "      <td>1</td>\n",
       "      <td>1</td>\n",
       "      <td>2017</td>\n",
       "      <td>1</td>\n",
       "      <td>12</td>\n",
       "      <td>-5.5</td>\n",
       "      <td>1</td>\n",
       "    </tr>\n",
       "    <tr>\n",
       "      <th>2</th>\n",
       "      <td>2</td>\n",
       "      <td>173</td>\n",
       "      <td>2</td>\n",
       "      <td>-6.0</td>\n",
       "      <td>39</td>\n",
       "      <td>1.0</td>\n",
       "      <td>2000</td>\n",
       "      <td>-17.7</td>\n",
       "      <td>0.92</td>\n",
       "      <td>1.0</td>\n",
       "      <td>1.0</td>\n",
       "      <td>3</td>\n",
       "      <td>1</td>\n",
       "      <td>1</td>\n",
       "      <td>2017</td>\n",
       "      <td>1</td>\n",
       "      <td>12</td>\n",
       "      <td>-12.0</td>\n",
       "      <td>2</td>\n",
       "    </tr>\n",
       "    <tr>\n",
       "      <th>3</th>\n",
       "      <td>3</td>\n",
       "      <td>107</td>\n",
       "      <td>3</td>\n",
       "      <td>-6.2</td>\n",
       "      <td>40</td>\n",
       "      <td>0.9</td>\n",
       "      <td>2000</td>\n",
       "      <td>-17.6</td>\n",
       "      <td>0.92</td>\n",
       "      <td>1.0</td>\n",
       "      <td>1.0</td>\n",
       "      <td>3</td>\n",
       "      <td>1</td>\n",
       "      <td>1</td>\n",
       "      <td>2017</td>\n",
       "      <td>1</td>\n",
       "      <td>12</td>\n",
       "      <td>-18.6</td>\n",
       "      <td>3</td>\n",
       "    </tr>\n",
       "    <tr>\n",
       "      <th>4</th>\n",
       "      <td>4</td>\n",
       "      <td>78</td>\n",
       "      <td>4</td>\n",
       "      <td>-6.0</td>\n",
       "      <td>36</td>\n",
       "      <td>2.3</td>\n",
       "      <td>2000</td>\n",
       "      <td>-18.6</td>\n",
       "      <td>0.92</td>\n",
       "      <td>1.0</td>\n",
       "      <td>1.0</td>\n",
       "      <td>3</td>\n",
       "      <td>1</td>\n",
       "      <td>1</td>\n",
       "      <td>2017</td>\n",
       "      <td>1</td>\n",
       "      <td>12</td>\n",
       "      <td>-24.0</td>\n",
       "      <td>4</td>\n",
       "    </tr>\n",
       "  </tbody>\n",
       "</table>\n",
       "</div>"
      ],
      "text/plain": [
       "   ID    y  Hour  Temperature(�C)  Humidity(%)  Wind speed (m/s)  \\\n",
       "0   0  254     0             -5.2           37               2.2   \n",
       "1   1  204     1             -5.5           38               0.8   \n",
       "2   2  173     2             -6.0           39               1.0   \n",
       "3   3  107     3             -6.2           40               0.9   \n",
       "4   4   78     4             -6.0           36               2.3   \n",
       "\n",
       "   Visibility (10m)  Dew point temperature(�C)  Solar Radiation (MJ/m2)  \\\n",
       "0              2000                      -17.6                     0.92   \n",
       "1              2000                      -17.6                     0.92   \n",
       "2              2000                      -17.7                     0.92   \n",
       "3              2000                      -17.6                     0.92   \n",
       "4              2000                      -18.6                     0.92   \n",
       "\n",
       "   Rainfall(mm)  Snowfall (cm)  Seasons  Holiday  Functioning Day  year  \\\n",
       "0           1.0            1.0        3        1                1  2017   \n",
       "1           1.0            1.0        3        1                1  2017   \n",
       "2           1.0            1.0        3        1                1  2017   \n",
       "3           1.0            1.0        3        1                1  2017   \n",
       "4           1.0            1.0        3        1                1  2017   \n",
       "\n",
       "   month  day  Temp_hour  func_hour  \n",
       "0      1   12       -0.0          0  \n",
       "1      1   12       -5.5          1  \n",
       "2      1   12      -12.0          2  \n",
       "3      1   12      -18.6          3  \n",
       "4      1   12      -24.0          4  "
      ]
     },
     "execution_count": 11,
     "metadata": {},
     "output_type": "execute_result"
    }
   ],
   "source": [
    "df['Wind speed (m/s)']= df_copy['Wind speed (m/s)']\n",
    "df['Solar Radiation (MJ/m2)']= df_copy['Solar Radiation (MJ/m2)']\n",
    "df['Rainfall(mm)']= df_copy['Rainfall(mm)']\n",
    "df['Snowfall (cm)']= df_copy['Snowfall (cm)']\n",
    "df.head()"
   ]
  },
  {
   "cell_type": "markdown",
   "id": "7d12e581",
   "metadata": {
    "papermill": {
     "duration": 0.037945,
     "end_time": "2021-10-02T00:45:54.927592",
     "exception": false,
     "start_time": "2021-10-02T00:45:54.889647",
     "status": "completed"
    },
    "tags": []
   },
   "source": [
    "# > **FEATURES CORRELATION**"
   ]
  },
  {
   "cell_type": "code",
   "execution_count": 12,
   "id": "b55578b7",
   "metadata": {
    "execution": {
     "iopub.execute_input": "2021-10-02T00:45:55.008362Z",
     "iopub.status.busy": "2021-10-02T00:45:55.007659Z",
     "iopub.status.idle": "2021-10-02T00:45:55.026311Z",
     "shell.execute_reply": "2021-10-02T00:45:55.025751Z",
     "shell.execute_reply.started": "2021-10-02T00:34:12.456726Z"
    },
    "papermill": {
     "duration": 0.059998,
     "end_time": "2021-10-02T00:45:55.026461",
     "exception": false,
     "start_time": "2021-10-02T00:45:54.966463",
     "status": "completed"
    },
    "tags": []
   },
   "outputs": [
    {
     "data": {
      "text/plain": [
       "y                            1.000000\n",
       "Temp_hour                    0.675337\n",
       "Temperature(�C)              0.544281\n",
       "func_hour                    0.466058\n",
       "Hour                         0.407180\n",
       "Dew point temperature(�C)    0.392454\n",
       "ID                           0.365359\n",
       "Functioning Day              0.227269\n",
       "Visibility (10m)             0.214777\n",
       "year                         0.201837\n",
       "Wind speed (m/s)             0.111151\n",
       "day                          0.101981\n",
       "Solar Radiation (MJ/m2)      0.099492\n",
       "month                        0.073498\n",
       "Holiday                      0.058329\n",
       "Snowfall (cm)               -0.063839\n",
       "Rainfall(mm)                -0.080664\n",
       "Humidity(%)                 -0.191603\n",
       "Seasons                     -0.239315\n",
       "Name: y, dtype: float64"
      ]
     },
     "execution_count": 12,
     "metadata": {},
     "output_type": "execute_result"
    }
   ],
   "source": [
    "corr_matrix=df.corr()\n",
    "(corr_matrix['y'].sort_values(ascending=False))"
   ]
  },
  {
   "cell_type": "markdown",
   "id": "01dccac5",
   "metadata": {
    "papermill": {
     "duration": 0.039518,
     "end_time": "2021-10-02T00:45:55.104350",
     "exception": false,
     "start_time": "2021-10-02T00:45:55.064832",
     "status": "completed"
    },
    "tags": []
   },
   "source": [
    "# > **DATA VISAULIZATION**"
   ]
  },
  {
   "cell_type": "code",
   "execution_count": 13,
   "id": "e83b46a5",
   "metadata": {
    "execution": {
     "iopub.execute_input": "2021-10-02T00:45:55.185986Z",
     "iopub.status.busy": "2021-10-02T00:45:55.185236Z",
     "iopub.status.idle": "2021-10-02T00:45:55.821517Z",
     "shell.execute_reply": "2021-10-02T00:45:55.822182Z",
     "shell.execute_reply.started": "2021-10-02T00:34:12.474699Z"
    },
    "papermill": {
     "duration": 0.679748,
     "end_time": "2021-10-02T00:45:55.822366",
     "exception": false,
     "start_time": "2021-10-02T00:45:55.142618",
     "status": "completed"
    },
    "tags": []
   },
   "outputs": [
    {
     "data": {
      "text/plain": [
       "<AxesSubplot:>"
      ]
     },
     "execution_count": 13,
     "metadata": {},
     "output_type": "execute_result"
    },
    {
     "data": {
      "image/png": "[encoded data removed]",
      "text/plain": [
       "<Figure size 432x288 with 2 Axes>"
      ]
     },
     "metadata": {
      "needs_background": "light"
     },
     "output_type": "display_data"
    }
   ],
   "source": [
    "sns.heatmap(df.corr(), square=True, cmap='RdYlGn')"
   ]
  },
  {
   "cell_type": "code",
   "execution_count": 14,
   "id": "9acb3b48",
   "metadata": {
    "execution": {
     "iopub.execute_input": "2021-10-02T00:45:55.910045Z",
     "iopub.status.busy": "2021-10-02T00:45:55.905674Z",
     "iopub.status.idle": "2021-10-02T00:46:01.052065Z",
     "shell.execute_reply": "2021-10-02T00:46:01.051300Z",
     "shell.execute_reply.started": "2021-10-02T00:34:13.060434Z"
    },
    "papermill": {
     "duration": 5.189612,
     "end_time": "2021-10-02T00:46:01.052221",
     "exception": false,
     "start_time": "2021-10-02T00:45:55.862609",
     "status": "completed"
    },
    "tags": []
   },
   "outputs": [
    {
     "data": {
      "image/png": "[encoded data removed]",
      "text/plain": [
       "<Figure size 1440x1080 with 20 Axes>"
      ]
     },
     "metadata": {
      "needs_background": "light"
     },
     "output_type": "display_data"
    }
   ],
   "source": [
    "%matplotlib inline\n",
    "import matplotlib.pyplot as plt\n",
    "df.hist(bins=50, figsize=(20,15))\n",
    "plt.show()"
   ]
  },
  {
   "cell_type": "markdown",
   "id": "92fa2fa1",
   "metadata": {
    "papermill": {
     "duration": 0.041834,
     "end_time": "2021-10-02T00:46:01.136996",
     "exception": false,
     "start_time": "2021-10-02T00:46:01.095162",
     "status": "completed"
    },
    "tags": []
   },
   "source": [
    "# > **FEATURES SELECTION FOR TRAINING**"
   ]
  },
  {
   "cell_type": "code",
   "execution_count": 15,
   "id": "685b32a5",
   "metadata": {
    "execution": {
     "iopub.execute_input": "2021-10-02T00:46:01.229079Z",
     "iopub.status.busy": "2021-10-02T00:46:01.228059Z",
     "iopub.status.idle": "2021-10-02T00:46:01.231316Z",
     "shell.execute_reply": "2021-10-02T00:46:01.230748Z",
     "shell.execute_reply.started": "2021-10-02T00:34:17.320837Z"
    },
    "papermill": {
     "duration": 0.052209,
     "end_time": "2021-10-02T00:46:01.231462",
     "exception": false,
     "start_time": "2021-10-02T00:46:01.179253",
     "status": "completed"
    },
    "tags": []
   },
   "outputs": [],
   "source": [
    "x=df.drop(['ID','y'], axis=1)\n",
    "y=df['y']"
   ]
  },
  {
   "cell_type": "code",
   "execution_count": 16,
   "id": "2de10400",
   "metadata": {
    "execution": {
     "iopub.execute_input": "2021-10-02T00:46:01.320165Z",
     "iopub.status.busy": "2021-10-02T00:46:01.319482Z",
     "iopub.status.idle": "2021-10-02T00:46:01.325058Z",
     "shell.execute_reply": "2021-10-02T00:46:01.325617Z",
     "shell.execute_reply.started": "2021-10-02T00:34:17.328015Z"
    },
    "papermill": {
     "duration": 0.051668,
     "end_time": "2021-10-02T00:46:01.325829",
     "exception": false,
     "start_time": "2021-10-02T00:46:01.274161",
     "status": "completed"
    },
    "tags": []
   },
   "outputs": [
    {
     "data": {
      "text/plain": [
       "Index(['Hour', 'Temperature(�C)', 'Humidity(%)', 'Wind speed (m/s)',\n",
       "       'Visibility (10m)', 'Dew point temperature(�C)',\n",
       "       'Solar Radiation (MJ/m2)', 'Rainfall(mm)', 'Snowfall (cm)', 'Seasons',\n",
       "       'Holiday', 'Functioning Day', 'year', 'month', 'day', 'Temp_hour',\n",
       "       'func_hour'],\n",
       "      dtype='object')"
      ]
     },
     "execution_count": 16,
     "metadata": {},
     "output_type": "execute_result"
    }
   ],
   "source": [
    "x.columns"
   ]
  },
  {
   "cell_type": "markdown",
   "id": "3953804f",
   "metadata": {
    "papermill": {
     "duration": 0.042599,
     "end_time": "2021-10-02T00:46:01.411187",
     "exception": false,
     "start_time": "2021-10-02T00:46:01.368588",
     "status": "completed"
    },
    "tags": []
   },
   "source": [
    "# > **SPLIT DATA**"
   ]
  },
  {
   "cell_type": "code",
   "execution_count": 17,
   "id": "d3898d52",
   "metadata": {
    "execution": {
     "iopub.execute_input": "2021-10-02T00:46:01.504626Z",
     "iopub.status.busy": "2021-10-02T00:46:01.500170Z",
     "iopub.status.idle": "2021-10-02T00:46:01.508967Z",
     "shell.execute_reply": "2021-10-02T00:46:01.509518Z",
     "shell.execute_reply.started": "2021-10-02T00:34:17.341692Z"
    },
    "papermill": {
     "duration": 0.055893,
     "end_time": "2021-10-02T00:46:01.509698",
     "exception": false,
     "start_time": "2021-10-02T00:46:01.453805",
     "status": "completed"
    },
    "tags": []
   },
   "outputs": [],
   "source": [
    "from sklearn.model_selection import cross_val_score,train_test_split\n",
    "from sklearn.model_selection import train_test_split\n",
    "X_train, X_test, y_train, y_test =train_test_split(x, y, test_size=0.2, random_state=42)"
   ]
  },
  {
   "cell_type": "code",
   "execution_count": 18,
   "id": "a76a2696",
   "metadata": {
    "execution": {
     "iopub.execute_input": "2021-10-02T00:46:01.600064Z",
     "iopub.status.busy": "2021-10-02T00:46:01.599354Z",
     "iopub.status.idle": "2021-10-02T00:46:01.604823Z",
     "shell.execute_reply": "2021-10-02T00:46:01.605601Z",
     "shell.execute_reply.started": "2021-10-02T00:34:17.352739Z"
    },
    "papermill": {
     "duration": 0.053598,
     "end_time": "2021-10-02T00:46:01.605886",
     "exception": false,
     "start_time": "2021-10-02T00:46:01.552288",
     "status": "completed"
    },
    "tags": []
   },
   "outputs": [
    {
     "name": "stdout",
     "output_type": "stream",
     "text": [
      "(4608, 17) (1152, 17) (4608,) (1152,)\n"
     ]
    }
   ],
   "source": [
    "print(X_train.shape, X_test.shape, y_train.shape, y_test.shape)"
   ]
  },
  {
   "cell_type": "markdown",
   "id": "1a9007de",
   "metadata": {
    "papermill": {
     "duration": 0.043512,
     "end_time": "2021-10-02T00:46:01.692871",
     "exception": false,
     "start_time": "2021-10-02T00:46:01.649359",
     "status": "completed"
    },
    "tags": []
   },
   "source": [
    "# > **MACHINE LEARNING MODELS**"
   ]
  },
  {
   "cell_type": "code",
   "execution_count": 19,
   "id": "b375702a",
   "metadata": {
    "execution": {
     "iopub.execute_input": "2021-10-02T00:46:01.784589Z",
     "iopub.status.busy": "2021-10-02T00:46:01.783495Z",
     "iopub.status.idle": "2021-10-02T00:46:01.971801Z",
     "shell.execute_reply": "2021-10-02T00:46:01.971177Z",
     "shell.execute_reply.started": "2021-10-02T00:34:17.361996Z"
    },
    "papermill": {
     "duration": 0.235726,
     "end_time": "2021-10-02T00:46:01.971967",
     "exception": false,
     "start_time": "2021-10-02T00:46:01.736241",
     "status": "completed"
    },
    "tags": []
   },
   "outputs": [],
   "source": [
    "from sklearn.ensemble import RandomForestRegressor\n",
    "rf=RandomForestRegressor()\n",
    "#n_estimators=200"
   ]
  },
  {
   "cell_type": "code",
   "execution_count": 20,
   "id": "dac7d4f5",
   "metadata": {
    "execution": {
     "iopub.execute_input": "2021-10-02T00:46:02.066950Z",
     "iopub.status.busy": "2021-10-02T00:46:02.065755Z",
     "iopub.status.idle": "2021-10-02T00:46:04.831285Z",
     "shell.execute_reply": "2021-10-02T00:46:04.830678Z",
     "shell.execute_reply.started": "2021-10-02T00:34:17.372231Z"
    },
    "papermill": {
     "duration": 2.816061,
     "end_time": "2021-10-02T00:46:04.831445",
     "exception": false,
     "start_time": "2021-10-02T00:46:02.015384",
     "status": "completed"
    },
    "tags": []
   },
   "outputs": [
    {
     "name": "stdout",
     "output_type": "stream",
     "text": [
      "(1152,)\n"
     ]
    }
   ],
   "source": [
    "#Fit the trained model\n",
    "rf.fit(X_train,y_train)\n",
    "\n",
    "#Cross validation prediction\n",
    "predict=rf.predict(X_test)\n",
    "print(predict.shape)"
   ]
  },
  {
   "cell_type": "code",
   "execution_count": 21,
   "id": "a56591ba",
   "metadata": {
    "execution": {
     "iopub.execute_input": "2021-10-02T00:46:04.943185Z",
     "iopub.status.busy": "2021-10-02T00:46:04.942032Z",
     "iopub.status.idle": "2021-10-02T00:46:05.002160Z",
     "shell.execute_reply": "2021-10-02T00:46:05.001538Z",
     "shell.execute_reply.started": "2021-10-02T00:34:20.452452Z"
    },
    "papermill": {
     "duration": 0.127566,
     "end_time": "2021-10-02T00:46:05.002313",
     "exception": false,
     "start_time": "2021-10-02T00:46:04.874747",
     "status": "completed"
    },
    "tags": []
   },
   "outputs": [
    {
     "data": {
      "text/plain": [
       "0.8708311675161"
      ]
     },
     "execution_count": 21,
     "metadata": {},
     "output_type": "execute_result"
    }
   ],
   "source": [
    "rf.score(X_test,y_test)"
   ]
  },
  {
   "cell_type": "code",
   "execution_count": 22,
   "id": "1d9c03dd",
   "metadata": {
    "execution": {
     "iopub.execute_input": "2021-10-02T00:46:05.094942Z",
     "iopub.status.busy": "2021-10-02T00:46:05.094195Z",
     "iopub.status.idle": "2021-10-02T00:46:05.097264Z",
     "shell.execute_reply": "2021-10-02T00:46:05.098216Z",
     "shell.execute_reply.started": "2021-10-02T00:34:20.500373Z"
    },
    "papermill": {
     "duration": 0.05308,
     "end_time": "2021-10-02T00:46:05.098478",
     "exception": false,
     "start_time": "2021-10-02T00:46:05.045398",
     "status": "completed"
    },
    "tags": []
   },
   "outputs": [
    {
     "name": "stdout",
     "output_type": "stream",
     "text": [
      "RMSLE:0.5397773292404746\n"
     ]
    }
   ],
   "source": [
    "from sklearn.metrics import mean_squared_log_error \n",
    "print ('RMSLE:' + str(np.sqrt(mean_squared_log_error ( predict , y_test) )))"
   ]
  },
  {
   "cell_type": "code",
   "execution_count": 23,
   "id": "fc2a7346",
   "metadata": {
    "execution": {
     "iopub.execute_input": "2021-10-02T00:46:05.191876Z",
     "iopub.status.busy": "2021-10-02T00:46:05.191160Z",
     "iopub.status.idle": "2021-10-02T00:46:05.198424Z",
     "shell.execute_reply": "2021-10-02T00:46:05.197363Z",
     "shell.execute_reply.started": "2021-10-02T00:34:20.507814Z"
    },
    "papermill": {
     "duration": 0.053751,
     "end_time": "2021-10-02T00:46:05.198649",
     "exception": false,
     "start_time": "2021-10-02T00:46:05.144898",
     "status": "completed"
    },
    "tags": []
   },
   "outputs": [
    {
     "name": "stdout",
     "output_type": "stream",
     "text": [
      "MSE:234.81152154403836\n"
     ]
    }
   ],
   "source": [
    "from sklearn.metrics import mean_squared_error\n",
    "print ('MSE:' + str(np.sqrt(mean_squared_error ( predict , y_test) )))"
   ]
  },
  {
   "cell_type": "markdown",
   "id": "068bd127",
   "metadata": {
    "papermill": {
     "duration": 0.043785,
     "end_time": "2021-10-02T00:46:05.287176",
     "exception": false,
     "start_time": "2021-10-02T00:46:05.243391",
     "status": "completed"
    },
    "tags": []
   },
   "source": [
    "# > **DATA TEST**"
   ]
  },
  {
   "cell_type": "code",
   "execution_count": 24,
   "id": "5bf33a80",
   "metadata": {
    "execution": {
     "iopub.execute_input": "2021-10-02T00:46:05.381182Z",
     "iopub.status.busy": "2021-10-02T00:46:05.380510Z",
     "iopub.status.idle": "2021-10-02T00:46:05.421830Z",
     "shell.execute_reply": "2021-10-02T00:46:05.422364Z",
     "shell.execute_reply.started": "2021-10-02T00:34:20.523894Z"
    },
    "papermill": {
     "duration": 0.091164,
     "end_time": "2021-10-02T00:46:05.422550",
     "exception": false,
     "start_time": "2021-10-02T00:46:05.331386",
     "status": "completed"
    },
    "tags": []
   },
   "outputs": [
    {
     "name": "stdout",
     "output_type": "stream",
     "text": [
      "The shape of the dataset is (5760, 19).\n",
      "\n",
      "\n"
     ]
    },
    {
     "data": {
      "text/html": [
       "<div>\n",
       "<style scoped>\n",
       "    .dataframe tbody tr th:only-of-type {\n",
       "        vertical-align: middle;\n",
       "    }\n",
       "\n",
       "    .dataframe tbody tr th {\n",
       "        vertical-align: top;\n",
       "    }\n",
       "\n",
       "    .dataframe thead th {\n",
       "        text-align: right;\n",
       "    }\n",
       "</style>\n",
       "<table border=\"1\" class=\"dataframe\">\n",
       "  <thead>\n",
       "    <tr style=\"text-align: right;\">\n",
       "      <th></th>\n",
       "      <th>ID</th>\n",
       "      <th>Date</th>\n",
       "      <th>Hour</th>\n",
       "      <th>Temperature(�C)</th>\n",
       "      <th>Humidity(%)</th>\n",
       "      <th>Wind speed (m/s)</th>\n",
       "      <th>Visibility (10m)</th>\n",
       "      <th>Dew point temperature(�C)</th>\n",
       "      <th>Solar Radiation (MJ/m2)</th>\n",
       "      <th>Rainfall(mm)</th>\n",
       "      <th>Snowfall (cm)</th>\n",
       "      <th>Seasons</th>\n",
       "      <th>Holiday</th>\n",
       "      <th>Functioning Day</th>\n",
       "    </tr>\n",
       "  </thead>\n",
       "  <tbody>\n",
       "    <tr>\n",
       "      <th>0</th>\n",
       "      <td>5760</td>\n",
       "      <td>21/12/2017</td>\n",
       "      <td>0</td>\n",
       "      <td>-1.3</td>\n",
       "      <td>90</td>\n",
       "      <td>2.0</td>\n",
       "      <td>259</td>\n",
       "      <td>-2.7</td>\n",
       "      <td>0.0</td>\n",
       "      <td>0.0</td>\n",
       "      <td>2.2</td>\n",
       "      <td>Winter</td>\n",
       "      <td>No Holiday</td>\n",
       "      <td>Yes</td>\n",
       "    </tr>\n",
       "    <tr>\n",
       "      <th>1</th>\n",
       "      <td>5761</td>\n",
       "      <td>21/12/2017</td>\n",
       "      <td>1</td>\n",
       "      <td>-1.8</td>\n",
       "      <td>90</td>\n",
       "      <td>1.6</td>\n",
       "      <td>263</td>\n",
       "      <td>-3.2</td>\n",
       "      <td>0.0</td>\n",
       "      <td>0.0</td>\n",
       "      <td>2.2</td>\n",
       "      <td>Winter</td>\n",
       "      <td>No Holiday</td>\n",
       "      <td>Yes</td>\n",
       "    </tr>\n",
       "    <tr>\n",
       "      <th>2</th>\n",
       "      <td>5762</td>\n",
       "      <td>21/12/2017</td>\n",
       "      <td>2</td>\n",
       "      <td>-2.2</td>\n",
       "      <td>88</td>\n",
       "      <td>1.4</td>\n",
       "      <td>348</td>\n",
       "      <td>-3.9</td>\n",
       "      <td>0.0</td>\n",
       "      <td>0.0</td>\n",
       "      <td>2.2</td>\n",
       "      <td>Winter</td>\n",
       "      <td>No Holiday</td>\n",
       "      <td>Yes</td>\n",
       "    </tr>\n",
       "    <tr>\n",
       "      <th>3</th>\n",
       "      <td>5763</td>\n",
       "      <td>21/12/2017</td>\n",
       "      <td>3</td>\n",
       "      <td>-2.9</td>\n",
       "      <td>89</td>\n",
       "      <td>1.3</td>\n",
       "      <td>288</td>\n",
       "      <td>-4.4</td>\n",
       "      <td>0.0</td>\n",
       "      <td>0.0</td>\n",
       "      <td>2.2</td>\n",
       "      <td>Winter</td>\n",
       "      <td>No Holiday</td>\n",
       "      <td>Yes</td>\n",
       "    </tr>\n",
       "    <tr>\n",
       "      <th>4</th>\n",
       "      <td>5764</td>\n",
       "      <td>21/12/2017</td>\n",
       "      <td>4</td>\n",
       "      <td>-3.6</td>\n",
       "      <td>91</td>\n",
       "      <td>1.2</td>\n",
       "      <td>241</td>\n",
       "      <td>-4.8</td>\n",
       "      <td>0.0</td>\n",
       "      <td>0.0</td>\n",
       "      <td>2.2</td>\n",
       "      <td>Winter</td>\n",
       "      <td>No Holiday</td>\n",
       "      <td>Yes</td>\n",
       "    </tr>\n",
       "  </tbody>\n",
       "</table>\n",
       "</div>"
      ],
      "text/plain": [
       "     ID        Date  Hour  Temperature(�C)  Humidity(%)  Wind speed (m/s)  \\\n",
       "0  5760  21/12/2017     0             -1.3           90               2.0   \n",
       "1  5761  21/12/2017     1             -1.8           90               1.6   \n",
       "2  5762  21/12/2017     2             -2.2           88               1.4   \n",
       "3  5763  21/12/2017     3             -2.9           89               1.3   \n",
       "4  5764  21/12/2017     4             -3.6           91               1.2   \n",
       "\n",
       "   Visibility (10m)  Dew point temperature(�C)  Solar Radiation (MJ/m2)  \\\n",
       "0               259                       -2.7                      0.0   \n",
       "1               263                       -3.2                      0.0   \n",
       "2               348                       -3.9                      0.0   \n",
       "3               288                       -4.4                      0.0   \n",
       "4               241                       -4.8                      0.0   \n",
       "\n",
       "   Rainfall(mm)  Snowfall (cm) Seasons     Holiday Functioning Day  \n",
       "0           0.0            2.2  Winter  No Holiday             Yes  \n",
       "1           0.0            2.2  Winter  No Holiday             Yes  \n",
       "2           0.0            2.2  Winter  No Holiday             Yes  \n",
       "3           0.0            2.2  Winter  No Holiday             Yes  \n",
       "4           0.0            2.2  Winter  No Holiday             Yes  "
      ]
     },
     "execution_count": 24,
     "metadata": {},
     "output_type": "execute_result"
    }
   ],
   "source": [
    "dataset_path = '../input/seoul-bike-rental-ai-pro-iti/'\n",
    "\n",
    "test_df = pd.read_csv(os.path.join(dataset_path, 'test.csv'))\n",
    "\n",
    "print(\"The shape of the dataset is {}.\\n\\n\".format(df.shape))\n",
    "\n",
    "test_df.head()"
   ]
  },
  {
   "cell_type": "code",
   "execution_count": 25,
   "id": "3d674f9c",
   "metadata": {
    "execution": {
     "iopub.execute_input": "2021-10-02T00:46:05.517023Z",
     "iopub.status.busy": "2021-10-02T00:46:05.516310Z",
     "iopub.status.idle": "2021-10-02T00:46:05.526725Z",
     "shell.execute_reply": "2021-10-02T00:46:05.527291Z",
     "shell.execute_reply.started": "2021-10-02T00:34:20.564436Z"
    },
    "papermill": {
     "duration": 0.059876,
     "end_time": "2021-10-02T00:46:05.527492",
     "exception": false,
     "start_time": "2021-10-02T00:46:05.467616",
     "status": "completed"
    },
    "tags": []
   },
   "outputs": [],
   "source": [
    "le = LabelEncoder()\n",
    "test_df[\"Seasons\"] = le.fit_transform(test_df[\"Seasons\"])\n",
    "test_df[\"Holiday\"] = le.fit_transform(test_df[\"Holiday\"])\n",
    "test_df[\"Functioning Day\"] = le.fit_transform(test_df[\"Functioning Day\"])"
   ]
  },
  {
   "cell_type": "code",
   "execution_count": 26,
   "id": "436554b9",
   "metadata": {
    "execution": {
     "iopub.execute_input": "2021-10-02T00:46:05.621908Z",
     "iopub.status.busy": "2021-10-02T00:46:05.621234Z",
     "iopub.status.idle": "2021-10-02T00:46:05.634613Z",
     "shell.execute_reply": "2021-10-02T00:46:05.635205Z",
     "shell.execute_reply.started": "2021-10-02T00:34:20.578925Z"
    },
    "papermill": {
     "duration": 0.062337,
     "end_time": "2021-10-02T00:46:05.635445",
     "exception": false,
     "start_time": "2021-10-02T00:46:05.573108",
     "status": "completed"
    },
    "tags": []
   },
   "outputs": [],
   "source": [
    "test_df[\"Date\"] = pd.to_datetime(test_df[\"Date\"])\n",
    "test_df['year'] = test_df['Date'].dt.year\n",
    "test_df['month'] = test_df['Date'].dt.month\n",
    "test_df['day'] = test_df['Date'].dt.day\n",
    "test_df = test_df.drop(columns=['Date'])"
   ]
  },
  {
   "cell_type": "code",
   "execution_count": 27,
   "id": "68882e84",
   "metadata": {
    "execution": {
     "iopub.execute_input": "2021-10-02T00:46:05.731118Z",
     "iopub.status.busy": "2021-10-02T00:46:05.730231Z",
     "iopub.status.idle": "2021-10-02T00:46:05.763342Z",
     "shell.execute_reply": "2021-10-02T00:46:05.763873Z",
     "shell.execute_reply.started": "2021-10-02T00:34:20.597797Z"
    },
    "papermill": {
     "duration": 0.082261,
     "end_time": "2021-10-02T00:46:05.764059",
     "exception": false,
     "start_time": "2021-10-02T00:46:05.681798",
     "status": "completed"
    },
    "tags": []
   },
   "outputs": [
    {
     "data": {
      "text/html": [
       "<div>\n",
       "<style scoped>\n",
       "    .dataframe tbody tr th:only-of-type {\n",
       "        vertical-align: middle;\n",
       "    }\n",
       "\n",
       "    .dataframe tbody tr th {\n",
       "        vertical-align: top;\n",
       "    }\n",
       "\n",
       "    .dataframe thead th {\n",
       "        text-align: right;\n",
       "    }\n",
       "</style>\n",
       "<table border=\"1\" class=\"dataframe\">\n",
       "  <thead>\n",
       "    <tr style=\"text-align: right;\">\n",
       "      <th></th>\n",
       "      <th>ID</th>\n",
       "      <th>Hour</th>\n",
       "      <th>Temperature(�C)</th>\n",
       "      <th>Humidity(%)</th>\n",
       "      <th>Wind speed (m/s)</th>\n",
       "      <th>Visibility (10m)</th>\n",
       "      <th>Dew point temperature(�C)</th>\n",
       "      <th>Solar Radiation (MJ/m2)</th>\n",
       "      <th>Rainfall(mm)</th>\n",
       "      <th>Snowfall (cm)</th>\n",
       "      <th>Seasons</th>\n",
       "      <th>Holiday</th>\n",
       "      <th>Functioning Day</th>\n",
       "      <th>year</th>\n",
       "      <th>month</th>\n",
       "      <th>day</th>\n",
       "      <th>Temp_hour</th>\n",
       "      <th>func_hour</th>\n",
       "    </tr>\n",
       "  </thead>\n",
       "  <tbody>\n",
       "    <tr>\n",
       "      <th>0</th>\n",
       "      <td>5760</td>\n",
       "      <td>0</td>\n",
       "      <td>-1.3</td>\n",
       "      <td>90</td>\n",
       "      <td>2.0</td>\n",
       "      <td>259</td>\n",
       "      <td>-2.7</td>\n",
       "      <td>0.0</td>\n",
       "      <td>0.0</td>\n",
       "      <td>2.2</td>\n",
       "      <td>3</td>\n",
       "      <td>1</td>\n",
       "      <td>1</td>\n",
       "      <td>2017</td>\n",
       "      <td>12</td>\n",
       "      <td>21</td>\n",
       "      <td>-0.0</td>\n",
       "      <td>0.0</td>\n",
       "    </tr>\n",
       "    <tr>\n",
       "      <th>1</th>\n",
       "      <td>5761</td>\n",
       "      <td>1</td>\n",
       "      <td>-1.8</td>\n",
       "      <td>90</td>\n",
       "      <td>1.6</td>\n",
       "      <td>263</td>\n",
       "      <td>-3.2</td>\n",
       "      <td>0.0</td>\n",
       "      <td>0.0</td>\n",
       "      <td>2.2</td>\n",
       "      <td>3</td>\n",
       "      <td>1</td>\n",
       "      <td>1</td>\n",
       "      <td>2017</td>\n",
       "      <td>12</td>\n",
       "      <td>21</td>\n",
       "      <td>-1.8</td>\n",
       "      <td>1.0</td>\n",
       "    </tr>\n",
       "    <tr>\n",
       "      <th>2</th>\n",
       "      <td>5762</td>\n",
       "      <td>2</td>\n",
       "      <td>-2.2</td>\n",
       "      <td>88</td>\n",
       "      <td>1.4</td>\n",
       "      <td>348</td>\n",
       "      <td>-3.9</td>\n",
       "      <td>0.0</td>\n",
       "      <td>0.0</td>\n",
       "      <td>2.2</td>\n",
       "      <td>3</td>\n",
       "      <td>1</td>\n",
       "      <td>1</td>\n",
       "      <td>2017</td>\n",
       "      <td>12</td>\n",
       "      <td>21</td>\n",
       "      <td>-4.4</td>\n",
       "      <td>2.0</td>\n",
       "    </tr>\n",
       "    <tr>\n",
       "      <th>3</th>\n",
       "      <td>5763</td>\n",
       "      <td>3</td>\n",
       "      <td>-2.9</td>\n",
       "      <td>89</td>\n",
       "      <td>1.3</td>\n",
       "      <td>288</td>\n",
       "      <td>-4.4</td>\n",
       "      <td>0.0</td>\n",
       "      <td>0.0</td>\n",
       "      <td>2.2</td>\n",
       "      <td>3</td>\n",
       "      <td>1</td>\n",
       "      <td>1</td>\n",
       "      <td>2017</td>\n",
       "      <td>12</td>\n",
       "      <td>21</td>\n",
       "      <td>-8.7</td>\n",
       "      <td>3.0</td>\n",
       "    </tr>\n",
       "    <tr>\n",
       "      <th>4</th>\n",
       "      <td>5764</td>\n",
       "      <td>4</td>\n",
       "      <td>-3.6</td>\n",
       "      <td>91</td>\n",
       "      <td>1.2</td>\n",
       "      <td>241</td>\n",
       "      <td>-4.8</td>\n",
       "      <td>0.0</td>\n",
       "      <td>0.0</td>\n",
       "      <td>2.2</td>\n",
       "      <td>3</td>\n",
       "      <td>1</td>\n",
       "      <td>1</td>\n",
       "      <td>2017</td>\n",
       "      <td>12</td>\n",
       "      <td>21</td>\n",
       "      <td>-14.4</td>\n",
       "      <td>4.0</td>\n",
       "    </tr>\n",
       "  </tbody>\n",
       "</table>\n",
       "</div>"
      ],
      "text/plain": [
       "     ID  Hour  Temperature(�C)  Humidity(%)  Wind speed (m/s)  \\\n",
       "0  5760     0             -1.3           90               2.0   \n",
       "1  5761     1             -1.8           90               1.6   \n",
       "2  5762     2             -2.2           88               1.4   \n",
       "3  5763     3             -2.9           89               1.3   \n",
       "4  5764     4             -3.6           91               1.2   \n",
       "\n",
       "   Visibility (10m)  Dew point temperature(�C)  Solar Radiation (MJ/m2)  \\\n",
       "0               259                       -2.7                      0.0   \n",
       "1               263                       -3.2                      0.0   \n",
       "2               348                       -3.9                      0.0   \n",
       "3               288                       -4.4                      0.0   \n",
       "4               241                       -4.8                      0.0   \n",
       "\n",
       "   Rainfall(mm)  Snowfall (cm)  Seasons  Holiday  Functioning Day  year  \\\n",
       "0           0.0            2.2        3        1                1  2017   \n",
       "1           0.0            2.2        3        1                1  2017   \n",
       "2           0.0            2.2        3        1                1  2017   \n",
       "3           0.0            2.2        3        1                1  2017   \n",
       "4           0.0            2.2        3        1                1  2017   \n",
       "\n",
       "   month  day  Temp_hour  func_hour  \n",
       "0     12   21       -0.0        0.0  \n",
       "1     12   21       -1.8        1.0  \n",
       "2     12   21       -4.4        2.0  \n",
       "3     12   21       -8.7        3.0  \n",
       "4     12   21      -14.4        4.0  "
      ]
     },
     "execution_count": 27,
     "metadata": {},
     "output_type": "execute_result"
    }
   ],
   "source": [
    "test_df[\"Temp_hour\"] = test_df[\"Temperature(�C)\"]*df[\"Hour\"]\n",
    "test_df[\"func_hour\"] = test_df[\"Functioning Day\"]*df[\"Hour\"]\n",
    "test_df.head()"
   ]
  },
  {
   "cell_type": "code",
   "execution_count": 28,
   "id": "01383226",
   "metadata": {
    "execution": {
     "iopub.execute_input": "2021-10-02T00:46:05.862314Z",
     "iopub.status.busy": "2021-10-02T00:46:05.861612Z",
     "iopub.status.idle": "2021-10-02T00:46:05.948723Z",
     "shell.execute_reply": "2021-10-02T00:46:05.948072Z",
     "shell.execute_reply.started": "2021-10-02T00:34:20.625212Z"
    },
    "papermill": {
     "duration": 0.138821,
     "end_time": "2021-10-02T00:46:05.948929",
     "exception": false,
     "start_time": "2021-10-02T00:46:05.810108",
     "status": "completed"
    },
    "tags": []
   },
   "outputs": [
    {
     "data": {
      "text/html": [
       "<div>\n",
       "<style scoped>\n",
       "    .dataframe tbody tr th:only-of-type {\n",
       "        vertical-align: middle;\n",
       "    }\n",
       "\n",
       "    .dataframe tbody tr th {\n",
       "        vertical-align: top;\n",
       "    }\n",
       "\n",
       "    .dataframe thead th {\n",
       "        text-align: right;\n",
       "    }\n",
       "</style>\n",
       "<table border=\"1\" class=\"dataframe\">\n",
       "  <thead>\n",
       "    <tr style=\"text-align: right;\">\n",
       "      <th></th>\n",
       "      <th>ID</th>\n",
       "      <th>Hour</th>\n",
       "      <th>Temperature(�C)</th>\n",
       "      <th>Humidity(%)</th>\n",
       "      <th>Wind speed (m/s)</th>\n",
       "      <th>Visibility (10m)</th>\n",
       "      <th>Dew point temperature(�C)</th>\n",
       "      <th>Solar Radiation (MJ/m2)</th>\n",
       "      <th>Rainfall(mm)</th>\n",
       "      <th>Snowfall (cm)</th>\n",
       "      <th>Seasons</th>\n",
       "      <th>Holiday</th>\n",
       "      <th>Functioning Day</th>\n",
       "      <th>year</th>\n",
       "      <th>month</th>\n",
       "      <th>day</th>\n",
       "      <th>Temp_hour</th>\n",
       "      <th>func_hour</th>\n",
       "      <th>y</th>\n",
       "    </tr>\n",
       "  </thead>\n",
       "  <tbody>\n",
       "    <tr>\n",
       "      <th>0</th>\n",
       "      <td>5760</td>\n",
       "      <td>0</td>\n",
       "      <td>-1.3</td>\n",
       "      <td>90</td>\n",
       "      <td>2.0</td>\n",
       "      <td>259</td>\n",
       "      <td>-2.7</td>\n",
       "      <td>0.0</td>\n",
       "      <td>0.0</td>\n",
       "      <td>2.2</td>\n",
       "      <td>3</td>\n",
       "      <td>1</td>\n",
       "      <td>1</td>\n",
       "      <td>2017</td>\n",
       "      <td>12</td>\n",
       "      <td>21</td>\n",
       "      <td>-0.0</td>\n",
       "      <td>0.0</td>\n",
       "      <td>188.61</td>\n",
       "    </tr>\n",
       "    <tr>\n",
       "      <th>1</th>\n",
       "      <td>5761</td>\n",
       "      <td>1</td>\n",
       "      <td>-1.8</td>\n",
       "      <td>90</td>\n",
       "      <td>1.6</td>\n",
       "      <td>263</td>\n",
       "      <td>-3.2</td>\n",
       "      <td>0.0</td>\n",
       "      <td>0.0</td>\n",
       "      <td>2.2</td>\n",
       "      <td>3</td>\n",
       "      <td>1</td>\n",
       "      <td>1</td>\n",
       "      <td>2017</td>\n",
       "      <td>12</td>\n",
       "      <td>21</td>\n",
       "      <td>-1.8</td>\n",
       "      <td>1.0</td>\n",
       "      <td>186.07</td>\n",
       "    </tr>\n",
       "    <tr>\n",
       "      <th>2</th>\n",
       "      <td>5762</td>\n",
       "      <td>2</td>\n",
       "      <td>-2.2</td>\n",
       "      <td>88</td>\n",
       "      <td>1.4</td>\n",
       "      <td>348</td>\n",
       "      <td>-3.9</td>\n",
       "      <td>0.0</td>\n",
       "      <td>0.0</td>\n",
       "      <td>2.2</td>\n",
       "      <td>3</td>\n",
       "      <td>1</td>\n",
       "      <td>1</td>\n",
       "      <td>2017</td>\n",
       "      <td>12</td>\n",
       "      <td>21</td>\n",
       "      <td>-4.4</td>\n",
       "      <td>2.0</td>\n",
       "      <td>174.14</td>\n",
       "    </tr>\n",
       "    <tr>\n",
       "      <th>3</th>\n",
       "      <td>5763</td>\n",
       "      <td>3</td>\n",
       "      <td>-2.9</td>\n",
       "      <td>89</td>\n",
       "      <td>1.3</td>\n",
       "      <td>288</td>\n",
       "      <td>-4.4</td>\n",
       "      <td>0.0</td>\n",
       "      <td>0.0</td>\n",
       "      <td>2.2</td>\n",
       "      <td>3</td>\n",
       "      <td>1</td>\n",
       "      <td>1</td>\n",
       "      <td>2017</td>\n",
       "      <td>12</td>\n",
       "      <td>21</td>\n",
       "      <td>-8.7</td>\n",
       "      <td>3.0</td>\n",
       "      <td>103.67</td>\n",
       "    </tr>\n",
       "    <tr>\n",
       "      <th>4</th>\n",
       "      <td>5764</td>\n",
       "      <td>4</td>\n",
       "      <td>-3.6</td>\n",
       "      <td>91</td>\n",
       "      <td>1.2</td>\n",
       "      <td>241</td>\n",
       "      <td>-4.8</td>\n",
       "      <td>0.0</td>\n",
       "      <td>0.0</td>\n",
       "      <td>2.2</td>\n",
       "      <td>3</td>\n",
       "      <td>1</td>\n",
       "      <td>1</td>\n",
       "      <td>2017</td>\n",
       "      <td>12</td>\n",
       "      <td>21</td>\n",
       "      <td>-14.4</td>\n",
       "      <td>4.0</td>\n",
       "      <td>62.83</td>\n",
       "    </tr>\n",
       "    <tr>\n",
       "      <th>...</th>\n",
       "      <td>...</td>\n",
       "      <td>...</td>\n",
       "      <td>...</td>\n",
       "      <td>...</td>\n",
       "      <td>...</td>\n",
       "      <td>...</td>\n",
       "      <td>...</td>\n",
       "      <td>...</td>\n",
       "      <td>...</td>\n",
       "      <td>...</td>\n",
       "      <td>...</td>\n",
       "      <td>...</td>\n",
       "      <td>...</td>\n",
       "      <td>...</td>\n",
       "      <td>...</td>\n",
       "      <td>...</td>\n",
       "      <td>...</td>\n",
       "      <td>...</td>\n",
       "      <td>...</td>\n",
       "    </tr>\n",
       "    <tr>\n",
       "      <th>2995</th>\n",
       "      <td>8755</td>\n",
       "      <td>19</td>\n",
       "      <td>4.2</td>\n",
       "      <td>34</td>\n",
       "      <td>2.6</td>\n",
       "      <td>1894</td>\n",
       "      <td>-10.3</td>\n",
       "      <td>0.0</td>\n",
       "      <td>0.0</td>\n",
       "      <td>0.0</td>\n",
       "      <td>0</td>\n",
       "      <td>1</td>\n",
       "      <td>1</td>\n",
       "      <td>2018</td>\n",
       "      <td>11</td>\n",
       "      <td>30</td>\n",
       "      <td>79.8</td>\n",
       "      <td>19.0</td>\n",
       "      <td>843.39</td>\n",
       "    </tr>\n",
       "    <tr>\n",
       "      <th>2996</th>\n",
       "      <td>8756</td>\n",
       "      <td>20</td>\n",
       "      <td>3.4</td>\n",
       "      <td>37</td>\n",
       "      <td>2.3</td>\n",
       "      <td>2000</td>\n",
       "      <td>-9.9</td>\n",
       "      <td>0.0</td>\n",
       "      <td>0.0</td>\n",
       "      <td>0.0</td>\n",
       "      <td>0</td>\n",
       "      <td>1</td>\n",
       "      <td>1</td>\n",
       "      <td>2018</td>\n",
       "      <td>11</td>\n",
       "      <td>30</td>\n",
       "      <td>68.0</td>\n",
       "      <td>20.0</td>\n",
       "      <td>962.64</td>\n",
       "    </tr>\n",
       "    <tr>\n",
       "      <th>2997</th>\n",
       "      <td>8757</td>\n",
       "      <td>21</td>\n",
       "      <td>2.6</td>\n",
       "      <td>39</td>\n",
       "      <td>0.3</td>\n",
       "      <td>1968</td>\n",
       "      <td>-9.9</td>\n",
       "      <td>0.0</td>\n",
       "      <td>0.0</td>\n",
       "      <td>0.0</td>\n",
       "      <td>0</td>\n",
       "      <td>1</td>\n",
       "      <td>1</td>\n",
       "      <td>2018</td>\n",
       "      <td>11</td>\n",
       "      <td>30</td>\n",
       "      <td>54.6</td>\n",
       "      <td>21.0</td>\n",
       "      <td>1160.94</td>\n",
       "    </tr>\n",
       "    <tr>\n",
       "      <th>2998</th>\n",
       "      <td>8758</td>\n",
       "      <td>22</td>\n",
       "      <td>2.1</td>\n",
       "      <td>41</td>\n",
       "      <td>1.0</td>\n",
       "      <td>1859</td>\n",
       "      <td>-9.8</td>\n",
       "      <td>0.0</td>\n",
       "      <td>0.0</td>\n",
       "      <td>0.0</td>\n",
       "      <td>0</td>\n",
       "      <td>1</td>\n",
       "      <td>1</td>\n",
       "      <td>2018</td>\n",
       "      <td>11</td>\n",
       "      <td>30</td>\n",
       "      <td>46.2</td>\n",
       "      <td>22.0</td>\n",
       "      <td>1072.34</td>\n",
       "    </tr>\n",
       "    <tr>\n",
       "      <th>2999</th>\n",
       "      <td>8759</td>\n",
       "      <td>23</td>\n",
       "      <td>1.9</td>\n",
       "      <td>43</td>\n",
       "      <td>1.3</td>\n",
       "      <td>1909</td>\n",
       "      <td>-9.3</td>\n",
       "      <td>0.0</td>\n",
       "      <td>0.0</td>\n",
       "      <td>0.0</td>\n",
       "      <td>0</td>\n",
       "      <td>1</td>\n",
       "      <td>1</td>\n",
       "      <td>2018</td>\n",
       "      <td>11</td>\n",
       "      <td>30</td>\n",
       "      <td>43.7</td>\n",
       "      <td>23.0</td>\n",
       "      <td>1085.68</td>\n",
       "    </tr>\n",
       "  </tbody>\n",
       "</table>\n",
       "<p>3000 rows × 19 columns</p>\n",
       "</div>"
      ],
      "text/plain": [
       "        ID  Hour  Temperature(�C)  Humidity(%)  Wind speed (m/s)  \\\n",
       "0     5760     0             -1.3           90               2.0   \n",
       "1     5761     1             -1.8           90               1.6   \n",
       "2     5762     2             -2.2           88               1.4   \n",
       "3     5763     3             -2.9           89               1.3   \n",
       "4     5764     4             -3.6           91               1.2   \n",
       "...    ...   ...              ...          ...               ...   \n",
       "2995  8755    19              4.2           34               2.6   \n",
       "2996  8756    20              3.4           37               2.3   \n",
       "2997  8757    21              2.6           39               0.3   \n",
       "2998  8758    22              2.1           41               1.0   \n",
       "2999  8759    23              1.9           43               1.3   \n",
       "\n",
       "      Visibility (10m)  Dew point temperature(�C)  Solar Radiation (MJ/m2)  \\\n",
       "0                  259                       -2.7                      0.0   \n",
       "1                  263                       -3.2                      0.0   \n",
       "2                  348                       -3.9                      0.0   \n",
       "3                  288                       -4.4                      0.0   \n",
       "4                  241                       -4.8                      0.0   \n",
       "...                ...                        ...                      ...   \n",
       "2995              1894                      -10.3                      0.0   \n",
       "2996              2000                       -9.9                      0.0   \n",
       "2997              1968                       -9.9                      0.0   \n",
       "2998              1859                       -9.8                      0.0   \n",
       "2999              1909                       -9.3                      0.0   \n",
       "\n",
       "      Rainfall(mm)  Snowfall (cm)  Seasons  Holiday  Functioning Day  year  \\\n",
       "0              0.0            2.2        3        1                1  2017   \n",
       "1              0.0            2.2        3        1                1  2017   \n",
       "2              0.0            2.2        3        1                1  2017   \n",
       "3              0.0            2.2        3        1                1  2017   \n",
       "4              0.0            2.2        3        1                1  2017   \n",
       "...            ...            ...      ...      ...              ...   ...   \n",
       "2995           0.0            0.0        0        1                1  2018   \n",
       "2996           0.0            0.0        0        1                1  2018   \n",
       "2997           0.0            0.0        0        1                1  2018   \n",
       "2998           0.0            0.0        0        1                1  2018   \n",
       "2999           0.0            0.0        0        1                1  2018   \n",
       "\n",
       "      month  day  Temp_hour  func_hour        y  \n",
       "0        12   21       -0.0        0.0   188.61  \n",
       "1        12   21       -1.8        1.0   186.07  \n",
       "2        12   21       -4.4        2.0   174.14  \n",
       "3        12   21       -8.7        3.0   103.67  \n",
       "4        12   21      -14.4        4.0    62.83  \n",
       "...     ...  ...        ...        ...      ...  \n",
       "2995     11   30       79.8       19.0   843.39  \n",
       "2996     11   30       68.0       20.0   962.64  \n",
       "2997     11   30       54.6       21.0  1160.94  \n",
       "2998     11   30       46.2       22.0  1072.34  \n",
       "2999     11   30       43.7       23.0  1085.68  \n",
       "\n",
       "[3000 rows x 19 columns]"
      ]
     },
     "execution_count": 28,
     "metadata": {},
     "output_type": "execute_result"
    }
   ],
   "source": [
    "y_test_predicted = rf.predict(test_df.drop(columns =['ID']))\n",
    "test_df['y'] = y_test_predicted\n",
    "test_df"
   ]
  },
  {
   "cell_type": "markdown",
   "id": "9a5a7932",
   "metadata": {
    "papermill": {
     "duration": 0.046949,
     "end_time": "2021-10-02T00:46:06.043146",
     "exception": false,
     "start_time": "2021-10-02T00:46:05.996197",
     "status": "completed"
    },
    "tags": []
   },
   "source": [
    "# > **SUBMISSION**"
   ]
  },
  {
   "cell_type": "code",
   "execution_count": 29,
   "id": "28430f7b",
   "metadata": {
    "execution": {
     "iopub.execute_input": "2021-10-02T00:46:06.144239Z",
     "iopub.status.busy": "2021-10-02T00:46:06.143534Z",
     "iopub.status.idle": "2021-10-02T00:46:06.156715Z",
     "shell.execute_reply": "2021-10-02T00:46:06.157286Z",
     "shell.execute_reply.started": "2021-10-02T00:34:20.710699Z"
    },
    "papermill": {
     "duration": 0.067548,
     "end_time": "2021-10-02T00:46:06.157483",
     "exception": false,
     "start_time": "2021-10-02T00:46:06.089935",
     "status": "completed"
    },
    "tags": []
   },
   "outputs": [],
   "source": [
    "test_df[['ID', 'y']].to_csv('submission3.csv', index=False)"
   ]
  },
  {
   "cell_type": "code",
   "execution_count": null,
   "id": "e652c57d",
   "metadata": {
    "papermill": {
     "duration": 0.04659,
     "end_time": "2021-10-02T00:46:06.251089",
     "exception": false,
     "start_time": "2021-10-02T00:46:06.204499",
     "status": "completed"
    },
    "tags": []
   },
   "outputs": [],
   "source": []
  }
 ],
 "metadata": {
  "kernelspec": {
   "display_name": "Python 3",
   "language": "python",
   "name": "python3"
  },
  "language_info": {
   "codemirror_mode": {
    "name": "ipython",
    "version": 3
   },
   "file_extension": ".py",
   "mimetype": "text/x-python",
   "name": "python",
   "nbconvert_exporter": "python",
   "pygments_lexer": "ipython3",
   "version": "3.7.10"
  },
  "papermill": {
   "default_parameters": {},
   "duration": 23.850867,
   "end_time": "2021-10-02T00:46:07.502003",
   "environment_variables": {},
   "exception": null,
   "input_path": "__notebook__.ipynb",
   "output_path": "__notebook__.ipynb",
   "parameters": {},
   "start_time": "2021-10-02T00:45:43.651136",
   "version": "2.3.3"
  }
 },
 "nbformat": 4,
 "nbformat_minor": 5
}
